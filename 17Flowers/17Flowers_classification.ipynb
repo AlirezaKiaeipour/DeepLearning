{
 "cells": [
  {
   "cell_type": "markdown",
   "metadata": {},
   "source": [
    "## Import Libraries & Load Dataset"
   ]
  },
  {
   "cell_type": "code",
   "execution_count": 1,
   "metadata": {
    "id": "MUQ2TAjVpB3H"
   },
   "outputs": [],
   "source": [
    "from tensorflow.keras.models import Sequential\n",
    "from tensorflow.keras.layers import Dense , Dropout\n",
    "from tensorflow.keras.preprocessing.image import ImageDataGenerator\n",
    "from tensorflow.keras.applications import Xception\n",
    "from tensorflow.keras.callbacks import ModelCheckpoint\n",
    "import matplotlib.pyplot as plt"
   ]
  },
  {
   "cell_type": "markdown",
   "metadata": {},
   "source": [
    "## 17 Flowers Dataset"
   ]
  },
  {
   "cell_type": "code",
   "execution_count": 2,
   "metadata": {
    "id": "5fZIkft_p-Ht"
   },
   "outputs": [],
   "source": [
    "image_generator = ImageDataGenerator(\n",
    "    rescale = 1.0 / 255.0,\n",
    "    shear_range = 0.2,\n",
    "    zoom_range = 0.2,\n",
    "    horizontal_flip = True,\n",
    "    validation_split = 0.2\n",
    ")\n",
    "image_generator_test = ImageDataGenerator(\n",
    "    rescale = 1.0 / 255.0\n",
    ")"
   ]
  },
  {
   "cell_type": "code",
   "execution_count": 3,
   "metadata": {
    "colab": {
     "base_uri": "https://localhost:8080/"
    },
    "id": "cvYaLdbHq220",
    "outputId": "a6cdfd59-5521-4d44-bf4b-b23324d02d7c"
   },
   "outputs": [
    {
     "name": "stdout",
     "output_type": "stream",
     "text": [
      "Found 884 images belonging to 17 classes.\n",
      "Found 204 images belonging to 17 classes.\n",
      "Found 272 images belonging to 17 classes.\n"
     ]
    }
   ],
   "source": [
    "path_train = \"/content/drive/MyDrive/Dataset/Flowers/Train\"\n",
    "path_test = \"/content/drive/MyDrive/Dataset/Flowers/Test\"\n",
    "Train_images = image_generator.flow_from_directory(\n",
    "    path_train,\n",
    "    class_mode = \"categorical\",\n",
    "    batch_size = 32,\n",
    "    target_size = (299,299),\n",
    "    subset = \"training\"\n",
    ")\n",
    "Val_images = image_generator.flow_from_directory(\n",
    "    path_train,\n",
    "    class_mode = \"categorical\",\n",
    "    batch_size = 32,\n",
    "    target_size = (299,299),\n",
    "    subset = \"validation\"\n",
    ")\n",
    "Test_images = image_generator_test.flow_from_directory(\n",
    "    path_test,\n",
    "    class_mode = \"categorical\",\n",
    "    batch_size = 32,\n",
    "    target_size = (299,299)\n",
    ")"
   ]
  },
  {
   "cell_type": "markdown",
   "metadata": {},
   "source": [
    "# Model\n",
    "## Transfer Learning"
   ]
  },
  {
   "cell_type": "markdown",
   "metadata": {},
   "source": [
    "## Xception"
   ]
  },
  {
   "cell_type": "code",
   "execution_count": null,
   "metadata": {
    "id": "Feo8oIeQsMwS"
   },
   "outputs": [],
   "source": [
    "base_model = Xception(weights=\"imagenet\",include_top=False,input_shape=(299,299,3),pooling=\"avg\")\n",
    "base_model.trainable = False"
   ]
  },
  {
   "cell_type": "code",
   "execution_count": 5,
   "metadata": {
    "id": "MRUlIF21s5Jv"
   },
   "outputs": [],
   "source": [
    "model = Sequential()\n",
    "model.add(base_model)\n",
    "model.add(Dense(256,activation=\"relu\"))\n",
    "model.add(Dense(128,activation=\"relu\"))\n",
    "model.add(Dropout(0.5))\n",
    "model.add(Dense(17,activation=\"softmax\"))"
   ]
  },
  {
   "cell_type": "code",
   "execution_count": 6,
   "metadata": {
    "id": "I_6mSeFkumm8"
   },
   "outputs": [],
   "source": [
    "model.compile(optimizer=\"adam\",loss=\"categorical_crossentropy\",metrics=[\"accuracy\"])\n",
    "checkpoint = ModelCheckpoint(\"Flowers.h5\",monitor=\"val_accuracy\",mode=\"max\",save_best_only=True)"
   ]
  },
  {
   "cell_type": "code",
   "execution_count": 7,
   "metadata": {
    "colab": {
     "base_uri": "https://localhost:8080/"
    },
    "id": "DWxpSA8UvJdl",
    "outputId": "2e1c7fb2-8bff-4592-b082-4da4c788355c"
   },
   "outputs": [
    {
     "name": "stdout",
     "output_type": "stream",
     "text": [
      "Epoch 1/10\n",
      "28/28 [==============================] - 741s 26s/step - loss: 2.1541 - accuracy: 0.3518 - val_loss: 1.1466 - val_accuracy: 0.7696\n",
      "Epoch 2/10\n",
      "28/28 [==============================] - 302s 11s/step - loss: 1.0863 - accuracy: 0.6663 - val_loss: 0.7039 - val_accuracy: 0.8137\n",
      "Epoch 3/10\n",
      "28/28 [==============================] - 296s 11s/step - loss: 0.7176 - accuracy: 0.7964 - val_loss: 0.4695 - val_accuracy: 0.8725\n",
      "Epoch 4/10\n",
      "28/28 [==============================] - 294s 11s/step - loss: 0.5450 - accuracy: 0.8281 - val_loss: 0.3525 - val_accuracy: 0.8824\n",
      "Epoch 5/10\n",
      "28/28 [==============================] - 295s 11s/step - loss: 0.4247 - accuracy: 0.8676 - val_loss: 0.3859 - val_accuracy: 0.8971\n",
      "Epoch 6/10\n",
      "28/28 [==============================] - 294s 11s/step - loss: 0.3642 - accuracy: 0.8835 - val_loss: 0.3012 - val_accuracy: 0.9069\n",
      "Epoch 7/10\n",
      "28/28 [==============================] - 296s 11s/step - loss: 0.2479 - accuracy: 0.9287 - val_loss: 0.3152 - val_accuracy: 0.9020\n",
      "Epoch 8/10\n",
      "28/28 [==============================] - 295s 11s/step - loss: 0.2100 - accuracy: 0.9400 - val_loss: 0.2711 - val_accuracy: 0.9167\n",
      "Epoch 9/10\n",
      "28/28 [==============================] - 294s 11s/step - loss: 0.2023 - accuracy: 0.9389 - val_loss: 0.2237 - val_accuracy: 0.9363\n",
      "Epoch 10/10\n",
      "28/28 [==============================] - 289s 10s/step - loss: 0.2055 - accuracy: 0.9344 - val_loss: 0.3073 - val_accuracy: 0.9069\n"
     ]
    }
   ],
   "source": [
    "history = model.fit(Train_images,\n",
    "                    epochs=10,\n",
    "                    validation_data=Val_images,\n",
    "                    callbacks=[checkpoint])"
   ]
  },
  {
   "cell_type": "code",
   "execution_count": 8,
   "metadata": {
    "colab": {
     "base_uri": "https://localhost:8080/",
     "height": 336
    },
    "id": "asa2QPo9vvXS",
    "outputId": "a3e78c40-0cfa-46dc-f590-c02e5ce314fb"
   },
   "outputs": [
    {
     "data": {
      "image/png": "[encoded data removed]",
      "text/plain": [
       "<Figure size 1296x360 with 2 Axes>"
      ]
     },
     "metadata": {
      "needs_background": "light"
     },
     "output_type": "display_data"
    }
   ],
   "source": [
    "fig , (ax1,ax2) = plt.subplots(1,2,figsize=(18,5))\n",
    "ax1.set_title(\"Loss\")\n",
    "ax2.set_title(\"Accuracy\")\n",
    "ax1.plot(history.history[\"loss\"],label=\"Train\",marker=\".\")\n",
    "ax1.plot(history.history[\"val_loss\"],label=\"Test\",marker=\".\")\n",
    "ax2.plot(history.history[\"accuracy\"],label=\"Train\",marker=\".\")\n",
    "ax2.plot(history.history[\"val_accuracy\"],label=\"Test\",marker=\".\")\n",
    "ax1.legend()\n",
    "ax2.legend()\n",
    "plt.show()"
   ]
  },
  {
   "cell_type": "code",
   "execution_count": 9,
   "metadata": {
    "colab": {
     "base_uri": "https://localhost:8080/"
    },
    "id": "zGhzSYiX-FRE",
    "outputId": "94cb90e4-aedd-4500-ce93-7c162d91db1c"
   },
   "outputs": [
    {
     "name": "stdout",
     "output_type": "stream",
     "text": [
      "9/9 [==============================] - 162s 19s/step - loss: 0.4473 - accuracy: 0.8603\n"
     ]
    },
    {
     "data": {
      "text/plain": [
       "[0.4473029375076294, 0.8602941036224365]"
      ]
     },
     "execution_count": 9,
     "metadata": {},
     "output_type": "execute_result"
    }
   ],
   "source": [
    "model.evaluate(Test_images)"
   ]
  }
 ],
 "metadata": {
  "colab": {
   "name": "17Flowers.ipynb",
   "provenance": []
  },
  "kernelspec": {
   "display_name": "Python 3 (ipykernel)",
   "language": "python",
   "name": "python3"
  },
  "language_info": {
   "codemirror_mode": {
    "name": "ipython",
    "version": 3
   },
   "file_extension": ".py",
   "mimetype": "text/x-python",
   "name": "python",
   "nbconvert_exporter": "python",
   "pygments_lexer": "ipython3",
   "version": "3.9.6"
  }
 },
 "nbformat": 4,
 "nbformat_minor": 1
}
