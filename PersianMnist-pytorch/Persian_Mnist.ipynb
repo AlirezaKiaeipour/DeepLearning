{
 "cells": [
  {
   "cell_type": "markdown",
   "metadata": {},
   "source": [
    "## Import Libraries"
   ]
  },
  {
   "cell_type": "code",
   "execution_count": 1,
   "metadata": {
    "execution": {
     "iopub.execute_input": "2022-05-20T05:14:04.307450Z",
     "iopub.status.busy": "2022-05-20T05:14:04.306946Z",
     "iopub.status.idle": "2022-05-20T05:14:06.225476Z",
     "shell.execute_reply": "2022-05-20T05:14:06.224597Z",
     "shell.execute_reply.started": "2022-05-20T05:14:04.307364Z"
    }
   },
   "outputs": [],
   "source": [
    "import torch\n",
    "import torch.nn as nn\n",
    "import torch.nn.functional as F\n",
    "import torchvision\n",
    "from torchvision import transforms\n",
    "from tqdm import tqdm"
   ]
  },
  {
   "cell_type": "markdown",
   "metadata": {},
   "source": [
    "## Load Dataset"
   ]
  },
  {
   "cell_type": "code",
   "execution_count": 2,
   "metadata": {
    "execution": {
     "iopub.execute_input": "2022-05-20T05:14:07.746396Z",
     "iopub.status.busy": "2022-05-20T05:14:07.746098Z",
     "iopub.status.idle": "2022-05-20T05:14:08.078663Z",
     "shell.execute_reply": "2022-05-20T05:14:08.078073Z",
     "shell.execute_reply.started": "2022-05-20T05:14:07.746365Z"
    }
   },
   "outputs": [],
   "source": [
    "transform = torchvision.transforms.Compose([\n",
    "    torchvision.transforms.RandomRotation(10),\n",
    "    torchvision.transforms.Resize((70,70)),\n",
    "    torchvision.transforms.ToTensor(),\n",
    "    torchvision.transforms.Normalize((0.485, 0.456, 0.406), (0.229, 0.224, 0.225))\n",
    "])\n",
    "dataset = torchvision.datasets.ImageFolder(root=\"../input/persian-mnist/MNIST_persian\",transform=transform)\n",
    "\n",
    "train_size = int(0.9 * len(dataset))\n",
    "test_size = len(dataset) - train_size\n",
    "train_dataset, test_dataset = torch.utils.data.random_split(dataset, [train_size, test_size])\n",
    "train = torch.utils.data.DataLoader(train_dataset, batch_size=32, shuffle=True)\n",
    "test = torch.utils.data.DataLoader(test_dataset, batch_size=32, shuffle=False)"
   ]
  },
  {
   "cell_type": "code",
   "execution_count": 8,
   "metadata": {
    "execution": {
     "iopub.execute_input": "2022-05-20T05:16:32.169239Z",
     "iopub.status.busy": "2022-05-20T05:16:32.168962Z",
     "iopub.status.idle": "2022-05-20T05:16:32.182761Z",
     "shell.execute_reply": "2022-05-20T05:16:32.181884Z",
     "shell.execute_reply.started": "2022-05-20T05:16:32.169211Z"
    }
   },
   "outputs": [],
   "source": [
    "class Model(nn.Module):\n",
    "    def __init__(self):\n",
    "        super().__init__()\n",
    "        self.conv1 = nn.Conv2d(3,32,(3,3),(1,1),(1,1))\n",
    "        self.conv2 = nn.Conv2d(32,64,(3,3),(1,1),(1,1))\n",
    "        self.conv3 = nn.Conv2d(64,128,(3,3),(1,1),(1,1))\n",
    "        self.conv4 = nn.Conv2d(128,256,(3,3),(1,1),(1,1))\n",
    "        \n",
    "        self.fully_connect1 = nn.Linear(256*4*4,256)\n",
    "        self.fully_connect2 = nn.Linear(256,128)\n",
    "        self.fully_connect3 = nn.Linear(128,10)\n",
    "        \n",
    "    def forward(self,x):\n",
    "        x = F.relu(self.conv1(x))\n",
    "        x = F.max_pool2d(x,kernel_size=(2,2))\n",
    "        x = F.relu(self.conv2(x))\n",
    "        x = F.max_pool2d(x,kernel_size=(2,2))\n",
    "        x = F.relu(self.conv3(x))\n",
    "        x = F.max_pool2d(x,kernel_size=(2,2))\n",
    "        x = F.relu(self.conv4(x))\n",
    "        x = F.max_pool2d(x,kernel_size=(2,2))\n",
    "        x = torch.flatten(x,start_dim=1)\n",
    "        x = F.relu(self.fully_connect1(x))\n",
    "        x = torch.dropout(x,0.2,train=True)\n",
    "        x = F.relu(self.fully_connect2(x))\n",
    "        x = torch.dropout(x,0.5,train=True)\n",
    "        x = F.softmax(self.fully_connect3(x),dim=1)\n",
    "        \n",
    "        return x"
   ]
  },
  {
   "cell_type": "code",
   "execution_count": 9,
   "metadata": {
    "execution": {
     "iopub.execute_input": "2022-05-20T05:16:33.682023Z",
     "iopub.status.busy": "2022-05-20T05:16:33.681716Z",
     "iopub.status.idle": "2022-05-20T05:16:33.701255Z",
     "shell.execute_reply": "2022-05-20T05:16:33.700438Z",
     "shell.execute_reply.started": "2022-05-20T05:16:33.681979Z"
    }
   },
   "outputs": [],
   "source": [
    "device = torch.device(\"cuda\" if torch.cuda.is_available() else \"cpu\")\n",
    "model = Model().to(device)\n",
    "model.train = True"
   ]
  },
  {
   "cell_type": "code",
   "execution_count": 10,
   "metadata": {
    "execution": {
     "iopub.execute_input": "2022-05-20T05:16:34.260109Z",
     "iopub.status.busy": "2022-05-20T05:16:34.259831Z",
     "iopub.status.idle": "2022-05-20T05:16:34.264085Z",
     "shell.execute_reply": "2022-05-20T05:16:34.263476Z",
     "shell.execute_reply.started": "2022-05-20T05:16:34.260076Z"
    }
   },
   "outputs": [],
   "source": [
    "optimizer = torch.optim.Adam(model.parameters(),lr=0.001)\n",
    "loss_function = nn.CrossEntropyLoss()"
   ]
  },
  {
   "cell_type": "code",
   "execution_count": 11,
   "metadata": {
    "execution": {
     "iopub.execute_input": "2022-05-20T05:16:34.862283Z",
     "iopub.status.busy": "2022-05-20T05:16:34.861802Z",
     "iopub.status.idle": "2022-05-20T05:16:34.866285Z",
     "shell.execute_reply": "2022-05-20T05:16:34.865554Z",
     "shell.execute_reply.started": "2022-05-20T05:16:34.862223Z"
    }
   },
   "outputs": [],
   "source": [
    "def accuracy(preds,labels):\n",
    "    _,pred_max = torch.max(preds,1)\n",
    "    acc = torch.sum(pred_max==labels,dtype=torch.float64) / len(preds)\n",
    "    \n",
    "    return acc"
   ]
  },
  {
   "cell_type": "code",
   "execution_count": 12,
   "metadata": {
    "execution": {
     "iopub.execute_input": "2022-05-20T05:16:35.400241Z",
     "iopub.status.busy": "2022-05-20T05:16:35.399946Z",
     "iopub.status.idle": "2022-05-20T05:21:03.797466Z",
     "shell.execute_reply": "2022-05-20T05:21:03.796562Z",
     "shell.execute_reply.started": "2022-05-20T05:16:35.400211Z"
    }
   },
   "outputs": [
    {
     "name": "stderr",
     "output_type": "stream",
     "text": [
      "100%|██████████| 38/38 [00:13<00:00,  2.91it/s]\n"
     ]
    },
    {
     "name": "stdout",
     "output_type": "stream",
     "text": [
      "Epochs: 1, Accuracy: 0.09950657894736842, Loss: 2.3028862476348877\n",
      "Epochs: 1, Val_Accuracy: 0.1015625, Val_Loss: 2.303030014038086\n"
     ]
    },
    {
     "name": "stderr",
     "output_type": "stream",
     "text": [
      "100%|██████████| 38/38 [00:08<00:00,  4.27it/s]\n"
     ]
    },
    {
     "name": "stdout",
     "output_type": "stream",
     "text": [
      "Epochs: 2, Accuracy: 0.10115131578947369, Loss: 2.302900791168213\n",
      "Epochs: 2, Val_Accuracy: 0.1015625, Val_Loss: 2.3029346466064453\n"
     ]
    },
    {
     "name": "stderr",
     "output_type": "stream",
     "text": [
      "100%|██████████| 38/38 [00:07<00:00,  4.91it/s]\n"
     ]
    },
    {
     "name": "stdout",
     "output_type": "stream",
     "text": [
      "Epochs: 3, Accuracy: 0.10608552631578948, Loss: 2.3024017810821533\n",
      "Epochs: 3, Val_Accuracy: 0.17708333333333334, Val_Loss: 2.3000500202178955\n"
     ]
    },
    {
     "name": "stderr",
     "output_type": "stream",
     "text": [
      "100%|██████████| 38/38 [00:08<00:00,  4.75it/s]\n"
     ]
    },
    {
     "name": "stdout",
     "output_type": "stream",
     "text": [
      "Epochs: 4, Accuracy: 0.22532894736842105, Loss: 2.2115023136138916\n",
      "Epochs: 4, Val_Accuracy: 0.3619791666666667, Val_Loss: 2.075199604034424\n"
     ]
    },
    {
     "name": "stderr",
     "output_type": "stream",
     "text": [
      "100%|██████████| 38/38 [00:08<00:00,  4.64it/s]\n"
     ]
    },
    {
     "name": "stdout",
     "output_type": "stream",
     "text": [
      "Epochs: 5, Accuracy: 0.4152960526315789, Loss: 2.048793315887451\n",
      "Epochs: 5, Val_Accuracy: 0.5234375, Val_Loss: 1.9349243640899658\n"
     ]
    },
    {
     "name": "stderr",
     "output_type": "stream",
     "text": [
      "100%|██████████| 38/38 [00:07<00:00,  4.94it/s]\n"
     ]
    },
    {
     "name": "stdout",
     "output_type": "stream",
     "text": [
      "Epochs: 6, Accuracy: 0.5493421052631579, Loss: 1.9122942686080933\n",
      "Epochs: 6, Val_Accuracy: 0.5911458333333334, Val_Loss: 1.8665812015533447\n"
     ]
    },
    {
     "name": "stderr",
     "output_type": "stream",
     "text": [
      "100%|██████████| 38/38 [00:07<00:00,  4.95it/s]\n"
     ]
    },
    {
     "name": "stdout",
     "output_type": "stream",
     "text": [
      "Epochs: 7, Accuracy: 0.5731907894736842, Loss: 1.8822224140167236\n",
      "Epochs: 7, Val_Accuracy: 0.5651041666666666, Val_Loss: 1.9002069234848022\n"
     ]
    },
    {
     "name": "stderr",
     "output_type": "stream",
     "text": [
      "100%|██████████| 38/38 [00:07<00:00,  4.86it/s]\n"
     ]
    },
    {
     "name": "stdout",
     "output_type": "stream",
     "text": [
      "Epochs: 8, Accuracy: 0.6208881578947368, Loss: 1.840102195739746\n",
      "Epochs: 8, Val_Accuracy: 0.6432291666666666, Val_Loss: 1.8200523853302002\n"
     ]
    },
    {
     "name": "stderr",
     "output_type": "stream",
     "text": [
      "100%|██████████| 38/38 [00:08<00:00,  4.55it/s]\n"
     ]
    },
    {
     "name": "stdout",
     "output_type": "stream",
     "text": [
      "Epochs: 9, Accuracy: 0.6875, Loss: 1.7725944519042969\n",
      "Epochs: 9, Val_Accuracy: 0.7708333333333334, Val_Loss: 1.6999225616455078\n"
     ]
    },
    {
     "name": "stderr",
     "output_type": "stream",
     "text": [
      "100%|██████████| 38/38 [00:07<00:00,  4.82it/s]\n"
     ]
    },
    {
     "name": "stdout",
     "output_type": "stream",
     "text": [
      "Epochs: 10, Accuracy: 0.7335526315789473, Loss: 1.7285302877426147\n",
      "Epochs: 10, Val_Accuracy: 0.75, Val_Loss: 1.711547613143921\n"
     ]
    },
    {
     "name": "stderr",
     "output_type": "stream",
     "text": [
      "100%|██████████| 38/38 [00:07<00:00,  4.84it/s]\n"
     ]
    },
    {
     "name": "stdout",
     "output_type": "stream",
     "text": [
      "Epochs: 11, Accuracy: 0.7483552631578947, Loss: 1.7125781774520874\n",
      "Epochs: 11, Val_Accuracy: 0.8255208333333334, Val_Loss: 1.6393795013427734\n"
     ]
    },
    {
     "name": "stderr",
     "output_type": "stream",
     "text": [
      "100%|██████████| 38/38 [00:07<00:00,  4.79it/s]\n"
     ]
    },
    {
     "name": "stdout",
     "output_type": "stream",
     "text": [
      "Epochs: 12, Accuracy: 0.7960526315789473, Loss: 1.671675682067871\n",
      "Epochs: 12, Val_Accuracy: 0.8619791666666666, Val_Loss: 1.610640287399292\n"
     ]
    },
    {
     "name": "stderr",
     "output_type": "stream",
     "text": [
      "100%|██████████| 38/38 [00:08<00:00,  4.56it/s]\n"
     ]
    },
    {
     "name": "stdout",
     "output_type": "stream",
     "text": [
      "Epochs: 13, Accuracy: 0.8092105263157895, Loss: 1.6512322425842285\n",
      "Epochs: 13, Val_Accuracy: 0.8776041666666666, Val_Loss: 1.5967243909835815\n"
     ]
    },
    {
     "name": "stderr",
     "output_type": "stream",
     "text": [
      "100%|██████████| 38/38 [00:07<00:00,  4.84it/s]\n"
     ]
    },
    {
     "name": "stdout",
     "output_type": "stream",
     "text": [
      "Epochs: 14, Accuracy: 0.8396381578947368, Loss: 1.6253942251205444\n",
      "Epochs: 14, Val_Accuracy: 0.8411458333333334, Val_Loss: 1.6282970905303955\n"
     ]
    },
    {
     "name": "stderr",
     "output_type": "stream",
     "text": [
      "100%|██████████| 38/38 [00:07<00:00,  4.91it/s]\n"
     ]
    },
    {
     "name": "stdout",
     "output_type": "stream",
     "text": [
      "Epochs: 15, Accuracy: 0.8544407894736842, Loss: 1.6110210418701172\n",
      "Epochs: 15, Val_Accuracy: 0.8828125, Val_Loss: 1.5685027837753296\n"
     ]
    },
    {
     "name": "stderr",
     "output_type": "stream",
     "text": [
      "100%|██████████| 38/38 [00:07<00:00,  4.80it/s]\n"
     ]
    },
    {
     "name": "stdout",
     "output_type": "stream",
     "text": [
      "Epochs: 16, Accuracy: 0.8914473684210527, Loss: 1.5790038108825684\n",
      "Epochs: 16, Val_Accuracy: 0.9661458333333334, Val_Loss: 1.5049437284469604\n"
     ]
    },
    {
     "name": "stderr",
     "output_type": "stream",
     "text": [
      "100%|██████████| 38/38 [00:08<00:00,  4.40it/s]\n"
     ]
    },
    {
     "name": "stdout",
     "output_type": "stream",
     "text": [
      "Epochs: 17, Accuracy: 0.9029605263157895, Loss: 1.559190273284912\n",
      "Epochs: 17, Val_Accuracy: 0.9166666666666666, Val_Loss: 1.5474236011505127\n"
     ]
    },
    {
     "name": "stderr",
     "output_type": "stream",
     "text": [
      "100%|██████████| 38/38 [00:08<00:00,  4.68it/s]\n"
     ]
    },
    {
     "name": "stdout",
     "output_type": "stream",
     "text": [
      "Epochs: 18, Accuracy: 0.912828947368421, Loss: 1.5523298978805542\n",
      "Epochs: 18, Val_Accuracy: 0.9270833333333334, Val_Loss: 1.5277385711669922\n"
     ]
    },
    {
     "name": "stderr",
     "output_type": "stream",
     "text": [
      "100%|██████████| 38/38 [00:08<00:00,  4.38it/s]\n"
     ]
    },
    {
     "name": "stdout",
     "output_type": "stream",
     "text": [
      "Epochs: 19, Accuracy: 0.9235197368421053, Loss: 1.53855299949646\n",
      "Epochs: 19, Val_Accuracy: 0.9036458333333334, Val_Loss: 1.56006920337677\n"
     ]
    },
    {
     "name": "stderr",
     "output_type": "stream",
     "text": [
      "100%|██████████| 38/38 [00:08<00:00,  4.31it/s]\n"
     ]
    },
    {
     "name": "stdout",
     "output_type": "stream",
     "text": [
      "Epochs: 20, Accuracy: 0.9202302631578947, Loss: 1.5403207540512085\n",
      "Epochs: 20, Val_Accuracy: 0.9270833333333334, Val_Loss: 1.5297139883041382\n"
     ]
    },
    {
     "name": "stderr",
     "output_type": "stream",
     "text": [
      "100%|██████████| 38/38 [00:08<00:00,  4.37it/s]\n"
     ]
    },
    {
     "name": "stdout",
     "output_type": "stream",
     "text": [
      "Epochs: 21, Accuracy: 0.9210526315789473, Loss: 1.5420230627059937\n",
      "Epochs: 21, Val_Accuracy: 0.96875, Val_Loss: 1.4934837818145752\n"
     ]
    },
    {
     "name": "stderr",
     "output_type": "stream",
     "text": [
      "100%|██████████| 38/38 [00:08<00:00,  4.43it/s]\n"
     ]
    },
    {
     "name": "stdout",
     "output_type": "stream",
     "text": [
      "Epochs: 22, Accuracy: 0.9177631578947368, Loss: 1.5455228090286255\n",
      "Epochs: 22, Val_Accuracy: 0.9348958333333334, Val_Loss: 1.5304040908813477\n"
     ]
    },
    {
     "name": "stderr",
     "output_type": "stream",
     "text": [
      "100%|██████████| 38/38 [00:08<00:00,  4.45it/s]\n"
     ]
    },
    {
     "name": "stdout",
     "output_type": "stream",
     "text": [
      "Epochs: 23, Accuracy: 0.9276315789473685, Loss: 1.534140944480896\n",
      "Epochs: 23, Val_Accuracy: 0.9036458333333334, Val_Loss: 1.5513995885849\n"
     ]
    },
    {
     "name": "stderr",
     "output_type": "stream",
     "text": [
      "100%|██████████| 38/38 [00:09<00:00,  4.06it/s]\n"
     ]
    },
    {
     "name": "stdout",
     "output_type": "stream",
     "text": [
      "Epochs: 24, Accuracy: 0.9226973684210527, Loss: 1.537224531173706\n",
      "Epochs: 24, Val_Accuracy: 0.9505208333333334, Val_Loss: 1.5141313076019287\n"
     ]
    },
    {
     "name": "stderr",
     "output_type": "stream",
     "text": [
      "100%|██████████| 38/38 [00:08<00:00,  4.29it/s]\n"
     ]
    },
    {
     "name": "stdout",
     "output_type": "stream",
     "text": [
      "Epochs: 25, Accuracy: 0.921875, Loss: 1.5410490036010742\n",
      "Epochs: 25, Val_Accuracy: 0.9739583333333334, Val_Loss: 1.4864944219589233\n"
     ]
    },
    {
     "name": "stderr",
     "output_type": "stream",
     "text": [
      "100%|██████████| 38/38 [00:09<00:00,  4.21it/s]\n"
     ]
    },
    {
     "name": "stdout",
     "output_type": "stream",
     "text": [
      "Epochs: 26, Accuracy: 0.9564144736842105, Loss: 1.5060187578201294\n",
      "Epochs: 26, Val_Accuracy: 0.9583333333333334, Val_Loss: 1.5059019327163696\n"
     ]
    },
    {
     "name": "stderr",
     "output_type": "stream",
     "text": [
      "100%|██████████| 38/38 [00:09<00:00,  4.18it/s]\n"
     ]
    },
    {
     "name": "stdout",
     "output_type": "stream",
     "text": [
      "Epochs: 27, Accuracy: 0.9333881578947368, Loss: 1.5253266096115112\n",
      "Epochs: 27, Val_Accuracy: 0.9192708333333334, Val_Loss: 1.5350865125656128\n"
     ]
    },
    {
     "name": "stderr",
     "output_type": "stream",
     "text": [
      "100%|██████████| 38/38 [00:09<00:00,  4.10it/s]\n"
     ]
    },
    {
     "name": "stdout",
     "output_type": "stream",
     "text": [
      "Epochs: 28, Accuracy: 0.9366776315789473, Loss: 1.5246905088424683\n",
      "Epochs: 28, Val_Accuracy: 0.984375, Val_Loss: 1.4792197942733765\n"
     ]
    },
    {
     "name": "stderr",
     "output_type": "stream",
     "text": [
      "100%|██████████| 38/38 [00:08<00:00,  4.41it/s]\n"
     ]
    },
    {
     "name": "stdout",
     "output_type": "stream",
     "text": [
      "Epochs: 29, Accuracy: 0.9564144736842105, Loss: 1.5050941705703735\n",
      "Epochs: 29, Val_Accuracy: 0.96875, Val_Loss: 1.4970831871032715\n"
     ]
    },
    {
     "name": "stderr",
     "output_type": "stream",
     "text": [
      "100%|██████████| 38/38 [00:08<00:00,  4.23it/s]\n"
     ]
    },
    {
     "name": "stdout",
     "output_type": "stream",
     "text": [
      "Epochs: 30, Accuracy: 0.953125, Loss: 1.5100843906402588\n",
      "Epochs: 30, Val_Accuracy: 0.9609375, Val_Loss: 1.5009663105010986\n"
     ]
    }
   ],
   "source": [
    "for epoch in range(30):\n",
    "    train_loss = 0.0\n",
    "    train_acc = 0.0\n",
    "    test_loss = 0.0\n",
    "    test_acc = 0.0\n",
    "    for image, label in tqdm(train):\n",
    "        image.to(device)\n",
    "        label.to(device)\n",
    "        optimizer.zero_grad()\n",
    "        \n",
    "        predict = model(image)\n",
    "        loss = loss_function(predict,label)\n",
    "        loss.backward()\n",
    "        optimizer.step()\n",
    "        \n",
    "        train_loss += loss\n",
    "        train_acc += accuracy(predict,label)\n",
    "    \n",
    "    for image, label in test:\n",
    "        image.to(device)\n",
    "        label.to(device)\n",
    "        predict = model(image)\n",
    "        loss = loss_function(predict,label)\n",
    "        \n",
    "        test_loss += loss\n",
    "        test_acc += accuracy(predict,label)\n",
    "    \n",
    "    total_train_loss = train_loss / len(train)\n",
    "    total_train_acc = train_acc / len(train)\n",
    "    total_test_loss = test_loss / len(test)\n",
    "    total_test_acc = test_acc / len(test)\n",
    "    \n",
    "    print(f\"Epochs: {epoch+1}, Accuracy: {total_train_acc}, Loss: {total_train_loss}\")\n",
    "    print(f\"Epochs: {epoch+1}, Val_Accuracy: {total_test_acc}, Val_Loss: {total_test_loss}\")"
   ]
  },
  {
   "cell_type": "code",
   "execution_count": 13,
   "metadata": {
    "execution": {
     "iopub.execute_input": "2022-05-20T05:22:17.955076Z",
     "iopub.status.busy": "2022-05-20T05:22:17.954522Z",
     "iopub.status.idle": "2022-05-20T05:22:17.972002Z",
     "shell.execute_reply": "2022-05-20T05:22:17.971202Z",
     "shell.execute_reply.started": "2022-05-20T05:22:17.955023Z"
    }
   },
   "outputs": [],
   "source": [
    "torch.save(model.state_dict(),\"weights.pth\")"
   ]
  }
 ],
 "metadata": {
  "kernelspec": {
   "display_name": "Python 3 (ipykernel)",
   "language": "python",
   "name": "python3"
  },
  "language_info": {
   "codemirror_mode": {
    "name": "ipython",
    "version": 3
   },
   "file_extension": ".py",
   "mimetype": "text/x-python",
   "name": "python",
   "nbconvert_exporter": "python",
   "pygments_lexer": "ipython3",
   "version": "3.9.6"
  }
 },
 "nbformat": 4,
 "nbformat_minor": 4
}
