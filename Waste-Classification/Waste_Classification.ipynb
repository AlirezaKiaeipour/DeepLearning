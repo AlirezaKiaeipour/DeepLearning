{
 "cells": [
  {
   "cell_type": "markdown",
   "metadata": {},
   "source": [
    "## Import Libraries & Load Dataset"
   ]
  },
  {
   "cell_type": "code",
   "execution_count": 1,
   "metadata": {
    "id": "p6aItRADsNa0"
   },
   "outputs": [],
   "source": [
    "from tensorflow.keras.models import Sequential\n",
    "from tensorflow.keras.layers import Dense, Flatten, Dropout\n",
    "from tensorflow.keras.preprocessing.image import ImageDataGenerator\n",
    "from tensorflow.keras.preprocessing import image_dataset_from_directory\n",
    "from tensorflow.keras.applications import Xception\n",
    "from tensorflow.keras.callbacks import ModelCheckpoint \n",
    "import matplotlib.pyplot as plt"
   ]
  },
  {
   "cell_type": "markdown",
   "metadata": {},
   "source": [
    "## Waste Dataset"
   ]
  },
  {
   "cell_type": "code",
   "execution_count": 2,
   "metadata": {
    "id": "5--OYaZpvIZw"
   },
   "outputs": [],
   "source": [
    "image_generator = ImageDataGenerator(\n",
    "    rescale = 1.0 / 255.0,\n",
    "    zoom_range = 0.2,\n",
    "    shear_range = 0.2,\n",
    "    horizontal_flip = True,\n",
    "    vertical_flip = True,\n",
    "    rotation_range = 10,\n",
    "    validation_split = 0.2\n",
    ")\n",
    "image_generator_test = ImageDataGenerator(\n",
    "    rescale = 1.0 / 255.0\n",
    ")"
   ]
  },
  {
   "cell_type": "code",
   "execution_count": 3,
   "metadata": {
    "colab": {
     "base_uri": "https://localhost:8080/"
    },
    "id": "oLk0nrNcvvYq",
    "outputId": "c93d1693-952c-4a49-f1ba-23754407d67b"
   },
   "outputs": [
    {
     "name": "stdout",
     "output_type": "stream",
     "text": [
      "Found 15353 images belonging to 2 classes.\n",
      "Found 3837 images belonging to 2 classes.\n",
      "Found 2513 images belonging to 2 classes.\n"
     ]
    }
   ],
   "source": [
    "path_train = \"/content/drive/MyDrive/Dataset/Waste Classification data/DATASET/TRAIN\"\n",
    "path_test = \"/content/drive/MyDrive/Dataset/Waste Classification data/DATASET/TEST\"\n",
    "Train = image_generator.flow_from_directory(\n",
    "    path_train,\n",
    "    class_mode = \"categorical\",\n",
    "    batch_size = 32,\n",
    "    target_size = (299,299),\n",
    "    subset = \"training\"\n",
    ")\n",
    "Val = image_generator.flow_from_directory(\n",
    "    path_train,\n",
    "    class_mode = \"categorical\",\n",
    "    batch_size = 32,\n",
    "    target_size = (299,299),\n",
    "    subset = \"validation\"\n",
    ")\n",
    "Test = image_generator_test.flow_from_directory(\n",
    "    path_test,\n",
    "    class_mode = \"categorical\",\n",
    "    batch_size = 32,\n",
    "    target_size = (299,299),\n",
    ")"
   ]
  },
  {
   "cell_type": "markdown",
   "metadata": {},
   "source": [
    "# Model\n",
    "## Transfer Learning"
   ]
  },
  {
   "cell_type": "markdown",
   "metadata": {},
   "source": [
    "## Xception"
   ]
  },
  {
   "cell_type": "code",
   "execution_count": 5,
   "metadata": {
    "id": "c9G7wIKbbAej"
   },
   "outputs": [],
   "source": [
    "xception_model = Xception(weights=\"imagenet\",input_shape=(299,299,3),include_top=False)\n",
    "xception_model.trainable = False"
   ]
  },
  {
   "cell_type": "code",
   "execution_count": 6,
   "metadata": {
    "id": "KIlx5UbTB0Sv"
   },
   "outputs": [],
   "source": [
    "model = Sequential()\n",
    "model.add(xception_model)\n",
    "model.add(Flatten())\n",
    "model.add(Dense(512,activation=\"relu\"))\n",
    "model.add(Dense(256,activation=\"relu\"))\n",
    "model.add(Dense(128,activation=\"relu\"))\n",
    "model.add(Dropout(0.5))\n",
    "model.add(Dense(2,activation=\"softmax\"))"
   ]
  },
  {
   "cell_type": "code",
   "execution_count": 7,
   "metadata": {
    "colab": {
     "base_uri": "https://localhost:8080/"
    },
    "id": "le4mz8ClExhY",
    "outputId": "e8e02f2c-44c6-4041-9621-d5d3d37616b4"
   },
   "outputs": [
    {
     "name": "stdout",
     "output_type": "stream",
     "text": [
      "Model: \"sequential\"\n",
      "_________________________________________________________________\n",
      " Layer (type)                Output Shape              Param #   \n",
      "=================================================================\n",
      " xception (Functional)       (None, 10, 10, 2048)      20861480  \n",
      "                                                                 \n",
      " flatten (Flatten)           (None, 204800)            0         \n",
      "                                                                 \n",
      " dense (Dense)               (None, 512)               104858112 \n",
      "                                                                 \n",
      " dense_1 (Dense)             (None, 256)               131328    \n",
      "                                                                 \n",
      " dense_2 (Dense)             (None, 128)               32896     \n",
      "                                                                 \n",
      " dropout (Dropout)           (None, 128)               0         \n",
      "                                                                 \n",
      " dense_3 (Dense)             (None, 2)                 258       \n",
      "                                                                 \n",
      "=================================================================\n",
      "Total params: 125,884,074\n",
      "Trainable params: 105,022,594\n",
      "Non-trainable params: 20,861,480\n",
      "_________________________________________________________________\n"
     ]
    }
   ],
   "source": [
    "model.summary()"
   ]
  },
  {
   "cell_type": "code",
   "execution_count": 8,
   "metadata": {
    "id": "4n8lM5Y-C8Un"
   },
   "outputs": [],
   "source": [
    "model.compile(optimizer=\"adam\",loss=\"categorical_crossentropy\",metrics=[\"accuracy\"])\n",
    "checkpoint = ModelCheckpoint(\"Waste_model.h5\",monitor=\"val_accuracy\",mode=\"max\",save_best_only=True)"
   ]
  },
  {
   "cell_type": "code",
   "execution_count": 9,
   "metadata": {
    "colab": {
     "base_uri": "https://localhost:8080/"
    },
    "id": "5AK-AQONEN6s",
    "outputId": "bb2a2c7c-7ad8-4dfc-f4ae-e989b0498564"
   },
   "outputs": [
    {
     "name": "stdout",
     "output_type": "stream",
     "text": [
      "Epoch 1/10\n",
      "480/480 [==============================] - 571s 1s/step - loss: 0.6884 - accuracy: 0.8946 - val_loss: 0.1744 - val_accuracy: 0.9382\n",
      "Epoch 2/10\n",
      "480/480 [==============================] - 550s 1s/step - loss: 0.1844 - accuracy: 0.9341 - val_loss: 0.1717 - val_accuracy: 0.9434\n",
      "Epoch 3/10\n",
      "480/480 [==============================] - 553s 1s/step - loss: 0.1646 - accuracy: 0.9446 - val_loss: 0.1414 - val_accuracy: 0.9531\n",
      "Epoch 4/10\n",
      "480/480 [==============================] - 548s 1s/step - loss: 0.1393 - accuracy: 0.9483 - val_loss: 0.1409 - val_accuracy: 0.9505\n",
      "Epoch 5/10\n",
      "480/480 [==============================] - 546s 1s/step - loss: 0.1378 - accuracy: 0.9515 - val_loss: 0.2286 - val_accuracy: 0.9156\n",
      "Epoch 6/10\n",
      "480/480 [==============================] - 549s 1s/step - loss: 0.1226 - accuracy: 0.9565 - val_loss: 0.1611 - val_accuracy: 0.9476\n",
      "Epoch 7/10\n",
      "480/480 [==============================] - 543s 1s/step - loss: 0.1236 - accuracy: 0.9575 - val_loss: 0.2222 - val_accuracy: 0.9299\n",
      "Epoch 8/10\n",
      "480/480 [==============================] - 540s 1s/step - loss: 0.1111 - accuracy: 0.9609 - val_loss: 0.1784 - val_accuracy: 0.9494\n",
      "Epoch 9/10\n",
      "480/480 [==============================] - 540s 1s/step - loss: 0.1186 - accuracy: 0.9594 - val_loss: 0.1860 - val_accuracy: 0.9429\n",
      "Epoch 10/10\n",
      "480/480 [==============================] - 543s 1s/step - loss: 0.1041 - accuracy: 0.9663 - val_loss: 0.2681 - val_accuracy: 0.9135\n"
     ]
    }
   ],
   "source": [
    "history = model.fit(Train,\n",
    "                    epochs=10,\n",
    "                    validation_data=Val,\n",
    "                    callbacks=[checkpoint])"
   ]
  },
  {
   "cell_type": "code",
   "execution_count": 10,
   "metadata": {
    "colab": {
     "base_uri": "https://localhost:8080/",
     "height": 336
    },
    "id": "wHwIhMU6E2HJ",
    "outputId": "7ba8567b-4950-45ab-ac67-c6921b09b372"
   },
   "outputs": [
    {
     "data": {
      "image/png": "[encoded data removed]",
      "text/plain": [
       "<Figure size 1296x360 with 2 Axes>"
      ]
     },
     "metadata": {
      "needs_background": "light"
     },
     "output_type": "display_data"
    }
   ],
   "source": [
    "fig , (ax1,ax2) = plt.subplots(1,2,figsize=(18,5))\n",
    "ax1.set_title(\"Loss\")\n",
    "ax2.set_title(\"Accuracy\")\n",
    "ax1.plot(history.history[\"loss\"],label=\"Train\",marker=\".\")\n",
    "ax1.plot(history.history[\"val_loss\"],label=\"Test\",marker=\".\")\n",
    "ax2.plot(history.history[\"accuracy\"],label=\"Train\",marker=\".\")\n",
    "ax2.plot(history.history[\"val_accuracy\"],label=\"Test\",marker=\".\")\n",
    "ax1.legend()\n",
    "ax2.legend()\n",
    "plt.show()\n"
   ]
  },
  {
   "cell_type": "code",
   "execution_count": 11,
   "metadata": {
    "colab": {
     "base_uri": "https://localhost:8080/"
    },
    "id": "W2zk1fJ_SbsH",
    "outputId": "7ebdd500-7f26-4d50-f9af-b423e20a2346"
   },
   "outputs": [
    {
     "name": "stdout",
     "output_type": "stream",
     "text": [
      "79/79 [==============================] - 43s 537ms/step - loss: 0.3753 - accuracy: 0.9113\n"
     ]
    },
    {
     "data": {
      "text/plain": [
       "[0.3753199279308319, 0.9112614393234253]"
      ]
     },
     "execution_count": 11,
     "metadata": {},
     "output_type": "execute_result"
    }
   ],
   "source": [
    "model.evaluate(Test)"
   ]
  }
 ],
 "metadata": {
  "accelerator": "GPU",
  "colab": {
   "collapsed_sections": [],
   "name": "Waste_Classification.ipynb",
   "provenance": []
  },
  "kernelspec": {
   "display_name": "Python 3 (ipykernel)",
   "language": "python",
   "name": "python3"
  },
  "language_info": {
   "codemirror_mode": {
    "name": "ipython",
    "version": 3
   },
   "file_extension": ".py",
   "mimetype": "text/x-python",
   "name": "python",
   "nbconvert_exporter": "python",
   "pygments_lexer": "ipython3",
   "version": "3.9.6"
  }
 },
 "nbformat": 4,
 "nbformat_minor": 1
}
