{
 "cells": [
  {
   "cell_type": "markdown",
   "metadata": {},
   "source": [
    "## Import Libraries"
   ]
  },
  {
   "cell_type": "code",
   "execution_count": 1,
   "metadata": {
    "execution": {
     "iopub.execute_input": "2022-06-01T09:13:18.554289Z",
     "iopub.status.busy": "2022-06-01T09:13:18.553851Z",
     "iopub.status.idle": "2022-06-01T09:13:21.030616Z",
     "shell.execute_reply": "2022-06-01T09:13:21.029549Z",
     "shell.execute_reply.started": "2022-06-01T09:13:18.554195Z"
    }
   },
   "outputs": [],
   "source": [
    "import torch\n",
    "import torch.nn as nn\n",
    "import torch.nn.functional as F\n",
    "import torchvision\n",
    "import torchvision.transforms as transforms\n",
    "from tqdm import tqdm"
   ]
  },
  {
   "cell_type": "markdown",
   "metadata": {},
   "source": [
    "## Load Dataset"
   ]
  },
  {
   "cell_type": "code",
   "execution_count": 2,
   "metadata": {
    "execution": {
     "iopub.execute_input": "2022-06-01T09:13:21.034853Z",
     "iopub.status.busy": "2022-06-01T09:13:21.033491Z",
     "iopub.status.idle": "2022-06-01T09:13:21.395451Z",
     "shell.execute_reply": "2022-06-01T09:13:21.394447Z",
     "shell.execute_reply.started": "2022-06-01T09:13:21.034805Z"
    },
    "scrolled": true
   },
   "outputs": [
    {
     "name": "stderr",
     "output_type": "stream",
     "text": [
      "/opt/conda/lib/python3.7/site-packages/torch/utils/data/dataloader.py:490: UserWarning: This DataLoader will create 4 worker processes in total. Our suggested max number of worker in current system is 2, which is smaller than what this DataLoader is going to create. Please be aware that excessive worker creation might get DataLoader running slow or even freeze, lower the worker number to avoid potential slowness/freeze if necessary.\n",
      "  cpuset_checked))\n"
     ]
    }
   ],
   "source": [
    "transform = transforms.Compose([\n",
    "    transforms.RandomRotation(10),\n",
    "    transforms.Resize((224,224)),\n",
    "    transforms.ToTensor(),\n",
    "    transforms.Normalize((0.485, 0.456, 0.406), (0.229, 0.224, 0.225))\n",
    "])\n",
    "dataset = torchvision.datasets.ImageFolder(root=\"../input/persian-mnist/MNIST_persian\",transform=transform)\n",
    "train_size = int(0.9 * len(dataset))\n",
    "test_size = len(dataset) - train_size\n",
    "train_dataset, test_dataset = torch.utils.data.random_split(dataset,[train_size,test_size])\n",
    "train = torch.utils.data.DataLoader(train_dataset,batch_size=32,shuffle=True,num_workers=4)\n",
    "test = torch.utils.data.DataLoader(test_dataset,batch_size=32,shuffle=False,num_workers=4)"
   ]
  },
  {
   "cell_type": "markdown",
   "metadata": {},
   "source": [
    "## Transfer Learning\n",
    "\n",
    "### Resnet152"
   ]
  },
  {
   "cell_type": "code",
   "execution_count": 3,
   "metadata": {
    "execution": {
     "iopub.execute_input": "2022-06-01T09:13:21.397650Z",
     "iopub.status.busy": "2022-06-01T09:13:21.396953Z",
     "iopub.status.idle": "2022-06-01T09:13:25.517136Z",
     "shell.execute_reply": "2022-06-01T09:13:25.515922Z",
     "shell.execute_reply.started": "2022-06-01T09:13:21.397591Z"
    }
   },
   "outputs": [
    {
     "name": "stderr",
     "output_type": "stream",
     "text": [
      "Downloading: \"https://download.pytorch.org/models/resnet152-394f9c45.pth\" to /root/.cache/torch/hub/checkpoints/resnet152-394f9c45.pth\n"
     ]
    },
    {
     "data": {
      "application/vnd.jupyter.widget-view+json": {
       "model_id": "ee089299dd384f34878d41cf5332dc4d",
       "version_major": 2,
       "version_minor": 0
      },
      "text/plain": [
       "  0%|          | 0.00/230M [00:00<?, ?B/s]"
      ]
     },
     "metadata": {},
     "output_type": "display_data"
    }
   ],
   "source": [
    "device = torch.device(\"cuda\" if torch.cuda.is_available() else \"cpu\")\n",
    "model = torchvision.models.resnet152(pretrained=True)"
   ]
  },
  {
   "cell_type": "code",
   "execution_count": 4,
   "metadata": {
    "execution": {
     "iopub.execute_input": "2022-06-01T09:13:25.520334Z",
     "iopub.status.busy": "2022-06-01T09:13:25.519819Z",
     "iopub.status.idle": "2022-06-01T09:13:28.975514Z",
     "shell.execute_reply": "2022-06-01T09:13:28.974539Z",
     "shell.execute_reply.started": "2022-06-01T09:13:25.520292Z"
    }
   },
   "outputs": [],
   "source": [
    "in_features = model.fc.in_features\n",
    "model.fc = nn.Linear(in_features,10)\n",
    "model = model.to(device)\n",
    "ct = 0\n",
    "for child in model.children():\n",
    "    ct += 1\n",
    "    if ct < 7:\n",
    "        for param in child.parameters():\n",
    "            param.requires_grad = False"
   ]
  },
  {
   "cell_type": "code",
   "execution_count": 5,
   "metadata": {
    "execution": {
     "iopub.execute_input": "2022-06-01T09:13:28.977678Z",
     "iopub.status.busy": "2022-06-01T09:13:28.976921Z",
     "iopub.status.idle": "2022-06-01T09:13:28.987179Z",
     "shell.execute_reply": "2022-06-01T09:13:28.985915Z",
     "shell.execute_reply.started": "2022-06-01T09:13:28.977633Z"
    }
   },
   "outputs": [],
   "source": [
    "optimizer = torch.optim.Adam(model.parameters(),lr=0.001)\n",
    "loss_function = nn.CrossEntropyLoss()"
   ]
  },
  {
   "cell_type": "code",
   "execution_count": 6,
   "metadata": {
    "execution": {
     "iopub.execute_input": "2022-06-01T09:13:28.990851Z",
     "iopub.status.busy": "2022-06-01T09:13:28.990395Z",
     "iopub.status.idle": "2022-06-01T09:13:29.192375Z",
     "shell.execute_reply": "2022-06-01T09:13:29.191230Z",
     "shell.execute_reply.started": "2022-06-01T09:13:28.990811Z"
    }
   },
   "outputs": [],
   "source": [
    "def accuracy(pred,label):\n",
    "    _,pred_max = torch.max(pred,1)\n",
    "    acc = torch.sum(pred_max==label,dtype=torch.float64) / len(pred)\n",
    "    return acc"
   ]
  },
  {
   "cell_type": "code",
   "execution_count": 7,
   "metadata": {
    "execution": {
     "iopub.execute_input": "2022-06-01T09:13:29.196049Z",
     "iopub.status.busy": "2022-06-01T09:13:29.194970Z",
     "iopub.status.idle": "2022-06-01T09:19:23.418511Z",
     "shell.execute_reply": "2022-06-01T09:19:23.416312Z",
     "shell.execute_reply.started": "2022-06-01T09:13:29.195999Z"
    }
   },
   "outputs": [
    {
     "name": "stderr",
     "output_type": "stream",
     "text": [
      "100%|██████████| 34/34 [00:18<00:00,  1.81it/s]\n"
     ]
    },
    {
     "name": "stdout",
     "output_type": "stream",
     "text": [
      "Epochs:1, Loss:0.8278653621673584, acc:0.7478553921568627\n"
     ]
    },
    {
     "name": "stderr",
     "output_type": "stream",
     "text": [
      "100%|██████████| 34/34 [00:11<00:00,  2.89it/s]\n"
     ]
    },
    {
     "name": "stdout",
     "output_type": "stream",
     "text": [
      "Epochs:2, Loss:0.29544803500175476, acc:0.9114583333333333\n"
     ]
    },
    {
     "name": "stderr",
     "output_type": "stream",
     "text": [
      "100%|██████████| 34/34 [00:11<00:00,  3.00it/s]\n"
     ]
    },
    {
     "name": "stdout",
     "output_type": "stream",
     "text": [
      "Epochs:3, Loss:0.18418878316879272, acc:0.9411764705882353\n"
     ]
    },
    {
     "name": "stderr",
     "output_type": "stream",
     "text": [
      "100%|██████████| 34/34 [00:11<00:00,  2.97it/s]\n"
     ]
    },
    {
     "name": "stdout",
     "output_type": "stream",
     "text": [
      "Epochs:4, Loss:0.12461972236633301, acc:0.9613970588235294\n"
     ]
    },
    {
     "name": "stderr",
     "output_type": "stream",
     "text": [
      "100%|██████████| 34/34 [00:11<00:00,  2.94it/s]\n"
     ]
    },
    {
     "name": "stdout",
     "output_type": "stream",
     "text": [
      "Epochs:5, Loss:0.09876123815774918, acc:0.9730392156862746\n"
     ]
    },
    {
     "name": "stderr",
     "output_type": "stream",
     "text": [
      "100%|██████████| 34/34 [00:11<00:00,  3.00it/s]\n"
     ]
    },
    {
     "name": "stdout",
     "output_type": "stream",
     "text": [
      "Epochs:6, Loss:0.115207739174366, acc:0.9702818627450981\n"
     ]
    },
    {
     "name": "stderr",
     "output_type": "stream",
     "text": [
      "100%|██████████| 34/34 [00:11<00:00,  2.98it/s]\n"
     ]
    },
    {
     "name": "stdout",
     "output_type": "stream",
     "text": [
      "Epochs:7, Loss:0.03906341642141342, acc:0.9917279411764706\n"
     ]
    },
    {
     "name": "stderr",
     "output_type": "stream",
     "text": [
      "100%|██████████| 34/34 [00:11<00:00,  2.92it/s]\n"
     ]
    },
    {
     "name": "stdout",
     "output_type": "stream",
     "text": [
      "Epochs:8, Loss:0.043866340070962906, acc:0.9877450980392157\n"
     ]
    },
    {
     "name": "stderr",
     "output_type": "stream",
     "text": [
      "100%|██████████| 34/34 [00:11<00:00,  2.94it/s]\n"
     ]
    },
    {
     "name": "stdout",
     "output_type": "stream",
     "text": [
      "Epochs:9, Loss:0.08939481526613235, acc:0.9742647058823529\n"
     ]
    },
    {
     "name": "stderr",
     "output_type": "stream",
     "text": [
      "100%|██████████| 34/34 [00:11<00:00,  2.90it/s]\n"
     ]
    },
    {
     "name": "stdout",
     "output_type": "stream",
     "text": [
      "Epochs:10, Loss:0.10851246863603592, acc:0.9739583333333334\n"
     ]
    },
    {
     "name": "stderr",
     "output_type": "stream",
     "text": [
      "100%|██████████| 34/34 [00:11<00:00,  2.92it/s]\n"
     ]
    },
    {
     "name": "stdout",
     "output_type": "stream",
     "text": [
      "Epochs:11, Loss:0.0923716202378273, acc:0.9748774509803922\n"
     ]
    },
    {
     "name": "stderr",
     "output_type": "stream",
     "text": [
      "100%|██████████| 34/34 [00:11<00:00,  2.97it/s]\n"
     ]
    },
    {
     "name": "stdout",
     "output_type": "stream",
     "text": [
      "Epochs:12, Loss:0.08663004636764526, acc:0.9794730392156863\n"
     ]
    },
    {
     "name": "stderr",
     "output_type": "stream",
     "text": [
      "100%|██████████| 34/34 [00:11<00:00,  2.97it/s]\n"
     ]
    },
    {
     "name": "stdout",
     "output_type": "stream",
     "text": [
      "Epochs:13, Loss:0.05238017067313194, acc:0.9862132352941176\n"
     ]
    },
    {
     "name": "stderr",
     "output_type": "stream",
     "text": [
      "100%|██████████| 34/34 [00:11<00:00,  2.91it/s]\n"
     ]
    },
    {
     "name": "stdout",
     "output_type": "stream",
     "text": [
      "Epochs:14, Loss:0.0384775847196579, acc:0.991421568627451\n"
     ]
    },
    {
     "name": "stderr",
     "output_type": "stream",
     "text": [
      "100%|██████████| 34/34 [00:11<00:00,  2.97it/s]\n"
     ]
    },
    {
     "name": "stdout",
     "output_type": "stream",
     "text": [
      "Epochs:15, Loss:0.025154665112495422, acc:0.9898897058823529\n"
     ]
    },
    {
     "name": "stderr",
     "output_type": "stream",
     "text": [
      "100%|██████████| 34/34 [00:11<00:00,  2.95it/s]\n"
     ]
    },
    {
     "name": "stdout",
     "output_type": "stream",
     "text": [
      "Epochs:16, Loss:0.025804823264479637, acc:0.9926470588235294\n"
     ]
    },
    {
     "name": "stderr",
     "output_type": "stream",
     "text": [
      "100%|██████████| 34/34 [00:11<00:00,  2.93it/s]\n"
     ]
    },
    {
     "name": "stdout",
     "output_type": "stream",
     "text": [
      "Epochs:17, Loss:0.035074371844530106, acc:0.991421568627451\n"
     ]
    },
    {
     "name": "stderr",
     "output_type": "stream",
     "text": [
      "100%|██████████| 34/34 [00:11<00:00,  2.98it/s]\n"
     ]
    },
    {
     "name": "stdout",
     "output_type": "stream",
     "text": [
      "Epochs:18, Loss:0.014179256744682789, acc:0.9972426470588235\n"
     ]
    },
    {
     "name": "stderr",
     "output_type": "stream",
     "text": [
      "100%|██████████| 34/34 [00:11<00:00,  2.94it/s]\n"
     ]
    },
    {
     "name": "stdout",
     "output_type": "stream",
     "text": [
      "Epochs:19, Loss:0.038072045892477036, acc:0.9880514705882353\n"
     ]
    },
    {
     "name": "stderr",
     "output_type": "stream",
     "text": [
      "100%|██████████| 34/34 [00:11<00:00,  2.97it/s]\n"
     ]
    },
    {
     "name": "stdout",
     "output_type": "stream",
     "text": [
      "Epochs:20, Loss:0.0566505491733551, acc:0.9852941176470588\n"
     ]
    },
    {
     "name": "stderr",
     "output_type": "stream",
     "text": [
      "100%|██████████| 34/34 [00:11<00:00,  2.99it/s]\n"
     ]
    },
    {
     "name": "stdout",
     "output_type": "stream",
     "text": [
      "Epochs:21, Loss:0.08148406445980072, acc:0.9767156862745099\n"
     ]
    },
    {
     "name": "stderr",
     "output_type": "stream",
     "text": [
      "100%|██████████| 34/34 [00:11<00:00,  2.90it/s]\n"
     ]
    },
    {
     "name": "stdout",
     "output_type": "stream",
     "text": [
      "Epochs:22, Loss:0.07366806268692017, acc:0.9834558823529411\n"
     ]
    },
    {
     "name": "stderr",
     "output_type": "stream",
     "text": [
      "100%|██████████| 34/34 [00:11<00:00,  2.90it/s]\n"
     ]
    },
    {
     "name": "stdout",
     "output_type": "stream",
     "text": [
      "Epochs:23, Loss:0.07882701605558395, acc:0.9754901960784312\n"
     ]
    },
    {
     "name": "stderr",
     "output_type": "stream",
     "text": [
      "100%|██████████| 34/34 [00:11<00:00,  2.96it/s]\n"
     ]
    },
    {
     "name": "stdout",
     "output_type": "stream",
     "text": [
      "Epochs:24, Loss:0.0408555343747139, acc:0.9877450980392157\n"
     ]
    },
    {
     "name": "stderr",
     "output_type": "stream",
     "text": [
      "100%|██████████| 34/34 [00:11<00:00,  2.92it/s]\n"
     ]
    },
    {
     "name": "stdout",
     "output_type": "stream",
     "text": [
      "Epochs:25, Loss:0.027933329343795776, acc:0.991421568627451\n"
     ]
    },
    {
     "name": "stderr",
     "output_type": "stream",
     "text": [
      "100%|██████████| 34/34 [00:11<00:00,  3.00it/s]\n"
     ]
    },
    {
     "name": "stdout",
     "output_type": "stream",
     "text": [
      "Epochs:26, Loss:0.03307288885116577, acc:0.9917279411764706\n"
     ]
    },
    {
     "name": "stderr",
     "output_type": "stream",
     "text": [
      "100%|██████████| 34/34 [00:11<00:00,  2.98it/s]\n"
     ]
    },
    {
     "name": "stdout",
     "output_type": "stream",
     "text": [
      "Epochs:27, Loss:0.024813514202833176, acc:0.9935661764705882\n"
     ]
    },
    {
     "name": "stderr",
     "output_type": "stream",
     "text": [
      "100%|██████████| 34/34 [00:11<00:00,  2.89it/s]\n"
     ]
    },
    {
     "name": "stdout",
     "output_type": "stream",
     "text": [
      "Epochs:28, Loss:0.020741673186421394, acc:0.9941789215686275\n"
     ]
    },
    {
     "name": "stderr",
     "output_type": "stream",
     "text": [
      "100%|██████████| 34/34 [00:11<00:00,  2.91it/s]\n"
     ]
    },
    {
     "name": "stdout",
     "output_type": "stream",
     "text": [
      "Epochs:29, Loss:0.010006648488342762, acc:0.9972426470588235\n"
     ]
    },
    {
     "name": "stderr",
     "output_type": "stream",
     "text": [
      "100%|██████████| 34/34 [00:11<00:00,  2.99it/s]"
     ]
    },
    {
     "name": "stdout",
     "output_type": "stream",
     "text": [
      "Epochs:30, Loss:0.00853770598769188, acc:0.9990808823529411\n"
     ]
    },
    {
     "name": "stderr",
     "output_type": "stream",
     "text": [
      "\n"
     ]
    }
   ],
   "source": [
    "for epoch in range(30):\n",
    "    train_acc = 0.0\n",
    "    train_loss = 0.0\n",
    "    model.train()\n",
    "    for image, label in tqdm(train):\n",
    "        image, label = image.to(device), label.to(device)\n",
    "        optimizer.zero_grad()\n",
    "        predict = model(image)\n",
    "        loss = loss_function(predict,label)\n",
    "        loss.backward()\n",
    "        optimizer.step()\n",
    "        \n",
    "        train_acc += accuracy(predict,label)\n",
    "        train_loss += loss\n",
    "\n",
    "    train_total_acc = train_acc / len(train)\n",
    "    train_total_loss = train_loss / len(train)\n",
    "    \n",
    "    print(f\"Epochs:{epoch+1}, Loss:{train_total_loss}, acc:{train_total_acc}\")"
   ]
  },
  {
   "cell_type": "code",
   "execution_count": 10,
   "metadata": {
    "execution": {
     "iopub.execute_input": "2022-06-01T09:22:51.701145Z",
     "iopub.status.busy": "2022-06-01T09:22:51.700451Z",
     "iopub.status.idle": "2022-06-01T09:22:51.708434Z",
     "shell.execute_reply": "2022-06-01T09:22:51.706013Z",
     "shell.execute_reply.started": "2022-06-01T09:22:51.701106Z"
    }
   },
   "outputs": [],
   "source": [
    "torch.cuda.empty_cache()"
   ]
  },
  {
   "cell_type": "code",
   "execution_count": 9,
   "metadata": {
    "execution": {
     "iopub.execute_input": "2022-06-01T09:21:40.319888Z",
     "iopub.status.busy": "2022-06-01T09:21:40.319386Z",
     "iopub.status.idle": "2022-06-01T09:21:41.373031Z",
     "shell.execute_reply": "2022-06-01T09:21:41.371484Z",
     "shell.execute_reply.started": "2022-06-01T09:21:40.319856Z"
    }
   },
   "outputs": [
    {
     "name": "stderr",
     "output_type": "stream",
     "text": [
      "/opt/conda/lib/python3.7/site-packages/torch/utils/data/dataloader.py:490: UserWarning: This DataLoader will create 4 worker processes in total. Our suggested max number of worker in current system is 2, which is smaller than what this DataLoader is going to create. Please be aware that excessive worker creation might get DataLoader running slow or even freeze, lower the worker number to avoid potential slowness/freeze if necessary.\n",
      "  cpuset_checked))\n"
     ]
    },
    {
     "name": "stdout",
     "output_type": "stream",
     "text": [
      "Loss:0.0011762721696868539, acc:1.0\n"
     ]
    }
   ],
   "source": [
    "test_loss = 0.0\n",
    "test_acc = 0.0\n",
    "model.eval()\n",
    "for image, label in test:\n",
    "    image, label = image.to(device), label.to(device)\n",
    "    predict = model(image)\n",
    "    loss = loss_function(predict,label)\n",
    "    \n",
    "    test_loss += loss\n",
    "    test_acc += accuracy(predict,label)\n",
    "\n",
    "test_total_acc = test_acc / len(test)\n",
    "test_total_loss = test_loss / len(test)\n",
    "\n",
    "print(f\"Loss:{test_total_loss}, acc:{test_total_acc}\")"
   ]
  },
  {
   "cell_type": "code",
   "execution_count": 11,
   "metadata": {
    "execution": {
     "iopub.execute_input": "2022-06-01T09:23:32.542932Z",
     "iopub.status.busy": "2022-06-01T09:23:32.542478Z",
     "iopub.status.idle": "2022-06-01T09:23:33.142905Z",
     "shell.execute_reply": "2022-06-01T09:23:33.141842Z",
     "shell.execute_reply.started": "2022-06-01T09:23:32.542899Z"
    }
   },
   "outputs": [],
   "source": [
    "torch.save(model.state_dict(),\"weights.pth\")"
   ]
  }
 ],
 "metadata": {
  "kernelspec": {
   "display_name": "Python 3 (ipykernel)",
   "language": "python",
   "name": "python3"
  },
  "language_info": {
   "codemirror_mode": {
    "name": "ipython",
    "version": 3
   },
   "file_extension": ".py",
   "mimetype": "text/x-python",
   "name": "python",
   "nbconvert_exporter": "python",
   "pygments_lexer": "ipython3",
   "version": "3.9.6"
  }
 },
 "nbformat": 4,
 "nbformat_minor": 4
}
