{
 "cells": [
  {
   "cell_type": "markdown",
   "metadata": {},
   "source": [
    "## Import Libraries"
   ]
  },
  {
   "cell_type": "code",
   "execution_count": 1,
   "metadata": {
    "execution": {
     "iopub.execute_input": "2022-06-01T19:53:54.756919Z",
     "iopub.status.busy": "2022-06-01T19:53:54.756147Z",
     "iopub.status.idle": "2022-06-01T19:53:57.572832Z",
     "shell.execute_reply": "2022-06-01T19:53:57.571728Z",
     "shell.execute_reply.started": "2022-06-01T19:53:54.756826Z"
    }
   },
   "outputs": [],
   "source": [
    "import os\n",
    "import numpy as np\n",
    "import pandas as pd\n",
    "import cv2\n",
    "import torch\n",
    "import torchvision\n",
    "import torchvision.transforms as transforms\n",
    "import torch.nn as nn\n",
    "from torch.utils.data.dataset import Dataset\n",
    "from tqdm import tqdm"
   ]
  },
  {
   "cell_type": "markdown",
   "metadata": {},
   "source": [
    "## Load Dataset"
   ]
  },
  {
   "cell_type": "code",
   "execution_count": 2,
   "metadata": {
    "execution": {
     "iopub.execute_input": "2022-06-01T19:53:57.575554Z",
     "iopub.status.busy": "2022-06-01T19:53:57.574954Z",
     "iopub.status.idle": "2022-06-01T19:54:57.508749Z",
     "shell.execute_reply": "2022-06-01T19:54:57.507834Z",
     "shell.execute_reply.started": "2022-06-01T19:53:57.575513Z"
    }
   },
   "outputs": [],
   "source": [
    "images = []\n",
    "ages = []\n",
    "for image in os.listdir(\"../input/utkface-new/crop_part1\"):\n",
    "    age = int(image.split(\"_\")[0])\n",
    "    ages.append(age)\n",
    "    img = cv2.imread(f\"../input/utkface-new/crop_part1/{image}\")\n",
    "    img = cv2.cvtColor(img,cv2.COLOR_BGR2RGB)\n",
    "    images.append(img)"
   ]
  },
  {
   "cell_type": "code",
   "execution_count": 3,
   "metadata": {
    "execution": {
     "iopub.execute_input": "2022-06-01T19:54:57.510589Z",
     "iopub.status.busy": "2022-06-01T19:54:57.510247Z",
     "iopub.status.idle": "2022-06-01T19:54:57.539785Z",
     "shell.execute_reply": "2022-06-01T19:54:57.538934Z",
     "shell.execute_reply.started": "2022-06-01T19:54:57.510554Z"
    }
   },
   "outputs": [],
   "source": [
    "images = pd.Series(images,name=\"Images\")\n",
    "ages = pd.Series(ages,name=\"Ages\")\n",
    "df = pd.concat([images,ages],axis=1)\n",
    "under_4 = df[df[\"Ages\"]<=4]\n",
    "under_4_new = under_4.sample(frac=0.3)\n",
    "up_4 = df[df[\"Ages\"]>4]\n",
    "df = pd.concat([under_4_new,up_4],axis=0)\n",
    "df = df[df[\"Ages\"]<90]"
   ]
  },
  {
   "cell_type": "code",
   "execution_count": 4,
   "metadata": {
    "execution": {
     "iopub.execute_input": "2022-06-01T19:54:57.542019Z",
     "iopub.status.busy": "2022-06-01T19:54:57.541591Z",
     "iopub.status.idle": "2022-06-01T19:54:57.842390Z",
     "shell.execute_reply": "2022-06-01T19:54:57.841535Z",
     "shell.execute_reply.started": "2022-06-01T19:54:57.541965Z"
    }
   },
   "outputs": [],
   "source": [
    "X = np.array(df[\"Images\"].tolist())\n",
    "Y = np.array(df[\"Ages\"].tolist())"
   ]
  },
  {
   "cell_type": "code",
   "execution_count": 5,
   "metadata": {
    "execution": {
     "iopub.execute_input": "2022-06-01T19:54:57.844166Z",
     "iopub.status.busy": "2022-06-01T19:54:57.843788Z",
     "iopub.status.idle": "2022-06-01T19:54:58.484718Z",
     "shell.execute_reply": "2022-06-01T19:54:58.483863Z",
     "shell.execute_reply.started": "2022-06-01T19:54:57.844129Z"
    }
   },
   "outputs": [],
   "source": [
    "X = X.reshape((-1, 3, X.shape[1], X.shape[2]))\n",
    "Y = Y.reshape(Y.shape[0], 1)\n",
    "X = torch.tensor(X)\n",
    "Y = torch.tensor(Y)"
   ]
  },
  {
   "cell_type": "code",
   "execution_count": 6,
   "metadata": {
    "execution": {
     "iopub.execute_input": "2022-06-01T19:54:58.486648Z",
     "iopub.status.busy": "2022-06-01T19:54:58.486245Z",
     "iopub.status.idle": "2022-06-01T19:54:58.491843Z",
     "shell.execute_reply": "2022-06-01T19:54:58.491062Z",
     "shell.execute_reply.started": "2022-06-01T19:54:58.486609Z"
    }
   },
   "outputs": [],
   "source": [
    "transform = torchvision.transforms.Compose([\n",
    "    transforms.ToPILImage(),\n",
    "    transforms.Resize((224,224)),\n",
    "    transforms.ToTensor(),\n",
    "    transforms.Normalize((0.485, 0.456, 0.406), (0.229, 0.224, 0.225))\n",
    "])"
   ]
  },
  {
   "cell_type": "code",
   "execution_count": 7,
   "metadata": {
    "execution": {
     "iopub.execute_input": "2022-06-01T19:54:58.493945Z",
     "iopub.status.busy": "2022-06-01T19:54:58.493312Z",
     "iopub.status.idle": "2022-06-01T19:54:58.503516Z",
     "shell.execute_reply": "2022-06-01T19:54:58.502621Z",
     "shell.execute_reply.started": "2022-06-01T19:54:58.493908Z"
    }
   },
   "outputs": [],
   "source": [
    "class CustomDataset(Dataset):\n",
    "    def __init__(self,image,label,transform):\n",
    "        super().__init__()\n",
    "        self.image = image\n",
    "        self.label = label\n",
    "        self.transform = transform\n",
    "        \n",
    "    def __getitem__(self,index):\n",
    "        label = self.label[index]\n",
    "        image = self.image[index]\n",
    "        image = self.transform(image)\n",
    "        \n",
    "        return image, label\n",
    "    \n",
    "    def __len__(self):\n",
    "        return len(self.label)"
   ]
  },
  {
   "cell_type": "code",
   "execution_count": 8,
   "metadata": {
    "execution": {
     "iopub.execute_input": "2022-06-01T19:54:58.505620Z",
     "iopub.status.busy": "2022-06-01T19:54:58.505186Z",
     "iopub.status.idle": "2022-06-01T19:54:58.515438Z",
     "shell.execute_reply": "2022-06-01T19:54:58.514546Z",
     "shell.execute_reply.started": "2022-06-01T19:54:58.505573Z"
    }
   },
   "outputs": [],
   "source": [
    "dataset = CustomDataset(X,Y,transform)\n",
    "train_size = int(0.8 * len(dataset))\n",
    "test_size = len(dataset) - train_size\n",
    "train_dataset, test_dataset = torch.utils.data.random_split(dataset,[train_size,test_size])\n",
    "train = torch.utils.data.DataLoader(train_dataset,batch_size=32,shuffle=True)\n",
    "test = torch.utils.data.DataLoader(test_dataset,batch_size=32,shuffle=False)"
   ]
  },
  {
   "cell_type": "markdown",
   "metadata": {},
   "source": [
    "## Transfer Learning\n",
    "\n",
    "### Resnet152"
   ]
  },
  {
   "cell_type": "code",
   "execution_count": 9,
   "metadata": {
    "execution": {
     "iopub.execute_input": "2022-06-01T19:54:58.518620Z",
     "iopub.status.busy": "2022-06-01T19:54:58.518212Z",
     "iopub.status.idle": "2022-06-01T19:55:14.247770Z",
     "shell.execute_reply": "2022-06-01T19:55:14.246820Z",
     "shell.execute_reply.started": "2022-06-01T19:54:58.518572Z"
    }
   },
   "outputs": [
    {
     "name": "stderr",
     "output_type": "stream",
     "text": [
      "Downloading: \"https://download.pytorch.org/models/resnet152-394f9c45.pth\" to /root/.cache/torch/hub/checkpoints/resnet152-394f9c45.pth\n"
     ]
    },
    {
     "data": {
      "application/vnd.jupyter.widget-view+json": {
       "model_id": "46517b7bff214ca3a37e77454e3e3d72",
       "version_major": 2,
       "version_minor": 0
      },
      "text/plain": [
       "  0%|          | 0.00/230M [00:00<?, ?B/s]"
      ]
     },
     "metadata": {},
     "output_type": "display_data"
    }
   ],
   "source": [
    "device = torch.device(\"cuda\" if torch.cuda.is_available() else \"cpu\")\n",
    "model = torchvision.models.resnet152(pretrained=True)"
   ]
  },
  {
   "cell_type": "code",
   "execution_count": 10,
   "metadata": {
    "execution": {
     "iopub.execute_input": "2022-06-01T19:55:14.256266Z",
     "iopub.status.busy": "2022-06-01T19:55:14.253432Z",
     "iopub.status.idle": "2022-06-01T19:55:17.428805Z",
     "shell.execute_reply": "2022-06-01T19:55:17.428022Z",
     "shell.execute_reply.started": "2022-06-01T19:55:14.256225Z"
    }
   },
   "outputs": [],
   "source": [
    "in_features = model.fc.in_features\n",
    "model.fc = nn.Linear(in_features,1)\n",
    "model = model.to(device)\n",
    "ct = 0\n",
    "for child in model.children():\n",
    "    ct +=1\n",
    "    if ct<7:\n",
    "        for param in child.parameters():\n",
    "            param.requires_grad = False"
   ]
  },
  {
   "cell_type": "code",
   "execution_count": 11,
   "metadata": {
    "execution": {
     "iopub.execute_input": "2022-06-01T19:55:17.430576Z",
     "iopub.status.busy": "2022-06-01T19:55:17.430222Z",
     "iopub.status.idle": "2022-06-01T19:55:17.439089Z",
     "shell.execute_reply": "2022-06-01T19:55:17.437567Z",
     "shell.execute_reply.started": "2022-06-01T19:55:17.430542Z"
    }
   },
   "outputs": [],
   "source": [
    "optimizer = torch.optim.Adam(model.parameters(),lr=0.001)\n",
    "loss_fuction = nn.MSELoss()"
   ]
  },
  {
   "cell_type": "code",
   "execution_count": 12,
   "metadata": {
    "execution": {
     "iopub.execute_input": "2022-06-01T19:55:17.440850Z",
     "iopub.status.busy": "2022-06-01T19:55:17.440372Z",
     "iopub.status.idle": "2022-06-01T20:27:50.399945Z",
     "shell.execute_reply": "2022-06-01T20:27:50.399159Z",
     "shell.execute_reply.started": "2022-06-01T19:55:17.440814Z"
    }
   },
   "outputs": [
    {
     "name": "stderr",
     "output_type": "stream",
     "text": [
      "100%|██████████| 205/205 [01:24<00:00,  2.44it/s]\n"
     ]
    },
    {
     "name": "stdout",
     "output_type": "stream",
     "text": [
      "Epochs:1, Loss:371.1922607421875\n"
     ]
    },
    {
     "name": "stderr",
     "output_type": "stream",
     "text": [
      "100%|██████████| 205/205 [01:18<00:00,  2.60it/s]\n"
     ]
    },
    {
     "name": "stdout",
     "output_type": "stream",
     "text": [
      "Epochs:2, Loss:263.6663818359375\n"
     ]
    },
    {
     "name": "stderr",
     "output_type": "stream",
     "text": [
      "100%|██████████| 205/205 [01:17<00:00,  2.63it/s]\n"
     ]
    },
    {
     "name": "stdout",
     "output_type": "stream",
     "text": [
      "Epochs:3, Loss:235.28988647460938\n"
     ]
    },
    {
     "name": "stderr",
     "output_type": "stream",
     "text": [
      "100%|██████████| 205/205 [01:17<00:00,  2.64it/s]\n"
     ]
    },
    {
     "name": "stdout",
     "output_type": "stream",
     "text": [
      "Epochs:4, Loss:208.91554260253906\n"
     ]
    },
    {
     "name": "stderr",
     "output_type": "stream",
     "text": [
      "100%|██████████| 205/205 [01:17<00:00,  2.64it/s]\n"
     ]
    },
    {
     "name": "stdout",
     "output_type": "stream",
     "text": [
      "Epochs:5, Loss:191.36643981933594\n"
     ]
    },
    {
     "name": "stderr",
     "output_type": "stream",
     "text": [
      "100%|██████████| 205/205 [01:17<00:00,  2.65it/s]\n"
     ]
    },
    {
     "name": "stdout",
     "output_type": "stream",
     "text": [
      "Epochs:6, Loss:167.08139038085938\n"
     ]
    },
    {
     "name": "stderr",
     "output_type": "stream",
     "text": [
      "100%|██████████| 205/205 [01:17<00:00,  2.64it/s]\n"
     ]
    },
    {
     "name": "stdout",
     "output_type": "stream",
     "text": [
      "Epochs:7, Loss:137.16204833984375\n"
     ]
    },
    {
     "name": "stderr",
     "output_type": "stream",
     "text": [
      "100%|██████████| 205/205 [01:17<00:00,  2.65it/s]\n"
     ]
    },
    {
     "name": "stdout",
     "output_type": "stream",
     "text": [
      "Epochs:8, Loss:104.37530517578125\n"
     ]
    },
    {
     "name": "stderr",
     "output_type": "stream",
     "text": [
      "100%|██████████| 205/205 [01:17<00:00,  2.64it/s]\n"
     ]
    },
    {
     "name": "stdout",
     "output_type": "stream",
     "text": [
      "Epochs:9, Loss:80.8545913696289\n"
     ]
    },
    {
     "name": "stderr",
     "output_type": "stream",
     "text": [
      "100%|██████████| 205/205 [01:17<00:00,  2.64it/s]\n"
     ]
    },
    {
     "name": "stdout",
     "output_type": "stream",
     "text": [
      "Epochs:10, Loss:64.69515228271484\n"
     ]
    },
    {
     "name": "stderr",
     "output_type": "stream",
     "text": [
      "100%|██████████| 205/205 [01:18<00:00,  2.62it/s]\n"
     ]
    },
    {
     "name": "stdout",
     "output_type": "stream",
     "text": [
      "Epochs:11, Loss:51.39288330078125\n"
     ]
    },
    {
     "name": "stderr",
     "output_type": "stream",
     "text": [
      "100%|██████████| 205/205 [01:17<00:00,  2.65it/s]\n"
     ]
    },
    {
     "name": "stdout",
     "output_type": "stream",
     "text": [
      "Epochs:12, Loss:46.36651611328125\n"
     ]
    },
    {
     "name": "stderr",
     "output_type": "stream",
     "text": [
      "100%|██████████| 205/205 [01:17<00:00,  2.65it/s]\n"
     ]
    },
    {
     "name": "stdout",
     "output_type": "stream",
     "text": [
      "Epochs:13, Loss:43.68232727050781\n"
     ]
    },
    {
     "name": "stderr",
     "output_type": "stream",
     "text": [
      "100%|██████████| 205/205 [01:17<00:00,  2.64it/s]\n"
     ]
    },
    {
     "name": "stdout",
     "output_type": "stream",
     "text": [
      "Epochs:14, Loss:34.683128356933594\n"
     ]
    },
    {
     "name": "stderr",
     "output_type": "stream",
     "text": [
      "100%|██████████| 205/205 [01:17<00:00,  2.64it/s]\n"
     ]
    },
    {
     "name": "stdout",
     "output_type": "stream",
     "text": [
      "Epochs:15, Loss:30.784748077392578\n"
     ]
    },
    {
     "name": "stderr",
     "output_type": "stream",
     "text": [
      "100%|██████████| 205/205 [01:19<00:00,  2.57it/s]\n"
     ]
    },
    {
     "name": "stdout",
     "output_type": "stream",
     "text": [
      "Epochs:16, Loss:30.316654205322266\n"
     ]
    },
    {
     "name": "stderr",
     "output_type": "stream",
     "text": [
      "100%|██████████| 205/205 [01:17<00:00,  2.64it/s]\n"
     ]
    },
    {
     "name": "stdout",
     "output_type": "stream",
     "text": [
      "Epochs:17, Loss:31.579126358032227\n"
     ]
    },
    {
     "name": "stderr",
     "output_type": "stream",
     "text": [
      "100%|██████████| 205/205 [01:17<00:00,  2.64it/s]\n"
     ]
    },
    {
     "name": "stdout",
     "output_type": "stream",
     "text": [
      "Epochs:18, Loss:34.34281539916992\n"
     ]
    },
    {
     "name": "stderr",
     "output_type": "stream",
     "text": [
      "100%|██████████| 205/205 [01:17<00:00,  2.63it/s]\n"
     ]
    },
    {
     "name": "stdout",
     "output_type": "stream",
     "text": [
      "Epochs:19, Loss:33.765926361083984\n"
     ]
    },
    {
     "name": "stderr",
     "output_type": "stream",
     "text": [
      "100%|██████████| 205/205 [01:17<00:00,  2.65it/s]\n"
     ]
    },
    {
     "name": "stdout",
     "output_type": "stream",
     "text": [
      "Epochs:20, Loss:29.122690200805664\n"
     ]
    },
    {
     "name": "stderr",
     "output_type": "stream",
     "text": [
      "100%|██████████| 205/205 [01:17<00:00,  2.65it/s]\n"
     ]
    },
    {
     "name": "stdout",
     "output_type": "stream",
     "text": [
      "Epochs:21, Loss:29.277246475219727\n"
     ]
    },
    {
     "name": "stderr",
     "output_type": "stream",
     "text": [
      "100%|██████████| 205/205 [01:17<00:00,  2.63it/s]\n"
     ]
    },
    {
     "name": "stdout",
     "output_type": "stream",
     "text": [
      "Epochs:22, Loss:23.71278190612793\n"
     ]
    },
    {
     "name": "stderr",
     "output_type": "stream",
     "text": [
      "100%|██████████| 205/205 [01:17<00:00,  2.65it/s]\n"
     ]
    },
    {
     "name": "stdout",
     "output_type": "stream",
     "text": [
      "Epochs:23, Loss:24.83338165283203\n"
     ]
    },
    {
     "name": "stderr",
     "output_type": "stream",
     "text": [
      "100%|██████████| 205/205 [01:17<00:00,  2.65it/s]\n"
     ]
    },
    {
     "name": "stdout",
     "output_type": "stream",
     "text": [
      "Epochs:24, Loss:25.394790649414062\n"
     ]
    },
    {
     "name": "stderr",
     "output_type": "stream",
     "text": [
      "100%|██████████| 205/205 [01:17<00:00,  2.64it/s]"
     ]
    },
    {
     "name": "stdout",
     "output_type": "stream",
     "text": [
      "Epochs:25, Loss:25.86041259765625\n"
     ]
    },
    {
     "name": "stderr",
     "output_type": "stream",
     "text": [
      "\n"
     ]
    }
   ],
   "source": [
    "for epoch in range(25):\n",
    "    train_loss = 0.0\n",
    "    for image, label in tqdm(train):\n",
    "        image, label = image.to(device), label.to(device)\n",
    "        optimizer.zero_grad()\n",
    "        predict = model(image.float())\n",
    "        loss = loss_fuction(predict,label.float())\n",
    "        \n",
    "        loss.backward()\n",
    "        optimizer.step()\n",
    "        train_loss += loss\n",
    "    \n",
    "    total_loss = train_loss / len(train)\n",
    "    print(f\"Epochs:{epoch+1}, Loss:{total_loss}\")"
   ]
  },
  {
   "cell_type": "code",
   "execution_count": 13,
   "metadata": {
    "execution": {
     "iopub.execute_input": "2022-06-01T20:28:26.824668Z",
     "iopub.status.busy": "2022-06-01T20:28:26.823947Z",
     "iopub.status.idle": "2022-06-01T20:28:27.539258Z",
     "shell.execute_reply": "2022-06-01T20:28:27.538425Z",
     "shell.execute_reply.started": "2022-06-01T20:28:26.824630Z"
    }
   },
   "outputs": [],
   "source": [
    "torch.save(model.state_dict(),\"weights.pth\")"
   ]
  }
 ],
 "metadata": {
  "kernelspec": {
   "display_name": "Python 3 (ipykernel)",
   "language": "python",
   "name": "python3"
  },
  "language_info": {
   "codemirror_mode": {
    "name": "ipython",
    "version": 3
   },
   "file_extension": ".py",
   "mimetype": "text/x-python",
   "name": "python",
   "nbconvert_exporter": "python",
   "pygments_lexer": "ipython3",
   "version": "3.9.6"
  }
 },
 "nbformat": 4,
 "nbformat_minor": 4
}
