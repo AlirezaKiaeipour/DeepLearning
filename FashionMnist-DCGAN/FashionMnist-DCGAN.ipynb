{
 "cells": [
  {
   "cell_type": "markdown",
   "metadata": {},
   "source": [
    "## Import Libraries & Load Dataset"
   ]
  },
  {
   "cell_type": "code",
   "execution_count": 2,
   "metadata": {
    "execution": {
     "iopub.execute_input": "2022-04-05T06:51:17.396287Z",
     "iopub.status.busy": "2022-04-05T06:51:17.396041Z",
     "iopub.status.idle": "2022-04-05T06:51:17.403147Z",
     "shell.execute_reply": "2022-04-05T06:51:17.402283Z",
     "shell.execute_reply.started": "2022-04-05T06:51:17.396253Z"
    }
   },
   "outputs": [],
   "source": [
    "import os\n",
    "import time\n",
    "import glob\n",
    "import tensorflow as tf\n",
    "from tensorflow.keras.models import Sequential\n",
    "from tensorflow.keras.layers import Conv2D, Conv2DTranspose, Reshape, Flatten, BatchNormalization, Dense, Dropout\n",
    "from IPython import display\n",
    "import matplotlib.pyplot as plt\n",
    "import imageio"
   ]
  },
  {
   "cell_type": "markdown",
   "metadata": {},
   "source": [
    "## Fashion Mnist Dataset"
   ]
  },
  {
   "cell_type": "code",
   "execution_count": 4,
   "metadata": {
    "execution": {
     "iopub.execute_input": "2022-04-05T06:51:26.590805Z",
     "iopub.status.busy": "2022-04-05T06:51:26.590278Z",
     "iopub.status.idle": "2022-04-05T06:51:27.159375Z",
     "shell.execute_reply": "2022-04-05T06:51:27.158669Z",
     "shell.execute_reply.started": "2022-04-05T06:51:26.590766Z"
    }
   },
   "outputs": [],
   "source": [
    "(images,labels),(_,_) = tf.keras.datasets.fashion_mnist.load_data()\n",
    "images = (images - 127.5) / 127.5 ## ==> Normilize images to [-1,1]\n",
    "images = images[...,tf.newaxis]"
   ]
  },
  {
   "cell_type": "code",
   "execution_count": 6,
   "metadata": {
    "execution": {
     "iopub.execute_input": "2022-04-05T06:51:40.758715Z",
     "iopub.status.busy": "2022-04-05T06:51:40.758450Z",
     "iopub.status.idle": "2022-04-05T06:51:41.421365Z",
     "shell.execute_reply": "2022-04-05T06:51:41.420656Z",
     "shell.execute_reply.started": "2022-04-05T06:51:40.758686Z"
    }
   },
   "outputs": [],
   "source": [
    "Train = tf.data.Dataset.from_tensor_slices(images).shuffle(60000).batch(256)"
   ]
  },
  {
   "cell_type": "markdown",
   "metadata": {},
   "source": [
    "# Model\n",
    "## Generator Model"
   ]
  },
  {
   "cell_type": "code",
   "execution_count": 7,
   "metadata": {
    "execution": {
     "iopub.execute_input": "2022-04-05T06:51:43.539116Z",
     "iopub.status.busy": "2022-04-05T06:51:43.538600Z",
     "iopub.status.idle": "2022-04-05T06:51:43.691359Z",
     "shell.execute_reply": "2022-04-05T06:51:43.690665Z",
     "shell.execute_reply.started": "2022-04-05T06:51:43.539080Z"
    }
   },
   "outputs": [],
   "source": [
    "generator_model = Sequential()\n",
    "generator_model.add(Dense(7*7*256,activation=\"relu\",input_dim=100))\n",
    "generator_model.add(BatchNormalization())\n",
    "generator_model.add(Reshape((7,7,256)))\n",
    "\n",
    "generator_model.add(Conv2DTranspose(256,(5,5),strides=(2,2),padding=\"same\",activation=\"relu\"))\n",
    "generator_model.add(BatchNormalization())\n",
    "\n",
    "generator_model.add(Conv2DTranspose(128,(5,5),strides=(1,1),padding=\"same\",activation=\"relu\"))\n",
    "generator_model.add(BatchNormalization())\n",
    "\n",
    "generator_model.add(Conv2DTranspose(64,(5,5),strides=(1,1),padding=\"same\",activation=\"relu\"))\n",
    "generator_model.add(BatchNormalization())\n",
    "\n",
    "generator_model.add(Conv2DTranspose(1,(5,5),strides=(2,2),padding=\"same\",activation=\"tanh\"))"
   ]
  },
  {
   "cell_type": "code",
   "execution_count": 8,
   "metadata": {
    "execution": {
     "iopub.execute_input": "2022-04-05T06:51:44.534199Z",
     "iopub.status.busy": "2022-04-05T06:51:44.533547Z",
     "iopub.status.idle": "2022-04-05T06:51:44.546007Z",
     "shell.execute_reply": "2022-04-05T06:51:44.545151Z",
     "shell.execute_reply.started": "2022-04-05T06:51:44.534164Z"
    },
    "scrolled": true
   },
   "outputs": [
    {
     "name": "stdout",
     "output_type": "stream",
     "text": [
      "Model: \"sequential\"\n",
      "_________________________________________________________________\n",
      "Layer (type)                 Output Shape              Param #   \n",
      "=================================================================\n",
      "dense (Dense)                (None, 12544)             1266944   \n",
      "_________________________________________________________________\n",
      "batch_normalization (BatchNo (None, 12544)             50176     \n",
      "_________________________________________________________________\n",
      "reshape (Reshape)            (None, 7, 7, 256)         0         \n",
      "_________________________________________________________________\n",
      "conv2d_transpose (Conv2DTran (None, 14, 14, 256)       1638656   \n",
      "_________________________________________________________________\n",
      "batch_normalization_1 (Batch (None, 14, 14, 256)       1024      \n",
      "_________________________________________________________________\n",
      "conv2d_transpose_1 (Conv2DTr (None, 14, 14, 128)       819328    \n",
      "_________________________________________________________________\n",
      "batch_normalization_2 (Batch (None, 14, 14, 128)       512       \n",
      "_________________________________________________________________\n",
      "conv2d_transpose_2 (Conv2DTr (None, 14, 14, 64)        204864    \n",
      "_________________________________________________________________\n",
      "batch_normalization_3 (Batch (None, 14, 14, 64)        256       \n",
      "_________________________________________________________________\n",
      "conv2d_transpose_3 (Conv2DTr (None, 28, 28, 1)         1601      \n",
      "=================================================================\n",
      "Total params: 3,983,361\n",
      "Trainable params: 3,957,377\n",
      "Non-trainable params: 25,984\n",
      "_________________________________________________________________\n"
     ]
    }
   ],
   "source": [
    "generator_model.summary()"
   ]
  },
  {
   "cell_type": "markdown",
   "metadata": {},
   "source": [
    "## Discriminator Model"
   ]
  },
  {
   "cell_type": "code",
   "execution_count": 9,
   "metadata": {
    "execution": {
     "iopub.execute_input": "2022-04-05T06:51:47.636148Z",
     "iopub.status.busy": "2022-04-05T06:51:47.635586Z",
     "iopub.status.idle": "2022-04-05T06:51:47.691607Z",
     "shell.execute_reply": "2022-04-05T06:51:47.690914Z",
     "shell.execute_reply.started": "2022-04-05T06:51:47.636111Z"
    }
   },
   "outputs": [],
   "source": [
    "discriminator_model = Sequential()\n",
    "discriminator_model.add(Conv2D(64,(5,5),strides=(2,2),activation=\"relu\",padding=\"same\",input_shape=(28,28,1)))\n",
    "discriminator_model.add(Dropout(0.2))\n",
    "\n",
    "discriminator_model.add(Conv2D(128,(5,5),strides=(2,2),activation=\"relu\",padding=\"same\"))\n",
    "discriminator_model.add(Dropout(0.2))\n",
    "\n",
    "discriminator_model.add(Conv2D(256,(5,5),strides=(2,2),activation=\"relu\",padding=\"same\"))\n",
    "discriminator_model.add(Dropout(0.2))\n",
    "\n",
    "discriminator_model.add(Flatten())\n",
    "discriminator_model.add(Dense(1,activation=\"sigmoid\"))"
   ]
  },
  {
   "cell_type": "code",
   "execution_count": 10,
   "metadata": {
    "execution": {
     "iopub.execute_input": "2022-04-05T06:51:48.102354Z",
     "iopub.status.busy": "2022-04-05T06:51:48.101786Z",
     "iopub.status.idle": "2022-04-05T06:51:48.112331Z",
     "shell.execute_reply": "2022-04-05T06:51:48.111303Z",
     "shell.execute_reply.started": "2022-04-05T06:51:48.102317Z"
    }
   },
   "outputs": [
    {
     "name": "stdout",
     "output_type": "stream",
     "text": [
      "Model: \"sequential_1\"\n",
      "_________________________________________________________________\n",
      "Layer (type)                 Output Shape              Param #   \n",
      "=================================================================\n",
      "conv2d (Conv2D)              (None, 14, 14, 64)        1664      \n",
      "_________________________________________________________________\n",
      "dropout (Dropout)            (None, 14, 14, 64)        0         \n",
      "_________________________________________________________________\n",
      "conv2d_1 (Conv2D)            (None, 7, 7, 128)         204928    \n",
      "_________________________________________________________________\n",
      "dropout_1 (Dropout)          (None, 7, 7, 128)         0         \n",
      "_________________________________________________________________\n",
      "conv2d_2 (Conv2D)            (None, 4, 4, 256)         819456    \n",
      "_________________________________________________________________\n",
      "dropout_2 (Dropout)          (None, 4, 4, 256)         0         \n",
      "_________________________________________________________________\n",
      "flatten (Flatten)            (None, 4096)              0         \n",
      "_________________________________________________________________\n",
      "dense_1 (Dense)              (None, 1)                 4097      \n",
      "=================================================================\n",
      "Total params: 1,030,145\n",
      "Trainable params: 1,030,145\n",
      "Non-trainable params: 0\n",
      "_________________________________________________________________\n"
     ]
    }
   ],
   "source": [
    "discriminator_model.summary()"
   ]
  },
  {
   "cell_type": "code",
   "execution_count": 11,
   "metadata": {
    "execution": {
     "iopub.execute_input": "2022-04-05T06:51:51.176583Z",
     "iopub.status.busy": "2022-04-05T06:51:51.175965Z",
     "iopub.status.idle": "2022-04-05T06:51:51.191133Z",
     "shell.execute_reply": "2022-04-05T06:51:51.190417Z",
     "shell.execute_reply.started": "2022-04-05T06:51:51.176543Z"
    }
   },
   "outputs": [],
   "source": [
    "loss_function = tf.keras.losses.BinaryCrossentropy(from_logits=True)\n",
    "generator_optimizer = tf.keras.optimizers.Adam()\n",
    "discriminator_optimizer = tf.keras.optimizers.Adam()\n",
    "discriminator_loss = tf.keras.metrics.Mean()\n",
    "seed = tf.random.normal([16,100])"
   ]
  },
  {
   "cell_type": "code",
   "execution_count": 12,
   "metadata": {
    "execution": {
     "iopub.execute_input": "2022-04-05T06:51:52.532203Z",
     "iopub.status.busy": "2022-04-05T06:51:52.531925Z",
     "iopub.status.idle": "2022-04-05T06:51:52.539456Z",
     "shell.execute_reply": "2022-04-05T06:51:52.538749Z",
     "shell.execute_reply.started": "2022-04-05T06:51:52.532176Z"
    }
   },
   "outputs": [],
   "source": [
    "def train_step(images):\n",
    "    noise = tf.random.normal([256,100])\n",
    "    with tf.GradientTape() as gTape_gen, tf.GradientTape() as gTape_disc:\n",
    "        generated_images = generator_model(noise,training=True)\n",
    "        real_images = discriminator_model(images,training=True)\n",
    "        fake_images = discriminator_model(generated_images,training=True)\n",
    "        \n",
    "        loss_gen = loss_function(tf.ones_like(fake_images),fake_images)\n",
    "        loss_real = loss_function(tf.ones_like(real_images),real_images)\n",
    "        loss_fake = loss_function(tf.zeros_like(fake_images),fake_images)\n",
    "        loss_disc = loss_real + loss_fake\n",
    "        discriminator_loss(loss_disc)\n",
    "        \n",
    "    gradient_gen = gTape_gen.gradient(loss_gen,generator_model.trainable_variables)\n",
    "    gradient_disc = gTape_disc.gradient(loss_disc,discriminator_model.trainable_variables)\n",
    "    \n",
    "    generator_optimizer.apply_gradients(zip(gradient_gen,generator_model.trainable_variables))\n",
    "    discriminator_optimizer.apply_gradients(zip(gradient_disc,discriminator_model.trainable_variables))"
   ]
  },
  {
   "cell_type": "code",
   "execution_count": 13,
   "metadata": {
    "execution": {
     "iopub.execute_input": "2022-04-05T06:52:06.283313Z",
     "iopub.status.busy": "2022-04-05T06:52:06.283051Z",
     "iopub.status.idle": "2022-04-05T06:52:06.293666Z",
     "shell.execute_reply": "2022-04-05T06:52:06.292533Z",
     "shell.execute_reply.started": "2022-04-05T06:52:06.283285Z"
    }
   },
   "outputs": [],
   "source": [
    "def save_images(generator_model, epoch, seed):\n",
    "  prediction = generator_model(seed, training=False)\n",
    "  fig = plt.figure(figsize=(4, 4))\n",
    "  for i in range(prediction.shape[0]):\n",
    "      plt.subplot(4, 4, i+1)\n",
    "      plt.imshow(prediction[i, :, :, 0] * 127.5 + 127.5, cmap='gray')\n",
    "      plt.axis('off')\n",
    "\n",
    "  plt.savefig(f\"image{epoch}.png\")\n",
    "  plt.show()"
   ]
  },
  {
   "cell_type": "code",
   "execution_count": 14,
   "metadata": {
    "execution": {
     "iopub.execute_input": "2022-04-05T06:52:19.883597Z",
     "iopub.status.busy": "2022-04-05T06:52:19.882961Z",
     "iopub.status.idle": "2022-04-05T06:52:19.889161Z",
     "shell.execute_reply": "2022-04-05T06:52:19.888475Z",
     "shell.execute_reply.started": "2022-04-05T06:52:19.883561Z"
    }
   },
   "outputs": [],
   "source": [
    "def train():\n",
    "  for epoch in range(200):\n",
    "    start = time.time()\n",
    "    discriminator_loss.reset_states()\n",
    "    \n",
    "    for images in Train:\n",
    "      train_step(images)\n",
    "    display.clear_output(wait=True)\n",
    "    save_images(generator_model,epoch + 1,seed)\n",
    "\n",
    "\n",
    "    print ('Time for epoch {} is {} sec'.format(epoch + 1, time.time()-start))\n",
    "    print ('Loss: {} '.format(discriminator_loss.result()))"
   ]
  },
  {
   "cell_type": "code",
   "execution_count": 15,
   "metadata": {
    "execution": {
     "iopub.execute_input": "2022-04-05T06:52:22.546682Z",
     "iopub.status.busy": "2022-04-05T06:52:22.546074Z",
     "iopub.status.idle": "2022-04-05T08:42:29.557054Z",
     "shell.execute_reply": "2022-04-05T08:42:29.556362Z",
     "shell.execute_reply.started": "2022-04-05T06:52:22.546638Z"
    }
   },
   "outputs": [
    {
     "data": {
      "image/png": "[encoded data removed]",
      "text/plain": [
       "<Figure size 288x288 with 16 Axes>"
      ]
     },
     "metadata": {
      "needs_background": "light"
     },
     "output_type": "display_data"
    },
    {
     "name": "stdout",
     "output_type": "stream",
     "text": [
      "Time for epoch 200 is 32.56295418739319 sec\n",
      "Loss: 0.3617967963218689 \n"
     ]
    }
   ],
   "source": [
    "train()"
   ]
  },
  {
   "cell_type": "code",
   "execution_count": 16,
   "metadata": {
    "execution": {
     "iopub.execute_input": "2022-04-05T08:42:29.559236Z",
     "iopub.status.busy": "2022-04-05T08:42:29.558777Z",
     "iopub.status.idle": "2022-04-05T08:42:31.689948Z",
     "shell.execute_reply": "2022-04-05T08:42:31.689240Z",
     "shell.execute_reply.started": "2022-04-05T08:42:29.559199Z"
    }
   },
   "outputs": [],
   "source": [
    "with imageio.get_writer(\"FashionMnist.gif\", mode='I') as writer:\n",
    "  filenames = glob.glob('image*.png')\n",
    "  filenames = sorted(filenames)\n",
    "  for filename in filenames:\n",
    "    image = imageio.imread(filename)\n",
    "    writer.append_data(image)\n",
    "  image = imageio.imread(filename)\n",
    "  writer.append_data(image)"
   ]
  }
 ],
 "metadata": {
  "kernelspec": {
   "display_name": "Python 3 (ipykernel)",
   "language": "python",
   "name": "python3"
  },
  "language_info": {
   "codemirror_mode": {
    "name": "ipython",
    "version": 3
   },
   "file_extension": ".py",
   "mimetype": "text/x-python",
   "name": "python",
   "nbconvert_exporter": "python",
   "pygments_lexer": "ipython3",
   "version": "3.9.6"
  }
 },
 "nbformat": 4,
 "nbformat_minor": 4
}
