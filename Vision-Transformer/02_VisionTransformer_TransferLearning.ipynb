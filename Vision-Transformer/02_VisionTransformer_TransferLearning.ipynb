{
 "cells": [
  {
   "cell_type": "markdown",
   "metadata": {},
   "source": [
    "## Import Libraries"
   ]
  },
  {
   "cell_type": "code",
   "execution_count": 1,
   "metadata": {
    "_cell_guid": "b1076dfc-b9ad-4769-8c92-a6c4dae69d19",
    "_uuid": "8f2839f25d086af736a60e9eeb907d3b93b6e0e5",
    "execution": {
     "iopub.execute_input": "2024-08-18T10:16:55.878615Z",
     "iopub.status.busy": "2024-08-18T10:16:55.877957Z",
     "iopub.status.idle": "2024-08-18T10:16:59.159733Z",
     "shell.execute_reply": "2024-08-18T10:16:59.158931Z",
     "shell.execute_reply.started": "2024-08-18T10:16:55.878580Z"
    }
   },
   "outputs": [],
   "source": [
    "import torch\n",
    "import torchvision\n",
    "import torch.nn as nn\n",
    "from tqdm import tqdm"
   ]
  },
  {
   "cell_type": "code",
   "execution_count": 2,
   "metadata": {
    "execution": {
     "iopub.execute_input": "2024-08-18T10:17:01.640215Z",
     "iopub.status.busy": "2024-08-18T10:17:01.639089Z",
     "iopub.status.idle": "2024-08-18T10:17:01.676855Z",
     "shell.execute_reply": "2024-08-18T10:17:01.675934Z",
     "shell.execute_reply.started": "2024-08-18T10:17:01.640182Z"
    }
   },
   "outputs": [
    {
     "data": {
      "text/plain": [
       "device(type='cuda')"
      ]
     },
     "execution_count": 2,
     "metadata": {},
     "output_type": "execute_result"
    }
   ],
   "source": [
    "device = torch.device(\"cuda\" if torch.cuda.is_available() else \"cpu\")\n",
    "device"
   ]
  },
  {
   "cell_type": "markdown",
   "metadata": {},
   "source": [
    "## Load & Preprocessing Dataset\n",
    "### Cat & Dog Dataset"
   ]
  },
  {
   "cell_type": "code",
   "execution_count": 3,
   "metadata": {
    "execution": {
     "iopub.execute_input": "2024-08-18T10:17:03.881352Z",
     "iopub.status.busy": "2024-08-18T10:17:03.880762Z",
     "iopub.status.idle": "2024-08-18T10:17:03.887555Z",
     "shell.execute_reply": "2024-08-18T10:17:03.886688Z",
     "shell.execute_reply.started": "2024-08-18T10:17:03.881322Z"
    }
   },
   "outputs": [
    {
     "data": {
      "text/plain": [
       "ImageClassification(\n",
       "    crop_size=[224]\n",
       "    resize_size=[256]\n",
       "    mean=[0.485, 0.456, 0.406]\n",
       "    std=[0.229, 0.224, 0.225]\n",
       "    interpolation=InterpolationMode.BILINEAR\n",
       ")"
      ]
     },
     "execution_count": 3,
     "metadata": {},
     "output_type": "execute_result"
    }
   ],
   "source": [
    "vit_model = torchvision.models.ViT_B_16_Weights.DEFAULT\n",
    "transform = vit_model.transforms()\n",
    "transform"
   ]
  },
  {
   "cell_type": "code",
   "execution_count": 4,
   "metadata": {
    "execution": {
     "iopub.execute_input": "2024-08-18T10:17:09.472893Z",
     "iopub.status.busy": "2024-08-18T10:17:09.472003Z",
     "iopub.status.idle": "2024-08-18T10:17:18.289578Z",
     "shell.execute_reply": "2024-08-18T10:17:18.288762Z",
     "shell.execute_reply.started": "2024-08-18T10:17:09.472858Z"
    }
   },
   "outputs": [],
   "source": [
    "train_dataset = torchvision.datasets.ImageFolder(\"/kaggle/input/cat-and-dog/training_set/training_set\", transform=transform)\n",
    "test_dataset = torchvision.datasets.ImageFolder(\"/kaggle/input/cat-and-dog/test_set/test_set\", transform=transform)"
   ]
  },
  {
   "cell_type": "code",
   "execution_count": 5,
   "metadata": {
    "execution": {
     "iopub.execute_input": "2024-08-18T10:17:18.291306Z",
     "iopub.status.busy": "2024-08-18T10:17:18.291020Z",
     "iopub.status.idle": "2024-08-18T10:17:18.296570Z",
     "shell.execute_reply": "2024-08-18T10:17:18.295470Z",
     "shell.execute_reply.started": "2024-08-18T10:17:18.291281Z"
    }
   },
   "outputs": [],
   "source": [
    "train = torch.utils.data.DataLoader(train_dataset, shuffle=True, batch_size=32)\n",
    "test = torch.utils.data.DataLoader(test_dataset, shuffle=False, batch_size=32)"
   ]
  },
  {
   "cell_type": "markdown",
   "metadata": {},
   "source": [
    "## VisionTransformer Transfer Learning\n",
    "## ViT_B_16 Model"
   ]
  },
  {
   "cell_type": "code",
   "execution_count": 6,
   "metadata": {
    "execution": {
     "iopub.execute_input": "2024-08-18T10:17:19.895868Z",
     "iopub.status.busy": "2024-08-18T10:17:19.895025Z",
     "iopub.status.idle": "2024-08-18T10:17:23.792341Z",
     "shell.execute_reply": "2024-08-18T10:17:23.791362Z",
     "shell.execute_reply.started": "2024-08-18T10:17:19.895835Z"
    }
   },
   "outputs": [
    {
     "name": "stderr",
     "output_type": "stream",
     "text": [
      "Downloading: \"https://download.pytorch.org/models/vit_b_16-c867db91.pth\" to /root/.cache/torch/hub/checkpoints/vit_b_16-c867db91.pth\n",
      "100%|██████████| 330M/330M [00:02<00:00, 168MB/s]  \n"
     ]
    }
   ],
   "source": [
    "vit_model = torchvision.models.vit_b_16(weights=\"IMAGENET1K_V1\")"
   ]
  },
  {
   "cell_type": "code",
   "execution_count": 7,
   "metadata": {
    "execution": {
     "iopub.execute_input": "2024-08-18T10:17:25.787847Z",
     "iopub.status.busy": "2024-08-18T10:17:25.787202Z",
     "iopub.status.idle": "2024-08-18T10:17:26.043141Z",
     "shell.execute_reply": "2024-08-18T10:17:26.042267Z",
     "shell.execute_reply.started": "2024-08-18T10:17:25.787813Z"
    }
   },
   "outputs": [],
   "source": [
    "for param in vit_model.parameters():\n",
    "    param.requires_grad = False\n",
    "\n",
    "vit_model.heads = nn.Linear(768, 2)\n",
    "vit_model = vit_model.to(device)"
   ]
  },
  {
   "cell_type": "code",
   "execution_count": 8,
   "metadata": {
    "execution": {
     "iopub.execute_input": "2024-08-18T10:17:28.970053Z",
     "iopub.status.busy": "2024-08-18T10:17:28.969643Z",
     "iopub.status.idle": "2024-08-18T10:17:28.975809Z",
     "shell.execute_reply": "2024-08-18T10:17:28.974884Z",
     "shell.execute_reply.started": "2024-08-18T10:17:28.970024Z"
    }
   },
   "outputs": [],
   "source": [
    "optimizer = torch.optim.Adam(vit_model.parameters(),lr=0.001)\n",
    "loss_function = nn.CrossEntropyLoss()"
   ]
  },
  {
   "cell_type": "code",
   "execution_count": 9,
   "metadata": {
    "execution": {
     "iopub.execute_input": "2024-08-18T10:17:30.883825Z",
     "iopub.status.busy": "2024-08-18T10:17:30.882983Z",
     "iopub.status.idle": "2024-08-18T10:17:30.888474Z",
     "shell.execute_reply": "2024-08-18T10:17:30.887509Z",
     "shell.execute_reply.started": "2024-08-18T10:17:30.883792Z"
    }
   },
   "outputs": [],
   "source": [
    "def accuracy(preds,labels):\n",
    "    _,pred_max = torch.max(preds,1)\n",
    "    acc = torch.sum(pred_max==labels,dtype=torch.float64) / len(preds)\n",
    "    \n",
    "    return acc"
   ]
  },
  {
   "cell_type": "code",
   "execution_count": 10,
   "metadata": {
    "execution": {
     "iopub.execute_input": "2024-08-18T10:17:31.648448Z",
     "iopub.status.busy": "2024-08-18T10:17:31.647785Z",
     "iopub.status.idle": "2024-08-18T10:29:44.333186Z",
     "shell.execute_reply": "2024-08-18T10:29:44.332217Z",
     "shell.execute_reply.started": "2024-08-18T10:17:31.648420Z"
    },
    "scrolled": true
   },
   "outputs": [
    {
     "name": "stderr",
     "output_type": "stream",
     "text": [
      "100%|██████████| 251/251 [01:29<00:00,  2.82it/s]\n"
     ]
    },
    {
     "name": "stdout",
     "output_type": "stream",
     "text": [
      "EPOCHS: 1, ACC: 0.9874252988047808, VAL_ACC: 0.99560546875\n"
     ]
    },
    {
     "name": "stderr",
     "output_type": "stream",
     "text": [
      "100%|██████████| 251/251 [00:54<00:00,  4.57it/s]\n"
     ]
    },
    {
     "name": "stdout",
     "output_type": "stream",
     "text": [
      "EPOCHS: 2, ACC: 0.9962649402390438, VAL_ACC: 0.99462890625\n"
     ]
    },
    {
     "name": "stderr",
     "output_type": "stream",
     "text": [
      "100%|██████████| 251/251 [00:55<00:00,  4.55it/s]\n"
     ]
    },
    {
     "name": "stdout",
     "output_type": "stream",
     "text": [
      "EPOCHS: 3, ACC: 0.9972609561752988, VAL_ACC: 0.994140625\n"
     ]
    },
    {
     "name": "stderr",
     "output_type": "stream",
     "text": [
      "100%|██████████| 251/251 [00:55<00:00,  4.56it/s]\n"
     ]
    },
    {
     "name": "stdout",
     "output_type": "stream",
     "text": [
      "EPOCHS: 4, ACC: 0.9977589641434262, VAL_ACC: 0.994140625\n"
     ]
    },
    {
     "name": "stderr",
     "output_type": "stream",
     "text": [
      "100%|██████████| 251/251 [00:54<00:00,  4.58it/s]\n"
     ]
    },
    {
     "name": "stdout",
     "output_type": "stream",
     "text": [
      "EPOCHS: 5, ACC: 0.9983814741035857, VAL_ACC: 0.9931640625\n"
     ]
    },
    {
     "name": "stderr",
     "output_type": "stream",
     "text": [
      "100%|██████████| 251/251 [00:55<00:00,  4.54it/s]\n"
     ]
    },
    {
     "name": "stdout",
     "output_type": "stream",
     "text": [
      "EPOCHS: 6, ACC: 0.9985059760956175, VAL_ACC: 0.99365234375\n"
     ]
    },
    {
     "name": "stderr",
     "output_type": "stream",
     "text": [
      "100%|██████████| 251/251 [00:55<00:00,  4.50it/s]\n"
     ]
    },
    {
     "name": "stdout",
     "output_type": "stream",
     "text": [
      "EPOCHS: 7, ACC: 0.9988794820717132, VAL_ACC: 0.99365234375\n"
     ]
    },
    {
     "name": "stderr",
     "output_type": "stream",
     "text": [
      "100%|██████████| 251/251 [00:54<00:00,  4.59it/s]\n"
     ]
    },
    {
     "name": "stdout",
     "output_type": "stream",
     "text": [
      "EPOCHS: 8, ACC: 0.9995019920318725, VAL_ACC: 0.994140625\n"
     ]
    },
    {
     "name": "stderr",
     "output_type": "stream",
     "text": [
      "100%|██████████| 251/251 [00:54<00:00,  4.59it/s]\n"
     ]
    },
    {
     "name": "stdout",
     "output_type": "stream",
     "text": [
      "EPOCHS: 9, ACC: 0.9995019920318725, VAL_ACC: 0.9931640625\n"
     ]
    },
    {
     "name": "stderr",
     "output_type": "stream",
     "text": [
      "100%|██████████| 251/251 [00:54<00:00,  4.59it/s]\n"
     ]
    },
    {
     "name": "stdout",
     "output_type": "stream",
     "text": [
      "EPOCHS: 10, ACC: 0.9998754980079682, VAL_ACC: 0.994140625\n"
     ]
    }
   ],
   "source": [
    "for epoch in range(10):\n",
    "    train_loss = 0.0\n",
    "    train_acc = 0.0\n",
    "    test_loss = 0.0\n",
    "    test_acc = 0.0\n",
    "    for image, label in tqdm(train):\n",
    "        image = image.to(device)\n",
    "        label = label.to(device)\n",
    "        optimizer.zero_grad()\n",
    "        pred = vit_model(image)\n",
    "        loss = loss_function(pred, label)\n",
    "        loss.backward()\n",
    "        optimizer.step()\n",
    "        \n",
    "        train_loss += loss\n",
    "        train_acc += accuracy(pred, label)\n",
    "        \n",
    "    for image, label in test:\n",
    "        image = image.to(device)\n",
    "        label = label.to(device)\n",
    "        pred = vit_model(image)\n",
    "        loss = loss_function(pred, label)\n",
    "        \n",
    "        test_loss += loss\n",
    "        test_acc += accuracy(pred, label)\n",
    "        \n",
    "    total_acc = train_acc / len(train)\n",
    "    total_val_acc = test_acc / len(test)\n",
    "    print(f\"EPOCHS: {epoch+1}, ACC: {total_acc}, VAL_ACC: {total_val_acc}\")"
   ]
  },
  {
   "cell_type": "markdown",
   "metadata": {},
   "source": [
    "## Save Weights"
   ]
  },
  {
   "cell_type": "code",
   "execution_count": 11,
   "metadata": {
    "execution": {
     "iopub.execute_input": "2024-08-18T10:42:18.858835Z",
     "iopub.status.busy": "2024-08-18T10:42:18.858320Z",
     "iopub.status.idle": "2024-08-18T10:42:19.324554Z",
     "shell.execute_reply": "2024-08-18T10:42:19.323782Z",
     "shell.execute_reply.started": "2024-08-18T10:42:18.858804Z"
    }
   },
   "outputs": [],
   "source": [
    "torch.save(vit_model.state_dict(),\"weights.pth\")"
   ]
  }
 ],
 "metadata": {
  "kaggle": {
   "accelerator": "gpu",
   "dataSources": [
    {
     "datasetId": 23777,
     "sourceId": 30378,
     "sourceType": "datasetVersion"
    }
   ],
   "dockerImageVersionId": 30747,
   "isGpuEnabled": true,
   "isInternetEnabled": true,
   "language": "python",
   "sourceType": "notebook"
  },
  "kernelspec": {
   "display_name": "Python 3 (ipykernel)",
   "language": "python",
   "name": "python3"
  },
  "language_info": {
   "codemirror_mode": {
    "name": "ipython",
    "version": 3
   },
   "file_extension": ".py",
   "mimetype": "text/x-python",
   "name": "python",
   "nbconvert_exporter": "python",
   "pygments_lexer": "ipython3",
   "version": "3.11.8"
  }
 },
 "nbformat": 4,
 "nbformat_minor": 4
}
