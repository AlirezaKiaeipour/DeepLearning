{
 "cells": [
  {
   "cell_type": "code",
   "execution_count": 1,
   "metadata": {
    "id": "tAvSjlmrZSe_"
   },
   "outputs": [],
   "source": [
    "! pip install wandb"
   ]
  },
  {
   "cell_type": "markdown",
   "metadata": {},
   "source": [
    "## Import Libraries & Load Dataset"
   ]
  },
  {
   "cell_type": "code",
   "execution_count": 2,
   "metadata": {
    "id": "rkHFJxELe_0K"
   },
   "outputs": [],
   "source": [
    "import numpy as np\n",
    "import tensorflow as tf\n",
    "from tensorflow.keras.models import Model\n",
    "from tensorflow.keras.layers import Conv2D, MaxPool2D, Flatten, Dense, Dropout\n",
    "from tensorflow.keras.preprocessing.image import ImageDataGenerator\n",
    "from tqdm import tqdm\n",
    "import wandb\n",
    "from wandb.keras import WandbCallback"
   ]
  },
  {
   "cell_type": "code",
   "execution_count": null,
   "metadata": {
    "id": "RfVuJyChZoz-"
   },
   "outputs": [],
   "source": [
    "configs = {\n",
    "              \"learning_rate\": 0.001,\n",
    "              \"epochs\": 20,\n",
    "              \"batch_size\": 32,\n",
    "              \"log_step\": 200,\n",
    "              \"val_log_step\": 50\n",
    "           }\n",
    "\n",
    "run = wandb.init(project='Face_Recognition', config=configs)\n",
    "config = wandb.config"
   ]
  },
  {
   "cell_type": "markdown",
   "metadata": {},
   "source": [
    "## Face Recognition Dataset"
   ]
  },
  {
   "cell_type": "code",
   "execution_count": 4,
   "metadata": {
    "id": "kNBHayTFkezX"
   },
   "outputs": [],
   "source": [
    "image_generator = ImageDataGenerator(\n",
    "    rescale = 1.0 / 255.0,\n",
    "    horizontal_flip = True,\n",
    "    validation_split = 0.2\n",
    ")"
   ]
  },
  {
   "cell_type": "code",
   "execution_count": 5,
   "metadata": {
    "colab": {
     "base_uri": "https://localhost:8080/"
    },
    "id": "uHGjckMtlMO3",
    "outputId": "1ac6f3c2-4764-4683-8829-26d3a1959b6f"
   },
   "outputs": [
    {
     "name": "stdout",
     "output_type": "stream",
     "text": [
      "Found 1090 images belonging to 14 classes.\n",
      "Found 268 images belonging to 14 classes.\n"
     ]
    }
   ],
   "source": [
    "path = \"/content/drive/MyDrive/Dataset/7-7 dataset\"\n",
    "Train_images = image_generator.flow_from_directory(\n",
    "    path,\n",
    "    class_mode = \"categorical\",\n",
    "    batch_size = 32,\n",
    "    target_size = (224,224),\n",
    "    subset = \"training\"\n",
    ")\n",
    "Val_images = image_generator.flow_from_directory(\n",
    "    path,\n",
    "    class_mode = \"categorical\",\n",
    "    batch_size = 32,\n",
    "    target_size = (224,224),\n",
    "    subset = \"validation\"\n",
    ")"
   ]
  },
  {
   "cell_type": "markdown",
   "metadata": {},
   "source": [
    "# Model\n",
    "## CNN"
   ]
  },
  {
   "cell_type": "code",
   "execution_count": 9,
   "metadata": {
    "id": "irEJSRZ3mL4X"
   },
   "outputs": [],
   "source": [
    "class Mymodel(Model):\n",
    "  def __init__(self):\n",
    "      super().__init__()\n",
    "      self.conv2D_1 = Conv2D(64,(3,3),activation=\"relu\",input_shape=(224,224,3))\n",
    "      self.conv2D_2 = Conv2D(128,(3,3),activation=\"relu\")\n",
    "      self.maxpool2D = MaxPool2D()\n",
    "      self.dense1 = Dense(256,activation=\"relu\")\n",
    "      self.dense2 = Dense(14,activation=\"softmax\")\n",
    "      self.flatten = Flatten()\n",
    "      self.dropout = Dropout(0.5)\n",
    "    \n",
    "  def call(self,x):\n",
    "    x = self.conv2D_1(x)\n",
    "    x = self.maxpool2D(x)\n",
    "    x = self.conv2D_2(x)\n",
    "    x = self.maxpool2D(x)\n",
    "    x = self.flatten(x)\n",
    "    x = self.dense1(x)\n",
    "    x = self.dropout(x)\n",
    "    output = self.dense2(x)\n",
    "\n",
    "    return output\n",
    "model = Mymodel()"
   ]
  },
  {
   "cell_type": "code",
   "execution_count": 10,
   "metadata": {
    "id": "q3xzV7YIneWx"
   },
   "outputs": [],
   "source": [
    "optimizer = tf.keras.optimizers.Adam()\n",
    "loss_func = tf.keras.losses.CategoricalCrossentropy()\n",
    "accuracy = tf.keras.metrics.CategoricalAccuracy()\n",
    "val_accuracy = tf.keras.metrics.CategoricalAccuracy()\n",
    "loss = tf.keras.metrics.MeanAbsoluteError()\n",
    "val_loss = tf.keras.metrics.MeanAbsoluteError()"
   ]
  },
  {
   "cell_type": "code",
   "execution_count": 11,
   "metadata": {
    "colab": {
     "base_uri": "https://localhost:8080/"
    },
    "id": "I8wFwybanrmN",
    "outputId": "eaa0ad52-72ee-45a1-da47-f2b30f1a6710"
   },
   "outputs": [
    {
     "name": "stdout",
     "output_type": "stream",
     "text": [
      "Epoch:  0\n"
     ]
    },
    {
     "name": "stderr",
     "output_type": "stream",
     "text": [
      "100%|██████████| 35/35 [04:08<00:00,  7.10s/it]\n",
      "100%|██████████| 9/9 [01:01<00:00,  6.85s/it]\n"
     ]
    },
    {
     "name": "stdout",
     "output_type": "stream",
     "text": [
      "Accuracy:  tf.Tensor(0.23083779, shape=(), dtype=float32)\n",
      "Val_Accuracy:  tf.Tensor(0.40666667, shape=(), dtype=float32)\n",
      "Loss:  tf.Tensor(0.1238171, shape=(), dtype=float32)\n",
      "Val_Loss:  tf.Tensor(0.10209479, shape=(), dtype=float32)\n",
      "Epoch:  1\n"
     ]
    },
    {
     "name": "stderr",
     "output_type": "stream",
     "text": [
      "100%|██████████| 35/35 [00:25<00:00,  1.35it/s]\n",
      "100%|██████████| 9/9 [00:06<00:00,  1.34it/s]\n"
     ]
    },
    {
     "name": "stdout",
     "output_type": "stream",
     "text": [
      "Accuracy:  tf.Tensor(0.7076649, shape=(), dtype=float32)\n",
      "Val_Accuracy:  tf.Tensor(0.59, shape=(), dtype=float32)\n",
      "Loss:  tf.Tensor(0.06676322, shape=(), dtype=float32)\n",
      "Val_Loss:  tf.Tensor(0.07080748, shape=(), dtype=float32)\n",
      "Epoch:  2\n"
     ]
    },
    {
     "name": "stderr",
     "output_type": "stream",
     "text": [
      "100%|██████████| 35/35 [00:26<00:00,  1.34it/s]\n",
      "100%|██████████| 9/9 [00:06<00:00,  1.33it/s]\n"
     ]
    },
    {
     "name": "stdout",
     "output_type": "stream",
     "text": [
      "Accuracy:  tf.Tensor(0.8333333, shape=(), dtype=float32)\n",
      "Val_Accuracy:  tf.Tensor(0.76, shape=(), dtype=float32)\n",
      "Loss:  tf.Tensor(0.038609583, shape=(), dtype=float32)\n",
      "Val_Loss:  tf.Tensor(0.04706628, shape=(), dtype=float32)\n",
      "Epoch:  3\n"
     ]
    },
    {
     "name": "stderr",
     "output_type": "stream",
     "text": [
      "100%|██████████| 35/35 [00:25<00:00,  1.35it/s]\n",
      "100%|██████████| 9/9 [00:06<00:00,  1.34it/s]\n"
     ]
    },
    {
     "name": "stdout",
     "output_type": "stream",
     "text": [
      "Accuracy:  tf.Tensor(0.93850267, shape=(), dtype=float32)\n",
      "Val_Accuracy:  tf.Tensor(0.82666665, shape=(), dtype=float32)\n",
      "Loss:  tf.Tensor(0.017202351, shape=(), dtype=float32)\n",
      "Val_Loss:  tf.Tensor(0.035816792, shape=(), dtype=float32)\n",
      "Epoch:  4\n"
     ]
    },
    {
     "name": "stderr",
     "output_type": "stream",
     "text": [
      "100%|██████████| 35/35 [00:25<00:00,  1.36it/s]\n",
      "100%|██████████| 9/9 [00:06<00:00,  1.34it/s]\n"
     ]
    },
    {
     "name": "stdout",
     "output_type": "stream",
     "text": [
      "Accuracy:  tf.Tensor(0.9554367, shape=(), dtype=float32)\n",
      "Val_Accuracy:  tf.Tensor(0.77666664, shape=(), dtype=float32)\n",
      "Loss:  tf.Tensor(0.013180608, shape=(), dtype=float32)\n",
      "Val_Loss:  tf.Tensor(0.03789405, shape=(), dtype=float32)\n",
      "Epoch:  5\n"
     ]
    },
    {
     "name": "stderr",
     "output_type": "stream",
     "text": [
      "100%|██████████| 35/35 [00:25<00:00,  1.36it/s]\n",
      "100%|██████████| 9/9 [00:06<00:00,  1.35it/s]\n"
     ]
    },
    {
     "name": "stdout",
     "output_type": "stream",
     "text": [
      "Accuracy:  tf.Tensor(0.98039216, shape=(), dtype=float32)\n",
      "Val_Accuracy:  tf.Tensor(0.8066667, shape=(), dtype=float32)\n",
      "Loss:  tf.Tensor(0.007746638, shape=(), dtype=float32)\n",
      "Val_Loss:  tf.Tensor(0.030173874, shape=(), dtype=float32)\n",
      "Epoch:  6\n"
     ]
    },
    {
     "name": "stderr",
     "output_type": "stream",
     "text": [
      "100%|██████████| 35/35 [00:25<00:00,  1.37it/s]\n",
      "100%|██████████| 9/9 [00:06<00:00,  1.35it/s]\n"
     ]
    },
    {
     "name": "stdout",
     "output_type": "stream",
     "text": [
      "Accuracy:  tf.Tensor(0.9937611, shape=(), dtype=float32)\n",
      "Val_Accuracy:  tf.Tensor(0.84, shape=(), dtype=float32)\n",
      "Loss:  tf.Tensor(0.0026192772, shape=(), dtype=float32)\n",
      "Val_Loss:  tf.Tensor(0.026754122, shape=(), dtype=float32)\n",
      "Epoch:  7\n"
     ]
    },
    {
     "name": "stderr",
     "output_type": "stream",
     "text": [
      "100%|██████████| 35/35 [00:25<00:00,  1.37it/s]\n",
      "100%|██████████| 9/9 [00:06<00:00,  1.35it/s]\n"
     ]
    },
    {
     "name": "stdout",
     "output_type": "stream",
     "text": [
      "Accuracy:  tf.Tensor(0.9910873, shape=(), dtype=float32)\n",
      "Val_Accuracy:  tf.Tensor(0.8233333, shape=(), dtype=float32)\n",
      "Loss:  tf.Tensor(0.0032336165, shape=(), dtype=float32)\n",
      "Val_Loss:  tf.Tensor(0.030337324, shape=(), dtype=float32)\n",
      "Epoch:  8\n"
     ]
    },
    {
     "name": "stderr",
     "output_type": "stream",
     "text": [
      "100%|██████████| 35/35 [00:25<00:00,  1.37it/s]\n",
      "100%|██████████| 9/9 [00:06<00:00,  1.43it/s]\n"
     ]
    },
    {
     "name": "stdout",
     "output_type": "stream",
     "text": [
      "Accuracy:  tf.Tensor(0.9964349, shape=(), dtype=float32)\n",
      "Val_Accuracy:  tf.Tensor(0.8428571, shape=(), dtype=float32)\n",
      "Loss:  tf.Tensor(0.0018660963, shape=(), dtype=float32)\n",
      "Val_Loss:  tf.Tensor(0.024417343, shape=(), dtype=float32)\n",
      "Epoch:  9\n"
     ]
    },
    {
     "name": "stderr",
     "output_type": "stream",
     "text": [
      "100%|██████████| 35/35 [00:25<00:00,  1.37it/s]\n",
      "100%|██████████| 9/9 [00:06<00:00,  1.34it/s]\n"
     ]
    },
    {
     "name": "stdout",
     "output_type": "stream",
     "text": [
      "Accuracy:  tf.Tensor(1.0, shape=(), dtype=float32)\n",
      "Val_Accuracy:  tf.Tensor(0.8566667, shape=(), dtype=float32)\n",
      "Loss:  tf.Tensor(0.00033090185, shape=(), dtype=float32)\n",
      "Val_Loss:  tf.Tensor(0.021655362, shape=(), dtype=float32)\n",
      "Epoch:  10\n"
     ]
    },
    {
     "name": "stderr",
     "output_type": "stream",
     "text": [
      "100%|██████████| 35/35 [00:26<00:00,  1.34it/s]\n",
      "100%|██████████| 9/9 [00:06<00:00,  1.34it/s]\n"
     ]
    },
    {
     "name": "stdout",
     "output_type": "stream",
     "text": [
      "Accuracy:  tf.Tensor(1.0, shape=(), dtype=float32)\n",
      "Val_Accuracy:  tf.Tensor(0.86, shape=(), dtype=float32)\n",
      "Loss:  tf.Tensor(0.00024068072, shape=(), dtype=float32)\n",
      "Val_Loss:  tf.Tensor(0.022750454, shape=(), dtype=float32)\n",
      "Epoch:  11\n"
     ]
    },
    {
     "name": "stderr",
     "output_type": "stream",
     "text": [
      "100%|██████████| 35/35 [00:25<00:00,  1.36it/s]\n",
      "100%|██████████| 9/9 [00:06<00:00,  1.34it/s]\n"
     ]
    },
    {
     "name": "stdout",
     "output_type": "stream",
     "text": [
      "Accuracy:  tf.Tensor(1.0, shape=(), dtype=float32)\n",
      "Val_Accuracy:  tf.Tensor(0.8666667, shape=(), dtype=float32)\n",
      "Loss:  tf.Tensor(0.00010349135, shape=(), dtype=float32)\n",
      "Val_Loss:  tf.Tensor(0.020935986, shape=(), dtype=float32)\n",
      "Epoch:  12\n"
     ]
    },
    {
     "name": "stderr",
     "output_type": "stream",
     "text": [
      "100%|██████████| 35/35 [00:25<00:00,  1.36it/s]\n",
      "100%|██████████| 9/9 [00:06<00:00,  1.34it/s]\n"
     ]
    },
    {
     "name": "stdout",
     "output_type": "stream",
     "text": [
      "Accuracy:  tf.Tensor(1.0, shape=(), dtype=float32)\n",
      "Val_Accuracy:  tf.Tensor(0.84, shape=(), dtype=float32)\n",
      "Loss:  tf.Tensor(8.460768e-05, shape=(), dtype=float32)\n",
      "Val_Loss:  tf.Tensor(0.023133067, shape=(), dtype=float32)\n",
      "Epoch:  13\n"
     ]
    },
    {
     "name": "stderr",
     "output_type": "stream",
     "text": [
      "100%|██████████| 35/35 [00:25<00:00,  1.37it/s]\n",
      "100%|██████████| 9/9 [00:06<00:00,  1.35it/s]\n"
     ]
    },
    {
     "name": "stdout",
     "output_type": "stream",
     "text": [
      "Accuracy:  tf.Tensor(1.0, shape=(), dtype=float32)\n",
      "Val_Accuracy:  tf.Tensor(0.85, shape=(), dtype=float32)\n",
      "Loss:  tf.Tensor(7.527382e-05, shape=(), dtype=float32)\n",
      "Val_Loss:  tf.Tensor(0.021684851, shape=(), dtype=float32)\n",
      "Epoch:  14\n"
     ]
    },
    {
     "name": "stderr",
     "output_type": "stream",
     "text": [
      "100%|██████████| 35/35 [00:25<00:00,  1.37it/s]\n",
      "100%|██████████| 9/9 [00:06<00:00,  1.34it/s]\n"
     ]
    },
    {
     "name": "stdout",
     "output_type": "stream",
     "text": [
      "Accuracy:  tf.Tensor(1.0, shape=(), dtype=float32)\n",
      "Val_Accuracy:  tf.Tensor(0.8433333, shape=(), dtype=float32)\n",
      "Loss:  tf.Tensor(8.344961e-05, shape=(), dtype=float32)\n",
      "Val_Loss:  tf.Tensor(0.022559898, shape=(), dtype=float32)\n",
      "Epoch:  15\n"
     ]
    },
    {
     "name": "stderr",
     "output_type": "stream",
     "text": [
      "100%|██████████| 35/35 [00:25<00:00,  1.37it/s]\n",
      "100%|██████████| 9/9 [00:06<00:00,  1.34it/s]\n"
     ]
    },
    {
     "name": "stdout",
     "output_type": "stream",
     "text": [
      "Accuracy:  tf.Tensor(1.0, shape=(), dtype=float32)\n",
      "Val_Accuracy:  tf.Tensor(0.85, shape=(), dtype=float32)\n",
      "Loss:  tf.Tensor(7.1166956e-05, shape=(), dtype=float32)\n",
      "Val_Loss:  tf.Tensor(0.022001488, shape=(), dtype=float32)\n",
      "Epoch:  16\n"
     ]
    },
    {
     "name": "stderr",
     "output_type": "stream",
     "text": [
      "100%|██████████| 35/35 [00:25<00:00,  1.37it/s]\n",
      "100%|██████████| 9/9 [00:06<00:00,  1.36it/s]\n"
     ]
    },
    {
     "name": "stdout",
     "output_type": "stream",
     "text": [
      "Accuracy:  tf.Tensor(1.0, shape=(), dtype=float32)\n",
      "Val_Accuracy:  tf.Tensor(0.86333334, shape=(), dtype=float32)\n",
      "Loss:  tf.Tensor(4.218456e-05, shape=(), dtype=float32)\n",
      "Val_Loss:  tf.Tensor(0.02141965, shape=(), dtype=float32)\n",
      "Epoch:  17\n"
     ]
    },
    {
     "name": "stderr",
     "output_type": "stream",
     "text": [
      "100%|██████████| 35/35 [00:25<00:00,  1.36it/s]\n",
      "100%|██████████| 9/9 [00:06<00:00,  1.41it/s]\n"
     ]
    },
    {
     "name": "stdout",
     "output_type": "stream",
     "text": [
      "Accuracy:  tf.Tensor(1.0, shape=(), dtype=float32)\n",
      "Val_Accuracy:  tf.Tensor(0.85714287, shape=(), dtype=float32)\n",
      "Loss:  tf.Tensor(4.9485676e-05, shape=(), dtype=float32)\n",
      "Val_Loss:  tf.Tensor(0.021898568, shape=(), dtype=float32)\n",
      "Epoch:  18\n"
     ]
    },
    {
     "name": "stderr",
     "output_type": "stream",
     "text": [
      "100%|██████████| 35/35 [00:25<00:00,  1.36it/s]\n",
      "100%|██████████| 9/9 [00:06<00:00,  1.32it/s]\n"
     ]
    },
    {
     "name": "stdout",
     "output_type": "stream",
     "text": [
      "Accuracy:  tf.Tensor(1.0, shape=(), dtype=float32)\n",
      "Val_Accuracy:  tf.Tensor(0.8566667, shape=(), dtype=float32)\n",
      "Loss:  tf.Tensor(3.2558964e-05, shape=(), dtype=float32)\n",
      "Val_Loss:  tf.Tensor(0.02110424, shape=(), dtype=float32)\n",
      "Epoch:  19\n"
     ]
    },
    {
     "name": "stderr",
     "output_type": "stream",
     "text": [
      "100%|██████████| 35/35 [00:26<00:00,  1.35it/s]\n",
      "100%|██████████| 9/9 [00:06<00:00,  1.29it/s]"
     ]
    },
    {
     "name": "stdout",
     "output_type": "stream",
     "text": [
      "Accuracy:  tf.Tensor(1.0, shape=(), dtype=float32)\n",
      "Val_Accuracy:  tf.Tensor(0.87333333, shape=(), dtype=float32)\n",
      "Loss:  tf.Tensor(3.2069842e-05, shape=(), dtype=float32)\n",
      "Val_Loss:  tf.Tensor(0.019878231, shape=(), dtype=float32)\n"
     ]
    },
    {
     "name": "stderr",
     "output_type": "stream",
     "text": [
      "\n"
     ]
    }
   ],
   "source": [
    "# Train\n",
    "for epoch in range(20):\n",
    "  accuracy.reset_states()\n",
    "  val_accuracy.reset_states()\n",
    "  loss.reset_states()\n",
    "  val_loss.reset_states()\n",
    "  print(\"Epoch: \",epoch)\n",
    "\n",
    "  # Training\n",
    "  for index,(images, labels) in enumerate(tqdm(Train_images)):\n",
    "    with tf.GradientTape() as gtape:\n",
    "      logits = model(images)\n",
    "      loss_value = loss_func(labels,logits)\n",
    "      accuracy(labels,logits)\n",
    "      loss(labels,logits)\n",
    "    # Gradients calculation\n",
    "    gradients = gtape.gradient(loss_value,model.trainable_variables)\n",
    "    # Update weights\n",
    "    optimizer.apply_gradients(zip(gradients,model.trainable_variables))\n",
    "    if len(Train_images) <= index:\n",
    "      break\n",
    " \n",
    "  # Validation\n",
    "  for index,(images, labels) in enumerate(tqdm(Val_images)):\n",
    "    logits = model(images)\n",
    "    loss_value = loss_func(labels,logits)\n",
    "    val_accuracy(labels,logits)\n",
    "    val_loss(labels,logits)\n",
    "    if len(Val_images) <= index:\n",
    "      break\n",
    "\n",
    "  print(\"Accuracy: \",accuracy.result())\n",
    "  print(\"Val_Accuracy: \",val_accuracy.result())\n",
    "  print(\"Loss: \",loss.result())\n",
    "  print(\"Val_Loss: \",val_loss.result())\n",
    "\n",
    "  wandb.log({'epochs': epoch,\n",
    "            'loss': np.mean(loss.result()),\n",
    "            'acc': float(accuracy.result()), \n",
    "            'val_loss': np.mean(val_loss.result()),\n",
    "            'val_acc':float(val_accuracy.result())})\n",
    "  "
   ]
  },
  {
   "cell_type": "code",
   "execution_count": 13,
   "metadata": {
    "id": "QYywNDZ_n3eh"
   },
   "outputs": [],
   "source": [
    "model.save_weights(filepath='face_recognition')"
   ]
  }
 ],
 "metadata": {
  "accelerator": "GPU",
  "colab": {
   "name": "face.ipynb",
   "provenance": []
  },
  "kernelspec": {
   "display_name": "Python 3 (ipykernel)",
   "language": "python",
   "name": "python3"
  },
  "language_info": {
   "codemirror_mode": {
    "name": "ipython",
    "version": 3
   },
   "file_extension": ".py",
   "mimetype": "text/x-python",
   "name": "python",
   "nbconvert_exporter": "python",
   "pygments_lexer": "ipython3",
   "version": "3.9.6"
  }
 },
 "nbformat": 4,
 "nbformat_minor": 1
}
