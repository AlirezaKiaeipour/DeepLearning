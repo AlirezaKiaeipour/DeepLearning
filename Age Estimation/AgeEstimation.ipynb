{
 "cells": [
  {
   "cell_type": "markdown",
   "metadata": {
    "id": "GgaHb6fN2wwl"
   },
   "source": [
    "## Import Libraries & Load Dataset"
   ]
  },
  {
   "cell_type": "code",
   "execution_count": 1,
   "metadata": {
    "id": "-4KFtq-G5Rm8"
   },
   "outputs": [],
   "source": [
    "import os\n",
    "import numpy as np\n",
    "import pandas as pd\n",
    "import cv2\n",
    "from sklearn.model_selection import train_test_split\n",
    "from tensorflow.keras.models import Model\n",
    "from tensorflow.keras.layers import Input, Conv2D, MaxPool2D, Dense, Flatten, Dropout, BatchNormalization\n",
    "from tensorflow.keras.preprocessing.image import ImageDataGenerator\n",
    "from tensorflow.keras.callbacks import ModelCheckpoint\n",
    "import matplotlib.pyplot as plt"
   ]
  },
  {
   "cell_type": "markdown",
   "metadata": {},
   "source": [
    "## Age Estimation Dataset"
   ]
  },
  {
   "cell_type": "code",
   "execution_count": 2,
   "metadata": {
    "id": "Rx3hwyWn5d0U"
   },
   "outputs": [],
   "source": [
    "images , ages = [],[]\n",
    "for path in os.listdir(\"/content/UTKFace\"):\n",
    "    img = cv2.imread(f\"/content/UTKFace/{path}\")\n",
    "    img = cv2.cvtColor(img,cv2.COLOR_BGR2RGB)\n",
    "    img = cv2.resize(img,(150,150))\n",
    "    age = int(path.split(\"_\")[0])\n",
    "    images.append(img)\n",
    "    ages.append(age)"
   ]
  },
  {
   "cell_type": "code",
   "execution_count": 3,
   "metadata": {
    "id": "qtbqXbHY5xQK"
   },
   "outputs": [],
   "source": [
    "images = pd.Series(images,name=\"images\")\n",
    "ages = pd.Series(ages,name=\"ages\")\n",
    "df = pd.concat([images,ages],axis=1)\n",
    "df = df[df[\"ages\"]<=80]\n",
    "df1 = df[df[\"ages\"]<=4]\n",
    "df1 = df1.sample(frac=0.5)\n",
    "df2 = df[df[\"ages\"]>4]\n",
    "df = pd.concat([df1,df2],axis=0)"
   ]
  },
  {
   "cell_type": "code",
   "execution_count": 4,
   "metadata": {
    "id": "mluP08OfE1Du"
   },
   "outputs": [],
   "source": [
    "df1 = df[(df[\"ages\"]>=20) & (df[\"ages\"]<=35)]\n",
    "df1 = df1.sample(frac=0.3)\n",
    "df2 = df[(df[\"ages\"]<20) | (df[\"ages\"]>35)]\n",
    "df = pd.concat([df1,df2],axis=0)"
   ]
  },
  {
   "cell_type": "code",
   "execution_count": 5,
   "metadata": {
    "id": "A4OcbUCa532j"
   },
   "outputs": [],
   "source": [
    "X = np.array(df[\"images\"].tolist())\n",
    "Y = np.array(df[\"ages\"].tolist())"
   ]
  },
  {
   "cell_type": "code",
   "execution_count": 6,
   "metadata": {
    "id": "TwRNHuwj587n"
   },
   "outputs": [],
   "source": [
    "X_train, X_test, Y_train, Y_test = train_test_split(X,Y,test_size=0.2,random_state=42)"
   ]
  },
  {
   "cell_type": "code",
   "execution_count": 8,
   "metadata": {
    "id": "EomqCe266QSf"
   },
   "outputs": [],
   "source": [
    "image_generator = ImageDataGenerator(\n",
    "    rescale = 1.0 / 255.0,\n",
    "    horizontal_flip = True\n",
    ")\n",
    "image_generator_val = ImageDataGenerator(\n",
    "    rescale = 1.0 / 255.0\n",
    ")"
   ]
  },
  {
   "cell_type": "code",
   "execution_count": null,
   "metadata": {
    "id": "CXuuv3g96Wdw"
   },
   "outputs": [],
   "source": [
    "Train = image_generator.flow(\n",
    "    X_train,\n",
    "    Y_train,\n",
    "    batch_size=32\n",
    ")\n",
    "Val = image_generator_val.flow(\n",
    "    X_test,\n",
    "    Y_test,\n",
    "    batch_size=32\n",
    ")"
   ]
  },
  {
   "cell_type": "markdown",
   "metadata": {},
   "source": [
    "## Model API"
   ]
  },
  {
   "cell_type": "code",
   "execution_count": 10,
   "metadata": {
    "id": "i1vaLZK-ESqX"
   },
   "outputs": [],
   "source": [
    "input1 = Input(shape=(150,150,3))\n",
    "conv1 = Conv2D(64,(3,3),activation=\"relu\",padding=\"same\")(input1)\n",
    "maxpool1 = MaxPool2D(pool_size=(2,2))(conv1)\n",
    "conv2 = Conv2D(128,(3,3),activation=\"relu\",padding=\"same\")(maxpool1)\n",
    "maxpool2 = MaxPool2D(pool_size=(2,2))(conv2)\n",
    "conv3 = Conv2D(256,(3,3),activation=\"relu\",padding=\"same\")(maxpool2)\n",
    "maxpool3 = MaxPool2D(pool_size=(2,2))(conv3)\n",
    "batchnormal = BatchNormalization()(maxpool3)\n",
    "flat = Flatten()(batchnormal)\n",
    "dense1 = Dense(256,activation=\"relu\")(flat)\n",
    "dense2 = Dense(128,activation=\"relu\")(dense1)\n",
    "drop = Dropout(0.5)(dense2)\n",
    "dense3 = Dense(1,activation=\"linear\")(drop)\n",
    "model = Model(inputs=input1,outputs=dense3)"
   ]
  },
  {
   "cell_type": "code",
   "execution_count": 11,
   "metadata": {
    "colab": {
     "base_uri": "https://localhost:8080/"
    },
    "id": "dyJsBnadEUlH",
    "outputId": "d829d946-39f0-4742-970b-05e0c81fc59a"
   },
   "outputs": [
    {
     "name": "stdout",
     "output_type": "stream",
     "text": [
      "Model: \"model\"\n",
      "_________________________________________________________________\n",
      " Layer (type)                Output Shape              Param #   \n",
      "=================================================================\n",
      " input_1 (InputLayer)        [(None, 150, 150, 3)]     0         \n",
      "                                                                 \n",
      " conv2d (Conv2D)             (None, 150, 150, 64)      1792      \n",
      "                                                                 \n",
      " max_pooling2d (MaxPooling2D  (None, 75, 75, 64)       0         \n",
      " )                                                               \n",
      "                                                                 \n",
      " conv2d_1 (Conv2D)           (None, 75, 75, 128)       73856     \n",
      "                                                                 \n",
      " max_pooling2d_1 (MaxPooling  (None, 37, 37, 128)      0         \n",
      " 2D)                                                             \n",
      "                                                                 \n",
      " conv2d_2 (Conv2D)           (None, 37, 37, 256)       295168    \n",
      "                                                                 \n",
      " max_pooling2d_2 (MaxPooling  (None, 18, 18, 256)      0         \n",
      " 2D)                                                             \n",
      "                                                                 \n",
      " batch_normalization (BatchN  (None, 18, 18, 256)      1024      \n",
      " ormalization)                                                   \n",
      "                                                                 \n",
      " flatten (Flatten)           (None, 82944)             0         \n",
      "                                                                 \n",
      " dense (Dense)               (None, 256)               21233920  \n",
      "                                                                 \n",
      " dense_1 (Dense)             (None, 128)               32896     \n",
      "                                                                 \n",
      " dropout (Dropout)           (None, 128)               0         \n",
      "                                                                 \n",
      " dense_2 (Dense)             (None, 1)                 129       \n",
      "                                                                 \n",
      "=================================================================\n",
      "Total params: 21,638,785\n",
      "Trainable params: 21,638,273\n",
      "Non-trainable params: 512\n",
      "_________________________________________________________________\n"
     ]
    }
   ],
   "source": [
    "model.summary()"
   ]
  },
  {
   "cell_type": "code",
   "execution_count": 12,
   "metadata": {
    "id": "lTPfLKGMCSg_"
   },
   "outputs": [],
   "source": [
    "model.compile(optimizer=\"adam\",loss=\"mean_absolute_error\")\n",
    "checkpoint = ModelCheckpoint(\"AgeEstimation.h5\",monitor=\"val_loss\",mode=\"min\",save_best_only=True)"
   ]
  },
  {
   "cell_type": "code",
   "execution_count": 13,
   "metadata": {
    "colab": {
     "base_uri": "https://localhost:8080/"
    },
    "id": "Z2M-B5VTEjyJ",
    "outputId": "948c44be-ad1d-4f6d-e0f6-821a20d0e07a"
   },
   "outputs": [
    {
     "name": "stdout",
     "output_type": "stream",
     "text": [
      "Epoch 1/20\n",
      "369/369 [==============================] - 63s 162ms/step - loss: 14.2269 - val_loss: 25.1978\n",
      "Epoch 2/20\n",
      "369/369 [==============================] - 57s 155ms/step - loss: 11.2392 - val_loss: 11.3708\n",
      "Epoch 3/20\n",
      "369/369 [==============================] - 57s 155ms/step - loss: 10.1453 - val_loss: 8.8890\n",
      "Epoch 4/20\n",
      "369/369 [==============================] - 57s 155ms/step - loss: 9.4528 - val_loss: 8.0527\n",
      "Epoch 5/20\n",
      "369/369 [==============================] - 56s 152ms/step - loss: 9.0134 - val_loss: 8.1953\n",
      "Epoch 6/20\n",
      "369/369 [==============================] - 56s 152ms/step - loss: 8.5449 - val_loss: 8.2451\n",
      "Epoch 7/20\n",
      "369/369 [==============================] - 56s 152ms/step - loss: 8.4517 - val_loss: 8.2040\n",
      "Epoch 8/20\n",
      "369/369 [==============================] - 56s 152ms/step - loss: 8.0931 - val_loss: 8.2530\n",
      "Epoch 9/20\n",
      "369/369 [==============================] - 56s 152ms/step - loss: 7.8091 - val_loss: 13.5436\n",
      "Epoch 10/20\n",
      "369/369 [==============================] - 56s 152ms/step - loss: 7.7239 - val_loss: 9.1282\n",
      "Epoch 11/20\n",
      "369/369 [==============================] - 57s 154ms/step - loss: 7.5269 - val_loss: 7.7202\n",
      "Epoch 12/20\n",
      "369/369 [==============================] - 56s 152ms/step - loss: 7.3269 - val_loss: 8.9752\n",
      "Epoch 13/20\n",
      "369/369 [==============================] - 56s 152ms/step - loss: 7.2941 - val_loss: 9.0169\n",
      "Epoch 14/20\n",
      "369/369 [==============================] - 57s 154ms/step - loss: 7.1386 - val_loss: 7.6956\n",
      "Epoch 15/20\n",
      "369/369 [==============================] - 57s 154ms/step - loss: 6.9302 - val_loss: 6.9708\n",
      "Epoch 16/20\n",
      "369/369 [==============================] - 56s 152ms/step - loss: 6.8818 - val_loss: 7.1071\n",
      "Epoch 17/20\n",
      "369/369 [==============================] - 56s 152ms/step - loss: 6.7777 - val_loss: 7.1613\n",
      "Epoch 18/20\n",
      "369/369 [==============================] - 57s 153ms/step - loss: 6.6701 - val_loss: 6.9655\n",
      "Epoch 19/20\n",
      "369/369 [==============================] - 56s 152ms/step - loss: 6.5507 - val_loss: 7.7058\n",
      "Epoch 20/20\n",
      "369/369 [==============================] - 56s 152ms/step - loss: 6.3727 - val_loss: 7.4683\n"
     ]
    }
   ],
   "source": [
    "history = model.fit(Train,\n",
    "                    epochs=20,\n",
    "                    validation_data=Val,\n",
    "                    callbacks=[checkpoint])"
   ]
  }
 ],
 "metadata": {
  "accelerator": "GPU",
  "colab": {
   "name": "Age.ipynb",
   "provenance": []
  },
  "kernelspec": {
   "display_name": "Python 3 (ipykernel)",
   "language": "python",
   "name": "python3"
  },
  "language_info": {
   "codemirror_mode": {
    "name": "ipython",
    "version": 3
   },
   "file_extension": ".py",
   "mimetype": "text/x-python",
   "name": "python",
   "nbconvert_exporter": "python",
   "pygments_lexer": "ipython3",
   "version": "3.9.6"
  }
 },
 "nbformat": 4,
 "nbformat_minor": 1
}
