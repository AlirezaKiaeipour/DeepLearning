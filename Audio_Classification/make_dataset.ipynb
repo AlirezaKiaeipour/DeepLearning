{
 "cells": [
  {
   "cell_type": "markdown",
   "metadata": {},
   "source": [
    "## Import Libraries"
   ]
  },
  {
   "cell_type": "code",
   "execution_count": 2,
   "metadata": {
    "id": "iOP7uajjrVXc"
   },
   "outputs": [],
   "source": [
    "import os\n",
    "from pathlib import Path\n",
    "import matplotlib.pyplot as plt\n",
    "from pydub import AudioSegment\n",
    "from pydub.silence import split_on_silence\n",
    "from pydub.utils import make_chunks"
   ]
  },
  {
   "cell_type": "markdown",
   "metadata": {},
   "source": [
    "## Load Dataset & Preprocess"
   ]
  },
  {
   "cell_type": "code",
   "execution_count": null,
   "metadata": {
    "id": "Gx1gB5S1wVwL"
   },
   "outputs": [],
   "source": [
    "dataset_path = \"/content/drive/MyDrive/Dataset/Audio_Dataset\"\n",
    "audio_silence_path = \"/content/drive/MyDrive/Dataset/Audio_Dataset_Silence\"\n",
    "os.makedirs(audio_silence_path,exist_ok=True)\n",
    "for file in os.listdir(dataset_path):\n",
    "  voice = AudioSegment.from_file(os.path.join(dataset_path,file))\n",
    "  split_voice = split_on_silence(voice,min_silence_len=2000,silence_thresh=-45)\n",
    "  combined_voice = sum(split_voice)\n",
    "  name = Path(file).stem\n",
    "  combined_voice.export(os.path.join(audio_silence_path,name + \".wav\"),format=\"wav\",bitrate=\"32k\")"
   ]
  },
  {
   "cell_type": "code",
   "execution_count": 5,
   "metadata": {
    "id": "0WoSlkQx17vk"
   },
   "outputs": [],
   "source": [
    "audio_silence_path = \"/content/drive/MyDrive/Dataset/Audio_Dataset_Silence\"\n",
    "audio_dataset_chunk_path = \"/content/drive/MyDrive/Dataset/Audio_Dataset_Chunk\"\n",
    "for file in os.listdir(audio_silence_path):\n",
    "  voice = AudioSegment.from_file(os.path.join(audio_silence_path,file))\n",
    "  chunk_parts = make_chunks(voice,1000)\n",
    "  name = Path(file).stem\n",
    "  os.makedirs(os.path.join(audio_dataset_chunk_path,name),exist_ok=True)\n",
    "  for index, chunk in enumerate(chunk_parts):\n",
    "    if len(chunk)<1000:\n",
    "      continue\n",
    "    dir_name = os.path.join(audio_dataset_chunk_path,name,name + f\"_{index}.wav\")\n",
    "    chunk.export(dir_name, format=\"wav\")"
   ]
  }
 ],
 "metadata": {
  "colab": {
   "provenance": []
  },
  "kernelspec": {
   "display_name": "Python 3 (ipykernel)",
   "language": "python",
   "name": "python3"
  },
  "language_info": {
   "codemirror_mode": {
    "name": "ipython",
    "version": 3
   },
   "file_extension": ".py",
   "mimetype": "text/x-python",
   "name": "python",
   "nbconvert_exporter": "python",
   "pygments_lexer": "ipython3",
   "version": "3.9.13"
  }
 },
 "nbformat": 4,
 "nbformat_minor": 1
}
