{
 "cells": [
  {
   "cell_type": "markdown",
   "metadata": {},
   "source": [
    "## Import Libraries"
   ]
  },
  {
   "cell_type": "code",
   "execution_count": 1,
   "metadata": {
    "execution": {
     "iopub.execute_input": "2022-05-13T06:10:36.702921Z",
     "iopub.status.busy": "2022-05-13T06:10:36.702296Z",
     "iopub.status.idle": "2022-05-13T06:10:38.304672Z",
     "shell.execute_reply": "2022-05-13T06:10:38.303880Z",
     "shell.execute_reply.started": "2022-05-13T06:10:36.702811Z"
    }
   },
   "outputs": [],
   "source": [
    "import torch\n",
    "import torchvision\n",
    "from tqdm import tqdm"
   ]
  },
  {
   "cell_type": "markdown",
   "metadata": {},
   "source": [
    "## Load Dataset"
   ]
  },
  {
   "cell_type": "code",
   "execution_count": 4,
   "metadata": {
    "execution": {
     "iopub.execute_input": "2022-05-13T06:10:48.764726Z",
     "iopub.status.busy": "2022-05-13T06:10:48.764410Z",
     "iopub.status.idle": "2022-05-13T06:10:48.818767Z",
     "shell.execute_reply": "2022-05-13T06:10:48.818048Z",
     "shell.execute_reply.started": "2022-05-13T06:10:48.764691Z"
    }
   },
   "outputs": [],
   "source": [
    "transform = torchvision.transforms.Compose([\n",
    "    torchvision.transforms.ToTensor(),\n",
    "    torchvision.transforms.Normalize((0),(1))\n",
    "])\n",
    "dataset_train = torchvision.datasets.MNIST(\"./\",train=True,download=True,transform=transform)\n",
    "dataset_test = torchvision.datasets.MNIST(\"./\",train=False,download=True,transform=transform)\n",
    "train_data = torch.utils.data.DataLoader(dataset_train,batch_size=32,shuffle=True)\n",
    "test_data = torch.utils.data.DataLoader(dataset_test,batch_size=32)"
   ]
  },
  {
   "cell_type": "code",
   "execution_count": 5,
   "metadata": {
    "execution": {
     "iopub.execute_input": "2022-05-13T06:10:53.892278Z",
     "iopub.status.busy": "2022-05-13T06:10:53.891909Z",
     "iopub.status.idle": "2022-05-13T06:10:53.901668Z",
     "shell.execute_reply": "2022-05-13T06:10:53.900889Z",
     "shell.execute_reply.started": "2022-05-13T06:10:53.892240Z"
    }
   },
   "outputs": [],
   "source": [
    "class Model(torch.nn.Module):\n",
    "    def __init__(self):\n",
    "        super().__init__()\n",
    "        self.fully_connect1 = torch.nn.Linear(784,512)\n",
    "        self.fully_connect2 = torch.nn.Linear(512,256)\n",
    "        self.fully_connect3 = torch.nn.Linear(256,10)\n",
    "    \n",
    "    def forward(self,x):\n",
    "        x = x.reshape((x.shape[0],784))\n",
    "        x = self.fully_connect1(x)\n",
    "        x = torch.relu(x)\n",
    "        x = torch.dropout(x,0.2,train=True)\n",
    "        x = self.fully_connect2(x)\n",
    "        x = torch.relu(x)\n",
    "        x = torch.dropout(x,0.5,train=True)\n",
    "        x = self.fully_connect3(x)\n",
    "        x = torch.softmax(x,dim=1)\n",
    "\n",
    "        return x"
   ]
  },
  {
   "cell_type": "code",
   "execution_count": 6,
   "metadata": {
    "execution": {
     "iopub.execute_input": "2022-05-13T06:10:56.984597Z",
     "iopub.status.busy": "2022-05-13T06:10:56.984152Z",
     "iopub.status.idle": "2022-05-13T06:10:57.013042Z",
     "shell.execute_reply": "2022-05-13T06:10:57.012294Z",
     "shell.execute_reply.started": "2022-05-13T06:10:56.984565Z"
    }
   },
   "outputs": [],
   "source": [
    "device = torch.device(\"cpu\")\n",
    "model = Model()\n",
    "model = model.to(device)\n",
    "model.train = True"
   ]
  },
  {
   "cell_type": "code",
   "execution_count": 7,
   "metadata": {
    "execution": {
     "iopub.execute_input": "2022-05-13T06:10:59.230469Z",
     "iopub.status.busy": "2022-05-13T06:10:59.229871Z",
     "iopub.status.idle": "2022-05-13T06:10:59.236225Z",
     "shell.execute_reply": "2022-05-13T06:10:59.235285Z",
     "shell.execute_reply.started": "2022-05-13T06:10:59.230416Z"
    }
   },
   "outputs": [],
   "source": [
    "optimizer = torch.optim.Adam(model.parameters(),lr=0.001)\n",
    "loss_function = torch.nn.CrossEntropyLoss()"
   ]
  },
  {
   "cell_type": "code",
   "execution_count": 8,
   "metadata": {
    "execution": {
     "iopub.execute_input": "2022-05-13T06:11:00.857396Z",
     "iopub.status.busy": "2022-05-13T06:11:00.856801Z",
     "iopub.status.idle": "2022-05-13T06:11:00.862797Z",
     "shell.execute_reply": "2022-05-13T06:11:00.862175Z",
     "shell.execute_reply.started": "2022-05-13T06:11:00.857340Z"
    }
   },
   "outputs": [],
   "source": [
    "def accuracy(predict,label):\n",
    "    _,predict_max = torch.max(predict,1)\n",
    "    acc = torch.sum(predict_max==label,dtype=torch.float64) / len(predict)\n",
    "    return acc"
   ]
  },
  {
   "cell_type": "code",
   "execution_count": 9,
   "metadata": {
    "execution": {
     "iopub.execute_input": "2022-05-13T06:11:04.448434Z",
     "iopub.status.busy": "2022-05-13T06:11:04.447617Z",
     "iopub.status.idle": "2022-05-13T06:21:06.830573Z",
     "shell.execute_reply": "2022-05-13T06:21:06.829640Z",
     "shell.execute_reply.started": "2022-05-13T06:11:04.448379Z"
    }
   },
   "outputs": [
    {
     "name": "stderr",
     "output_type": "stream",
     "text": [
      "100%|██████████| 1875/1875 [00:20<00:00, 89.30it/s]\n"
     ]
    },
    {
     "name": "stdout",
     "output_type": "stream",
     "text": [
      "Epoch: 1, Accuracy: 0.8971, Loss: 1.571567416191101\n",
      "Epoch: 1, Val_Accuracy: 0.9405950479233227, Val_Loss: 1.5227594375610352\n"
     ]
    },
    {
     "name": "stderr",
     "output_type": "stream",
     "text": [
      "100%|██████████| 1875/1875 [00:22<00:00, 83.35it/s]\n"
     ]
    },
    {
     "name": "stdout",
     "output_type": "stream",
     "text": [
      "Epoch: 2, Accuracy: 0.9473833333333334, Loss: 1.5148673057556152\n",
      "Epoch: 2, Val_Accuracy: 0.9447883386581469, Val_Loss: 1.5163865089416504\n"
     ]
    },
    {
     "name": "stderr",
     "output_type": "stream",
     "text": [
      "100%|██████████| 1875/1875 [00:23<00:00, 80.98it/s]\n"
     ]
    },
    {
     "name": "stdout",
     "output_type": "stream",
     "text": [
      "Epoch: 3, Accuracy: 0.9544833333333334, Loss: 1.5067291259765625\n",
      "Epoch: 3, Val_Accuracy: 0.9618610223642172, Val_Loss: 1.4993170499801636\n"
     ]
    },
    {
     "name": "stderr",
     "output_type": "stream",
     "text": [
      "100%|██████████| 1875/1875 [00:24<00:00, 76.93it/s]\n"
     ]
    },
    {
     "name": "stdout",
     "output_type": "stream",
     "text": [
      "Epoch: 4, Accuracy: 0.9599833333333333, Loss: 1.5014593601226807\n",
      "Epoch: 4, Val_Accuracy: 0.9592651757188498, Val_Loss: 1.5012420415878296\n"
     ]
    },
    {
     "name": "stderr",
     "output_type": "stream",
     "text": [
      "100%|██████████| 1875/1875 [00:25<00:00, 72.20it/s]\n"
     ]
    },
    {
     "name": "stdout",
     "output_type": "stream",
     "text": [
      "Epoch: 5, Accuracy: 0.9611333333333333, Loss: 1.499843955039978\n",
      "Epoch: 5, Val_Accuracy: 0.9564696485623003, Val_Loss: 1.5050262212753296\n"
     ]
    },
    {
     "name": "stderr",
     "output_type": "stream",
     "text": [
      "100%|██████████| 1875/1875 [00:27<00:00, 68.28it/s]\n"
     ]
    },
    {
     "name": "stdout",
     "output_type": "stream",
     "text": [
      "Epoch: 6, Accuracy: 0.9619833333333333, Loss: 1.4991505146026611\n",
      "Epoch: 6, Val_Accuracy: 0.9622603833865815, Val_Loss: 1.4988242387771606\n"
     ]
    },
    {
     "name": "stderr",
     "output_type": "stream",
     "text": [
      "100%|██████████| 1875/1875 [00:28<00:00, 65.20it/s]\n"
     ]
    },
    {
     "name": "stdout",
     "output_type": "stream",
     "text": [
      "Epoch: 7, Accuracy: 0.9642833333333334, Loss: 1.496816873550415\n",
      "Epoch: 7, Val_Accuracy: 0.9610623003194888, Val_Loss: 1.49973726272583\n"
     ]
    },
    {
     "name": "stderr",
     "output_type": "stream",
     "text": [
      "100%|██████████| 1875/1875 [00:29<00:00, 64.23it/s]\n"
     ]
    },
    {
     "name": "stdout",
     "output_type": "stream",
     "text": [
      "Epoch: 8, Accuracy: 0.9653833333333334, Loss: 1.4956958293914795\n",
      "Epoch: 8, Val_Accuracy: 0.9562699680511182, Val_Loss: 1.5052043199539185\n"
     ]
    },
    {
     "name": "stderr",
     "output_type": "stream",
     "text": [
      "100%|██████████| 1875/1875 [00:30<00:00, 60.69it/s]\n"
     ]
    },
    {
     "name": "stdout",
     "output_type": "stream",
     "text": [
      "Epoch: 9, Accuracy: 0.9643166666666667, Loss: 1.496751070022583\n",
      "Epoch: 9, Val_Accuracy: 0.9638578274760383, Val_Loss: 1.4971567392349243\n"
     ]
    },
    {
     "name": "stderr",
     "output_type": "stream",
     "text": [
      "100%|██████████| 1875/1875 [00:30<00:00, 62.03it/s]\n"
     ]
    },
    {
     "name": "stdout",
     "output_type": "stream",
     "text": [
      "Epoch: 10, Accuracy: 0.9661666666666666, Loss: 1.4950542449951172\n",
      "Epoch: 10, Val_Accuracy: 0.9548722044728435, Val_Loss: 1.506162166595459\n"
     ]
    },
    {
     "name": "stderr",
     "output_type": "stream",
     "text": [
      "100%|██████████| 1875/1875 [00:31<00:00, 59.94it/s]\n"
     ]
    },
    {
     "name": "stdout",
     "output_type": "stream",
     "text": [
      "Epoch: 11, Accuracy: 0.9664, Loss: 1.4947634935379028\n",
      "Epoch: 11, Val_Accuracy: 0.9599640575079872, Val_Loss: 1.5012686252593994\n"
     ]
    },
    {
     "name": "stderr",
     "output_type": "stream",
     "text": [
      "100%|██████████| 1875/1875 [00:30<00:00, 61.57it/s]\n"
     ]
    },
    {
     "name": "stdout",
     "output_type": "stream",
     "text": [
      "Epoch: 12, Accuracy: 0.9662833333333334, Loss: 1.4949889183044434\n",
      "Epoch: 12, Val_Accuracy: 0.9625599041533547, Val_Loss: 1.4984110593795776\n"
     ]
    },
    {
     "name": "stderr",
     "output_type": "stream",
     "text": [
      "100%|██████████| 1875/1875 [00:30<00:00, 61.01it/s]\n"
     ]
    },
    {
     "name": "stdout",
     "output_type": "stream",
     "text": [
      "Epoch: 13, Accuracy: 0.9649166666666666, Loss: 1.4961552619934082\n",
      "Epoch: 13, Val_Accuracy: 0.9600638977635783, Val_Loss: 1.5006816387176514\n"
     ]
    },
    {
     "name": "stderr",
     "output_type": "stream",
     "text": [
      "100%|██████████| 1875/1875 [00:29<00:00, 62.72it/s]\n"
     ]
    },
    {
     "name": "stdout",
     "output_type": "stream",
     "text": [
      "Epoch: 14, Accuracy: 0.9664166666666667, Loss: 1.4946033954620361\n",
      "Epoch: 14, Val_Accuracy: 0.9646565495207667, Val_Loss: 1.4964838027954102\n"
     ]
    },
    {
     "name": "stderr",
     "output_type": "stream",
     "text": [
      "100%|██████████| 1875/1875 [00:30<00:00, 61.20it/s]\n"
     ]
    },
    {
     "name": "stdout",
     "output_type": "stream",
     "text": [
      "Epoch: 15, Accuracy: 0.9675333333333334, Loss: 1.49355947971344\n",
      "Epoch: 15, Val_Accuracy: 0.9590654952076677, Val_Loss: 1.5018682479858398\n"
     ]
    },
    {
     "name": "stderr",
     "output_type": "stream",
     "text": [
      "100%|██████████| 1875/1875 [00:29<00:00, 64.12it/s]\n"
     ]
    },
    {
     "name": "stdout",
     "output_type": "stream",
     "text": [
      "Epoch: 16, Accuracy: 0.9660666666666666, Loss: 1.4951894283294678\n",
      "Epoch: 16, Val_Accuracy: 0.9628594249201278, Val_Loss: 1.4978243112564087\n"
     ]
    },
    {
     "name": "stderr",
     "output_type": "stream",
     "text": [
      "100%|██████████| 1875/1875 [00:29<00:00, 62.64it/s]\n"
     ]
    },
    {
     "name": "stdout",
     "output_type": "stream",
     "text": [
      "Epoch: 17, Accuracy: 0.9676333333333333, Loss: 1.4934922456741333\n",
      "Epoch: 17, Val_Accuracy: 0.9605630990415336, Val_Loss: 1.500481128692627\n"
     ]
    },
    {
     "name": "stderr",
     "output_type": "stream",
     "text": [
      "100%|██████████| 1875/1875 [00:29<00:00, 63.63it/s]\n"
     ]
    },
    {
     "name": "stdout",
     "output_type": "stream",
     "text": [
      "Epoch: 18, Accuracy: 0.9658833333333333, Loss: 1.4950751066207886\n",
      "Epoch: 18, Val_Accuracy: 0.9569688498402555, Val_Loss: 1.5036283731460571\n"
     ]
    },
    {
     "name": "stderr",
     "output_type": "stream",
     "text": [
      "100%|██████████| 1875/1875 [00:29<00:00, 63.18it/s]\n"
     ]
    },
    {
     "name": "stdout",
     "output_type": "stream",
     "text": [
      "Epoch: 19, Accuracy: 0.96705, Loss: 1.4940341711044312\n",
      "Epoch: 19, Val_Accuracy: 0.9618610223642172, Val_Loss: 1.4991676807403564\n"
     ]
    },
    {
     "name": "stderr",
     "output_type": "stream",
     "text": [
      "100%|██████████| 1875/1875 [00:29<00:00, 64.58it/s]\n"
     ]
    },
    {
     "name": "stdout",
     "output_type": "stream",
     "text": [
      "Epoch: 20, Accuracy: 0.9660333333333333, Loss: 1.4950788021087646\n",
      "Epoch: 20, Val_Accuracy: 0.9645567092651757, Val_Loss: 1.4963780641555786\n"
     ]
    }
   ],
   "source": [
    "for epoch in range(20):\n",
    "    train_loss = 0.0\n",
    "    test_loss = 0.0\n",
    "    train_acc = 0.0\n",
    "    test_acc = 0.0\n",
    "    for image,label in tqdm(train_data):\n",
    "        image.to(device)\n",
    "        label.to(device)\n",
    "        optimizer.zero_grad()\n",
    "        predict = model(image)\n",
    "        loss = loss_function(predict,label)\n",
    "        loss.backward()\n",
    "        optimizer.step()\n",
    "        \n",
    "        train_loss +=loss\n",
    "        train_acc += accuracy(predict,label)\n",
    "        \n",
    "    for image,label in test_data:\n",
    "        image.to(device)\n",
    "        label.to(device)\n",
    "        predict = model(image)\n",
    "        loss = loss_function(predict,label)\n",
    "        \n",
    "        test_loss += loss\n",
    "        test_acc += accuracy(predict,label)\n",
    "        \n",
    "        \n",
    "    train_total_loss = train_loss / len(train_data)\n",
    "    train_total_acc = train_acc / len(train_data)\n",
    "    test_total_loss = test_loss / len(test_data)\n",
    "    test_total_acc = test_acc / len(test_data)\n",
    "    \n",
    "    print(f\"Epoch: {epoch+1}, Accuracy: {train_total_acc}, Loss: {train_total_loss}\")\n",
    "    print(f\"Epoch: {epoch+1}, Val_Accuracy: {test_total_acc}, Val_Loss: {test_total_loss}\")"
   ]
  },
  {
   "cell_type": "code",
   "execution_count": 10,
   "metadata": {
    "execution": {
     "iopub.execute_input": "2022-05-13T06:21:06.836559Z",
     "iopub.status.busy": "2022-05-13T06:21:06.836271Z",
     "iopub.status.idle": "2022-05-13T06:21:06.847588Z",
     "shell.execute_reply": "2022-05-13T06:21:06.846622Z",
     "shell.execute_reply.started": "2022-05-13T06:21:06.836525Z"
    }
   },
   "outputs": [],
   "source": [
    "torch.save(model.state_dict(),\"mnist.pth\")"
   ]
  }
 ],
 "metadata": {
  "kernelspec": {
   "display_name": "Python 3 (ipykernel)",
   "language": "python",
   "name": "python3"
  },
  "language_info": {
   "codemirror_mode": {
    "name": "ipython",
    "version": 3
   },
   "file_extension": ".py",
   "mimetype": "text/x-python",
   "name": "python",
   "nbconvert_exporter": "python",
   "pygments_lexer": "ipython3",
   "version": "3.9.6"
  }
 },
 "nbformat": 4,
 "nbformat_minor": 4
}
