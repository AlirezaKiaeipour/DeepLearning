{
 "cells": [
  {
   "cell_type": "markdown",
   "id": "d86254f4-b6dd-4705-b503-3455ff9be405",
   "metadata": {},
   "source": [
    "## Import Libraries & Load Dataset"
   ]
  },
  {
   "cell_type": "code",
   "execution_count": 1,
   "id": "55991092-b132-411b-8728-028a04c81959",
   "metadata": {},
   "outputs": [],
   "source": [
    "import os\n",
    "import glob\n",
    "import pandas as pd\n",
    "import numpy as np\n",
    "from deepface import DeepFace\n",
    "from sklearn.model_selection import train_test_split\n",
    "from tensorflow.keras.models import Sequential\n",
    "from tensorflow.keras.layers import Dense\n",
    "from tensorflow.keras.callbacks import ModelCheckpoint\n",
    "from tensorflow.keras.utils import plot_model\n",
    "import matplotlib.pyplot as plt"
   ]
  },
  {
   "cell_type": "code",
   "execution_count": 2,
   "id": "0ca6e934-6fc9-4c2b-bc5a-ede272738f7b",
   "metadata": {},
   "outputs": [],
   "source": [
    "X,Y = [],[]\n",
    "for index,paths in enumerate(os.listdir(\"Actor\")):\n",
    "    paths = glob.glob(os.path.join(f\"Actor/{paths}/*\"))\n",
    "    for path in paths:\n",
    "        embedding = DeepFace.represent(img_path = path, model_name = 'ArcFace')\n",
    "        X.append(embedding)\n",
    "        Y.append(index)"
   ]
  },
  {
   "cell_type": "code",
   "execution_count": 3,
   "id": "8150ca59-692f-43bf-9545-6575fb0177c4",
   "metadata": {},
   "outputs": [],
   "source": [
    "df1 = pd.DataFrame(X)\n",
    "df2 = pd.DataFrame(Y,columns=[\"target\"])"
   ]
  },
  {
   "cell_type": "code",
   "execution_count": 4,
   "id": "2503160b-ea10-456a-b958-6ea244d8375c",
   "metadata": {},
   "outputs": [
    {
     "data": {
      "text/html": [
       "<div>\n",
       "<style scoped>\n",
       "    .dataframe tbody tr th:only-of-type {\n",
       "        vertical-align: middle;\n",
       "    }\n",
       "\n",
       "    .dataframe tbody tr th {\n",
       "        vertical-align: top;\n",
       "    }\n",
       "\n",
       "    .dataframe thead th {\n",
       "        text-align: right;\n",
       "    }\n",
       "</style>\n",
       "<table border=\"1\" class=\"dataframe\">\n",
       "  <thead>\n",
       "    <tr style=\"text-align: right;\">\n",
       "      <th></th>\n",
       "      <th>0</th>\n",
       "      <th>1</th>\n",
       "      <th>2</th>\n",
       "      <th>3</th>\n",
       "      <th>4</th>\n",
       "      <th>5</th>\n",
       "      <th>6</th>\n",
       "      <th>7</th>\n",
       "      <th>8</th>\n",
       "      <th>9</th>\n",
       "      <th>...</th>\n",
       "      <th>503</th>\n",
       "      <th>504</th>\n",
       "      <th>505</th>\n",
       "      <th>506</th>\n",
       "      <th>507</th>\n",
       "      <th>508</th>\n",
       "      <th>509</th>\n",
       "      <th>510</th>\n",
       "      <th>511</th>\n",
       "      <th>target</th>\n",
       "    </tr>\n",
       "  </thead>\n",
       "  <tbody>\n",
       "    <tr>\n",
       "      <th>0</th>\n",
       "      <td>0.068913</td>\n",
       "      <td>0.351612</td>\n",
       "      <td>0.158816</td>\n",
       "      <td>-0.049700</td>\n",
       "      <td>-0.006458</td>\n",
       "      <td>0.099241</td>\n",
       "      <td>0.286416</td>\n",
       "      <td>-0.174178</td>\n",
       "      <td>0.484864</td>\n",
       "      <td>0.192988</td>\n",
       "      <td>...</td>\n",
       "      <td>0.141474</td>\n",
       "      <td>0.208830</td>\n",
       "      <td>-0.121869</td>\n",
       "      <td>0.215515</td>\n",
       "      <td>-0.191955</td>\n",
       "      <td>0.023360</td>\n",
       "      <td>0.198800</td>\n",
       "      <td>0.556806</td>\n",
       "      <td>0.301049</td>\n",
       "      <td>0</td>\n",
       "    </tr>\n",
       "    <tr>\n",
       "      <th>1</th>\n",
       "      <td>0.040682</td>\n",
       "      <td>0.257558</td>\n",
       "      <td>0.104557</td>\n",
       "      <td>0.194518</td>\n",
       "      <td>0.226393</td>\n",
       "      <td>0.034214</td>\n",
       "      <td>0.275209</td>\n",
       "      <td>-0.151838</td>\n",
       "      <td>0.556266</td>\n",
       "      <td>0.148203</td>\n",
       "      <td>...</td>\n",
       "      <td>0.182706</td>\n",
       "      <td>0.012894</td>\n",
       "      <td>-0.040099</td>\n",
       "      <td>0.294579</td>\n",
       "      <td>-0.280246</td>\n",
       "      <td>-0.080286</td>\n",
       "      <td>-0.304367</td>\n",
       "      <td>0.396919</td>\n",
       "      <td>0.217276</td>\n",
       "      <td>0</td>\n",
       "    </tr>\n",
       "    <tr>\n",
       "      <th>2</th>\n",
       "      <td>0.104939</td>\n",
       "      <td>0.386380</td>\n",
       "      <td>0.106487</td>\n",
       "      <td>-0.025087</td>\n",
       "      <td>0.143690</td>\n",
       "      <td>-0.064570</td>\n",
       "      <td>0.303678</td>\n",
       "      <td>-0.211972</td>\n",
       "      <td>0.271065</td>\n",
       "      <td>0.256697</td>\n",
       "      <td>...</td>\n",
       "      <td>0.336132</td>\n",
       "      <td>0.107602</td>\n",
       "      <td>0.003435</td>\n",
       "      <td>0.037728</td>\n",
       "      <td>-0.242118</td>\n",
       "      <td>-0.038507</td>\n",
       "      <td>-0.023617</td>\n",
       "      <td>0.457861</td>\n",
       "      <td>0.303925</td>\n",
       "      <td>0</td>\n",
       "    </tr>\n",
       "    <tr>\n",
       "      <th>3</th>\n",
       "      <td>0.184194</td>\n",
       "      <td>0.086012</td>\n",
       "      <td>0.076670</td>\n",
       "      <td>0.252577</td>\n",
       "      <td>0.201675</td>\n",
       "      <td>-0.001238</td>\n",
       "      <td>0.216037</td>\n",
       "      <td>-0.113079</td>\n",
       "      <td>0.511967</td>\n",
       "      <td>0.195856</td>\n",
       "      <td>...</td>\n",
       "      <td>0.364943</td>\n",
       "      <td>0.193744</td>\n",
       "      <td>-0.072611</td>\n",
       "      <td>0.135687</td>\n",
       "      <td>-0.303817</td>\n",
       "      <td>-0.061088</td>\n",
       "      <td>0.143668</td>\n",
       "      <td>0.442037</td>\n",
       "      <td>0.543001</td>\n",
       "      <td>0</td>\n",
       "    </tr>\n",
       "    <tr>\n",
       "      <th>4</th>\n",
       "      <td>0.029415</td>\n",
       "      <td>0.303481</td>\n",
       "      <td>0.133968</td>\n",
       "      <td>0.098860</td>\n",
       "      <td>0.214055</td>\n",
       "      <td>0.004312</td>\n",
       "      <td>0.243348</td>\n",
       "      <td>-0.209635</td>\n",
       "      <td>0.554337</td>\n",
       "      <td>0.171607</td>\n",
       "      <td>...</td>\n",
       "      <td>0.153166</td>\n",
       "      <td>0.060538</td>\n",
       "      <td>0.006612</td>\n",
       "      <td>0.284226</td>\n",
       "      <td>-0.292747</td>\n",
       "      <td>-0.044281</td>\n",
       "      <td>-0.265390</td>\n",
       "      <td>0.394750</td>\n",
       "      <td>0.246299</td>\n",
       "      <td>0</td>\n",
       "    </tr>\n",
       "  </tbody>\n",
       "</table>\n",
       "<p>5 rows × 513 columns</p>\n",
       "</div>"
      ],
      "text/plain": [
       "          0         1         2         3         4         5         6  \\\n",
       "0  0.068913  0.351612  0.158816 -0.049700 -0.006458  0.099241  0.286416   \n",
       "1  0.040682  0.257558  0.104557  0.194518  0.226393  0.034214  0.275209   \n",
       "2  0.104939  0.386380  0.106487 -0.025087  0.143690 -0.064570  0.303678   \n",
       "3  0.184194  0.086012  0.076670  0.252577  0.201675 -0.001238  0.216037   \n",
       "4  0.029415  0.303481  0.133968  0.098860  0.214055  0.004312  0.243348   \n",
       "\n",
       "          7         8         9  ...       503       504       505       506  \\\n",
       "0 -0.174178  0.484864  0.192988  ...  0.141474  0.208830 -0.121869  0.215515   \n",
       "1 -0.151838  0.556266  0.148203  ...  0.182706  0.012894 -0.040099  0.294579   \n",
       "2 -0.211972  0.271065  0.256697  ...  0.336132  0.107602  0.003435  0.037728   \n",
       "3 -0.113079  0.511967  0.195856  ...  0.364943  0.193744 -0.072611  0.135687   \n",
       "4 -0.209635  0.554337  0.171607  ...  0.153166  0.060538  0.006612  0.284226   \n",
       "\n",
       "        507       508       509       510       511  target  \n",
       "0 -0.191955  0.023360  0.198800  0.556806  0.301049       0  \n",
       "1 -0.280246 -0.080286 -0.304367  0.396919  0.217276       0  \n",
       "2 -0.242118 -0.038507 -0.023617  0.457861  0.303925       0  \n",
       "3 -0.303817 -0.061088  0.143668  0.442037  0.543001       0  \n",
       "4 -0.292747 -0.044281 -0.265390  0.394750  0.246299       0  \n",
       "\n",
       "[5 rows x 513 columns]"
      ]
     },
     "execution_count": 4,
     "metadata": {},
     "output_type": "execute_result"
    }
   ],
   "source": [
    "feature_df = pd.concat([df1,df2],axis=1)\n",
    "feature_df.to_csv('featureact.csv', index=False)\n",
    "feature_df.head()"
   ]
  },
  {
   "cell_type": "code",
   "execution_count": 5,
   "id": "8d5ec448-51c4-4d48-b3ba-2c0d1b173cfa",
   "metadata": {},
   "outputs": [],
   "source": [
    "X_train , X_test, Y_train , Y_test = train_test_split(X,Y,test_size=0.3)"
   ]
  },
  {
   "cell_type": "markdown",
   "id": "b2153e97-9600-48ba-b64b-5de851bf38e3",
   "metadata": {},
   "source": [
    "# Model\n",
    "### Multi Layer Perceptron"
   ]
  },
  {
   "cell_type": "code",
   "execution_count": 6,
   "id": "7569377e-437a-4819-beaf-be42c02a5773",
   "metadata": {},
   "outputs": [],
   "source": [
    "model = Sequential()\n",
    "model.add(Dense(128,activation=\"relu\",input_shape=(512,)))\n",
    "model.add(Dense(2,activation=\"softmax\"))"
   ]
  },
  {
   "cell_type": "code",
   "execution_count": 7,
   "id": "e5def1e5-4b31-43d9-a4dc-c52d746af29d",
   "metadata": {},
   "outputs": [
    {
     "name": "stdout",
     "output_type": "stream",
     "text": [
      "Model: \"sequential\"\n",
      "_________________________________________________________________\n",
      " Layer (type)                Output Shape              Param #   \n",
      "=================================================================\n",
      " dense_1 (Dense)             (None, 128)               65664     \n",
      "                                                                 \n",
      " dense_2 (Dense)             (None, 2)                 258       \n",
      "                                                                 \n",
      "=================================================================\n",
      "Total params: 65,922\n",
      "Trainable params: 65,922\n",
      "Non-trainable params: 0\n",
      "_________________________________________________________________\n"
     ]
    }
   ],
   "source": [
    "model.summary()"
   ]
  },
  {
   "cell_type": "code",
   "execution_count": 8,
   "id": "d1acb94a-85cd-4d5c-a09d-dda07b2e5f25",
   "metadata": {},
   "outputs": [
    {
     "data": {
      "image/png": "[encoded data removed]",
      "text/plain": [
       "<IPython.core.display.Image object>"
      ]
     },
     "execution_count": 8,
     "metadata": {},
     "output_type": "execute_result"
    }
   ],
   "source": [
    "plot_model(model,show_shapes=True)"
   ]
  },
  {
   "cell_type": "code",
   "execution_count": 9,
   "id": "1a08e726-6ed4-4f2e-8e5a-fdc8ebef9df7",
   "metadata": {},
   "outputs": [],
   "source": [
    "model.compile(optimizer=\"adam\",loss=\"sparse_categorical_crossentropy\",metrics=[\"accuracy\"])\n",
    "checkpoint = ModelCheckpoint(\"model.h5\",monitor=\"val_accuracy\",mode=\"max\",save_best_only=True)"
   ]
  },
  {
   "cell_type": "code",
   "execution_count": 10,
   "id": "d9d02770-bf8c-4205-9883-84f3fa6f3725",
   "metadata": {},
   "outputs": [
    {
     "name": "stdout",
     "output_type": "stream",
     "text": [
      "Epoch 1/20\n",
      "3/3 [==============================] - 0s 100ms/step - loss: 0.5627 - accuracy: 0.8214 - val_loss: 0.3275 - val_accuracy: 1.0000\n",
      "Epoch 2/20\n",
      "3/3 [==============================] - 0s 22ms/step - loss: 0.2636 - accuracy: 1.0000 - val_loss: 0.1638 - val_accuracy: 1.0000\n",
      "Epoch 3/20\n",
      "3/3 [==============================] - 0s 20ms/step - loss: 0.1210 - accuracy: 1.0000 - val_loss: 0.0844 - val_accuracy: 1.0000\n",
      "Epoch 4/20\n",
      "3/3 [==============================] - 0s 22ms/step - loss: 0.0584 - accuracy: 1.0000 - val_loss: 0.0461 - val_accuracy: 1.0000\n",
      "Epoch 5/20\n",
      "3/3 [==============================] - 0s 23ms/step - loss: 0.0297 - accuracy: 1.0000 - val_loss: 0.0274 - val_accuracy: 1.0000\n",
      "Epoch 6/20\n",
      "3/3 [==============================] - 0s 25ms/step - loss: 0.0159 - accuracy: 1.0000 - val_loss: 0.0177 - val_accuracy: 1.0000\n",
      "Epoch 7/20\n",
      "3/3 [==============================] - 0s 25ms/step - loss: 0.0095 - accuracy: 1.0000 - val_loss: 0.0122 - val_accuracy: 1.0000\n",
      "Epoch 8/20\n",
      "3/3 [==============================] - 0s 22ms/step - loss: 0.0060 - accuracy: 1.0000 - val_loss: 0.0090 - val_accuracy: 1.0000\n",
      "Epoch 9/20\n",
      "3/3 [==============================] - 0s 21ms/step - loss: 0.0042 - accuracy: 1.0000 - val_loss: 0.0070 - val_accuracy: 1.0000\n",
      "Epoch 10/20\n",
      "3/3 [==============================] - 0s 21ms/step - loss: 0.0031 - accuracy: 1.0000 - val_loss: 0.0057 - val_accuracy: 1.0000\n",
      "Epoch 11/20\n",
      "3/3 [==============================] - 0s 22ms/step - loss: 0.0024 - accuracy: 1.0000 - val_loss: 0.0049 - val_accuracy: 1.0000\n",
      "Epoch 12/20\n",
      "3/3 [==============================] - 0s 21ms/step - loss: 0.0020 - accuracy: 1.0000 - val_loss: 0.0042 - val_accuracy: 1.0000\n",
      "Epoch 13/20\n",
      "3/3 [==============================] - 0s 21ms/step - loss: 0.0017 - accuracy: 1.0000 - val_loss: 0.0038 - val_accuracy: 1.0000\n",
      "Epoch 14/20\n",
      "3/3 [==============================] - 0s 21ms/step - loss: 0.0015 - accuracy: 1.0000 - val_loss: 0.0035 - val_accuracy: 1.0000\n",
      "Epoch 15/20\n",
      "3/3 [==============================] - 0s 22ms/step - loss: 0.0013 - accuracy: 1.0000 - val_loss: 0.0032 - val_accuracy: 1.0000\n",
      "Epoch 16/20\n",
      "3/3 [==============================] - 0s 20ms/step - loss: 0.0012 - accuracy: 1.0000 - val_loss: 0.0031 - val_accuracy: 1.0000\n",
      "Epoch 17/20\n",
      "3/3 [==============================] - 0s 21ms/step - loss: 0.0011 - accuracy: 1.0000 - val_loss: 0.0029 - val_accuracy: 1.0000\n",
      "Epoch 18/20\n",
      "3/3 [==============================] - 0s 21ms/step - loss: 9.9187e-04 - accuracy: 1.0000 - val_loss: 0.0028 - val_accuracy: 1.0000\n",
      "Epoch 19/20\n",
      "3/3 [==============================] - 0s 23ms/step - loss: 9.3582e-04 - accuracy: 1.0000 - val_loss: 0.0027 - val_accuracy: 1.0000\n",
      "Epoch 20/20\n",
      "3/3 [==============================] - 0s 26ms/step - loss: 8.8563e-04 - accuracy: 1.0000 - val_loss: 0.0027 - val_accuracy: 1.0000\n"
     ]
    }
   ],
   "source": [
    "history = model.fit(X_train,Y_train,validation_data=(X_test,Y_test),epochs=20,batch_size=25,callbacks=[checkpoint])"
   ]
  },
  {
   "cell_type": "code",
   "execution_count": 11,
   "id": "a24b764e-ee3d-446d-a9f3-76344ab51762",
   "metadata": {},
   "outputs": [
    {
     "data": {
      "image/png": "[encoded data removed]",
      "text/plain": [
       "<Figure size 1296x360 with 2 Axes>"
      ]
     },
     "metadata": {
      "needs_background": "light"
     },
     "output_type": "display_data"
    }
   ],
   "source": [
    "fig , (ax1,ax2) = plt.subplots(1,2,figsize=(18,5))\n",
    "ax1.set_title(\"Loss\")\n",
    "ax2.set_title(\"Accuracy\")\n",
    "ax1.plot(history.history[\"loss\"],label=\"Train\",marker=\".\")\n",
    "ax1.plot(history.history[\"val_loss\"],label=\"Test\",marker=\".\")\n",
    "ax2.plot(history.history[\"accuracy\"],label=\"Train\",marker=\".\")\n",
    "ax2.plot(history.history[\"val_accuracy\"],label=\"Test\",marker=\".\")\n",
    "ax1.legend()\n",
    "ax2.legend()\n",
    "plt.show()"
   ]
  },
  {
   "cell_type": "code",
   "execution_count": 12,
   "id": "7c3e815c-d2ef-4ab3-bba7-9bbce45ced75",
   "metadata": {},
   "outputs": [
    {
     "data": {
      "text/plain": [
       "1"
      ]
     },
     "execution_count": 12,
     "metadata": {},
     "output_type": "execute_result"
    }
   ],
   "source": [
    "embedding = DeepFace.represent(img_path = \"Actor/parsa_piroozfar/12.jpg\", model_name = 'ArcFace')\n",
    "np.argmax(model.predict([embedding]))"
   ]
  }
 ],
 "metadata": {
  "kernelspec": {
   "display_name": "Python 3 (ipykernel)",
   "language": "python",
   "name": "python3"
  },
  "language_info": {
   "codemirror_mode": {
    "name": "ipython",
    "version": 3
   },
   "file_extension": ".py",
   "mimetype": "text/x-python",
   "name": "python",
   "nbconvert_exporter": "python",
   "pygments_lexer": "ipython3",
   "version": "3.9.6"
  }
 },
 "nbformat": 4,
 "nbformat_minor": 5
}
