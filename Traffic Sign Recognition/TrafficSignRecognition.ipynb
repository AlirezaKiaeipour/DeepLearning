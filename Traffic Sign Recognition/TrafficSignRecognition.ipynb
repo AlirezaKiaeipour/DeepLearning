{
 "cells": [
  {
   "cell_type": "markdown",
   "metadata": {},
   "source": [
    "## Import Libraries & Load Dataset"
   ]
  },
  {
   "cell_type": "code",
   "execution_count": 1,
   "metadata": {
    "execution": {
     "iopub.execute_input": "2022-03-27T17:04:04.699341Z",
     "iopub.status.busy": "2022-03-27T17:04:04.698768Z",
     "iopub.status.idle": "2022-03-27T17:04:10.941672Z",
     "shell.execute_reply": "2022-03-27T17:04:10.940930Z",
     "shell.execute_reply.started": "2022-03-27T17:04:04.699251Z"
    }
   },
   "outputs": [],
   "source": [
    "import pandas as pd\n",
    "import numpy as np\n",
    "import cv2\n",
    "from tensorflow.keras.models import Sequential\n",
    "from tensorflow.keras.layers import Conv2D, MaxPool2D, Dense, Flatten, Dropout\n",
    "from tensorflow.keras.callbacks import ModelCheckpoint\n",
    "from sklearn.model_selection import train_test_split\n",
    "import matplotlib.pyplot as plt"
   ]
  },
  {
   "cell_type": "markdown",
   "metadata": {},
   "source": [
    "## German Traffic Sign Dataset"
   ]
  },
  {
   "cell_type": "code",
   "execution_count": 2,
   "metadata": {
    "execution": {
     "iopub.execute_input": "2022-03-27T17:04:13.048240Z",
     "iopub.status.busy": "2022-03-27T17:04:13.047557Z",
     "iopub.status.idle": "2022-03-27T17:04:13.184518Z",
     "shell.execute_reply": "2022-03-27T17:04:13.183794Z",
     "shell.execute_reply.started": "2022-03-27T17:04:13.048202Z"
    }
   },
   "outputs": [
    {
     "data": {
      "text/html": [
       "<div>\n",
       "<style scoped>\n",
       "    .dataframe tbody tr th:only-of-type {\n",
       "        vertical-align: middle;\n",
       "    }\n",
       "\n",
       "    .dataframe tbody tr th {\n",
       "        vertical-align: top;\n",
       "    }\n",
       "\n",
       "    .dataframe thead th {\n",
       "        text-align: right;\n",
       "    }\n",
       "</style>\n",
       "<table border=\"1\" class=\"dataframe\">\n",
       "  <thead>\n",
       "    <tr style=\"text-align: right;\">\n",
       "      <th></th>\n",
       "      <th>Width</th>\n",
       "      <th>Height</th>\n",
       "      <th>Roi.X1</th>\n",
       "      <th>Roi.Y1</th>\n",
       "      <th>Roi.X2</th>\n",
       "      <th>Roi.Y2</th>\n",
       "      <th>ClassId</th>\n",
       "      <th>Path</th>\n",
       "    </tr>\n",
       "  </thead>\n",
       "  <tbody>\n",
       "    <tr>\n",
       "      <th>0</th>\n",
       "      <td>27</td>\n",
       "      <td>26</td>\n",
       "      <td>5</td>\n",
       "      <td>5</td>\n",
       "      <td>22</td>\n",
       "      <td>20</td>\n",
       "      <td>20</td>\n",
       "      <td>Train/20/00020_00000_00000.png</td>\n",
       "    </tr>\n",
       "    <tr>\n",
       "      <th>1</th>\n",
       "      <td>28</td>\n",
       "      <td>27</td>\n",
       "      <td>5</td>\n",
       "      <td>6</td>\n",
       "      <td>23</td>\n",
       "      <td>22</td>\n",
       "      <td>20</td>\n",
       "      <td>Train/20/00020_00000_00001.png</td>\n",
       "    </tr>\n",
       "    <tr>\n",
       "      <th>2</th>\n",
       "      <td>29</td>\n",
       "      <td>26</td>\n",
       "      <td>6</td>\n",
       "      <td>5</td>\n",
       "      <td>24</td>\n",
       "      <td>21</td>\n",
       "      <td>20</td>\n",
       "      <td>Train/20/00020_00000_00002.png</td>\n",
       "    </tr>\n",
       "    <tr>\n",
       "      <th>3</th>\n",
       "      <td>28</td>\n",
       "      <td>27</td>\n",
       "      <td>5</td>\n",
       "      <td>6</td>\n",
       "      <td>23</td>\n",
       "      <td>22</td>\n",
       "      <td>20</td>\n",
       "      <td>Train/20/00020_00000_00003.png</td>\n",
       "    </tr>\n",
       "    <tr>\n",
       "      <th>4</th>\n",
       "      <td>28</td>\n",
       "      <td>26</td>\n",
       "      <td>5</td>\n",
       "      <td>5</td>\n",
       "      <td>23</td>\n",
       "      <td>21</td>\n",
       "      <td>20</td>\n",
       "      <td>Train/20/00020_00000_00004.png</td>\n",
       "    </tr>\n",
       "  </tbody>\n",
       "</table>\n",
       "</div>"
      ],
      "text/plain": [
       "   Width  Height  Roi.X1  Roi.Y1  Roi.X2  Roi.Y2  ClassId  \\\n",
       "0     27      26       5       5      22      20       20   \n",
       "1     28      27       5       6      23      22       20   \n",
       "2     29      26       6       5      24      21       20   \n",
       "3     28      27       5       6      23      22       20   \n",
       "4     28      26       5       5      23      21       20   \n",
       "\n",
       "                             Path  \n",
       "0  Train/20/00020_00000_00000.png  \n",
       "1  Train/20/00020_00000_00001.png  \n",
       "2  Train/20/00020_00000_00002.png  \n",
       "3  Train/20/00020_00000_00003.png  \n",
       "4  Train/20/00020_00000_00004.png  "
      ]
     },
     "execution_count": 2,
     "metadata": {},
     "output_type": "execute_result"
    }
   ],
   "source": [
    "data_train = pd.read_csv(\"../input/gtsrb-german-traffic-sign/Train.csv\")\n",
    "data_test = pd.read_csv(\"../input/gtsrb-german-traffic-sign/Test.csv\")\n",
    "data_train.head()"
   ]
  },
  {
   "cell_type": "code",
   "execution_count": 3,
   "metadata": {
    "execution": {
     "iopub.execute_input": "2022-03-27T17:04:17.298103Z",
     "iopub.status.busy": "2022-03-27T17:04:17.297374Z",
     "iopub.status.idle": "2022-03-27T17:09:10.203625Z",
     "shell.execute_reply": "2022-03-27T17:09:10.200041Z",
     "shell.execute_reply.started": "2022-03-27T17:04:17.298065Z"
    }
   },
   "outputs": [],
   "source": [
    "images_train,images_test = [],[]\n",
    "for img in data_train[\"Path\"]:\n",
    "    image = cv2.imread(f\"../input/gtsrb-german-traffic-sign/{img}\")\n",
    "    image = cv2.cvtColor(image,cv2.COLOR_BGR2RGB)\n",
    "    image = cv2.resize(image,(32,32))\n",
    "    image = image / 255.0\n",
    "    images_train.append(image)\n",
    "for img in data_test[\"Path\"]:\n",
    "    image = cv2.imread(f\"../input/gtsrb-german-traffic-sign/{img}\")\n",
    "    image = cv2.cvtColor(image,cv2.COLOR_BGR2RGB)\n",
    "    image = cv2.resize(image,(32,32))\n",
    "    image = image / 255.0\n",
    "    images_test.append(image)"
   ]
  },
  {
   "cell_type": "code",
   "execution_count": 4,
   "metadata": {
    "execution": {
     "iopub.execute_input": "2022-03-27T17:09:37.224812Z",
     "iopub.status.busy": "2022-03-27T17:09:37.224519Z",
     "iopub.status.idle": "2022-03-27T17:09:37.643013Z",
     "shell.execute_reply": "2022-03-27T17:09:37.642262Z",
     "shell.execute_reply.started": "2022-03-27T17:09:37.224775Z"
    }
   },
   "outputs": [],
   "source": [
    "X = np.array(images_train)\n",
    "Y = data_train[\"ClassId\"].values\n",
    "X_Test = np.array(images_test)\n",
    "Y_Test = data_test[\"ClassId\"].values"
   ]
  },
  {
   "cell_type": "code",
   "execution_count": 5,
   "metadata": {
    "execution": {
     "iopub.execute_input": "2022-03-27T17:09:37.928271Z",
     "iopub.status.busy": "2022-03-27T17:09:37.927932Z",
     "iopub.status.idle": "2022-03-27T17:09:38.217214Z",
     "shell.execute_reply": "2022-03-27T17:09:38.216508Z",
     "shell.execute_reply.started": "2022-03-27T17:09:37.928232Z"
    }
   },
   "outputs": [],
   "source": [
    "X_Train, X_Val, Y_Train, Y_Val = train_test_split(X,Y,test_size=0.2,random_state=42)"
   ]
  },
  {
   "cell_type": "markdown",
   "metadata": {},
   "source": [
    "# Model\n",
    "## CNN"
   ]
  },
  {
   "cell_type": "code",
   "execution_count": 11,
   "metadata": {
    "execution": {
     "iopub.execute_input": "2022-03-27T17:14:26.987022Z",
     "iopub.status.busy": "2022-03-27T17:14:26.986734Z",
     "iopub.status.idle": "2022-03-27T17:14:27.059536Z",
     "shell.execute_reply": "2022-03-27T17:14:27.058811Z",
     "shell.execute_reply.started": "2022-03-27T17:14:26.986992Z"
    }
   },
   "outputs": [],
   "source": [
    "model = Sequential()\n",
    "model.add(Conv2D(64,(3,3),activation=\"relu\",input_shape=(32,32,3)))\n",
    "model.add(MaxPool2D())\n",
    "model.add(Conv2D(128,(3,3),activation=\"relu\"))\n",
    "model.add(MaxPool2D())\n",
    "model.add(Conv2D(256,(3,3),activation=\"relu\"))\n",
    "model.add(MaxPool2D())\n",
    "model.add(Flatten())\n",
    "model.add(Dense(256,activation=\"relu\"))\n",
    "model.add(Dropout(0.2))\n",
    "model.add(Dense(128,activation=\"relu\"))\n",
    "model.add(Dropout(0.5))\n",
    "model.add(Dense(43,activation=\"softmax\"))"
   ]
  },
  {
   "cell_type": "code",
   "execution_count": 12,
   "metadata": {
    "execution": {
     "iopub.execute_input": "2022-03-27T17:14:27.892219Z",
     "iopub.status.busy": "2022-03-27T17:14:27.891968Z",
     "iopub.status.idle": "2022-03-27T17:14:27.903821Z",
     "shell.execute_reply": "2022-03-27T17:14:27.903015Z",
     "shell.execute_reply.started": "2022-03-27T17:14:27.892192Z"
    }
   },
   "outputs": [],
   "source": [
    "model.compile(optimizer=\"adam\",loss=\"sparse_categorical_crossentropy\",metrics=[\"accuracy\"])\n",
    "checkpoint = ModelCheckpoint(\"Traffic.h5\",monitor=\"val_accuracy\",mode=\"max\",save_best_only=True)"
   ]
  },
  {
   "cell_type": "code",
   "execution_count": 13,
   "metadata": {
    "execution": {
     "iopub.execute_input": "2022-03-27T17:14:28.769547Z",
     "iopub.status.busy": "2022-03-27T17:14:28.768979Z",
     "iopub.status.idle": "2022-03-27T17:18:52.092555Z",
     "shell.execute_reply": "2022-03-27T17:18:52.091773Z",
     "shell.execute_reply.started": "2022-03-27T17:14:28.769510Z"
    }
   },
   "outputs": [
    {
     "name": "stdout",
     "output_type": "stream",
     "text": [
      "Epoch 1/50\n",
      "981/981 [==============================] - 5s 4ms/step - loss: 1.6845 - accuracy: 0.5069 - val_loss: 0.2225 - val_accuracy: 0.9353\n",
      "Epoch 2/50\n",
      "981/981 [==============================] - 4s 4ms/step - loss: 0.2355 - accuracy: 0.9270 - val_loss: 0.0570 - val_accuracy: 0.9847\n",
      "Epoch 3/50\n",
      "981/981 [==============================] - 4s 4ms/step - loss: 0.1029 - accuracy: 0.9691 - val_loss: 0.0636 - val_accuracy: 0.9807\n",
      "Epoch 4/50\n",
      "981/981 [==============================] - 4s 4ms/step - loss: 0.0751 - accuracy: 0.9792 - val_loss: 0.0267 - val_accuracy: 0.9925\n",
      "Epoch 5/50\n",
      "981/981 [==============================] - 4s 5ms/step - loss: 0.0601 - accuracy: 0.9833 - val_loss: 0.0284 - val_accuracy: 0.9923\n",
      "Epoch 6/50\n",
      "981/981 [==============================] - 4s 4ms/step - loss: 0.0449 - accuracy: 0.9866 - val_loss: 0.0804 - val_accuracy: 0.9821\n",
      "Epoch 7/50\n",
      "981/981 [==============================] - 4s 4ms/step - loss: 0.0415 - accuracy: 0.9882 - val_loss: 0.0312 - val_accuracy: 0.9930\n",
      "Epoch 8/50\n",
      "981/981 [==============================] - 4s 4ms/step - loss: 0.0326 - accuracy: 0.9910 - val_loss: 0.0365 - val_accuracy: 0.9906\n",
      "Epoch 9/50\n",
      "981/981 [==============================] - 4s 4ms/step - loss: 0.0409 - accuracy: 0.9896 - val_loss: 0.0226 - val_accuracy: 0.9949\n",
      "Epoch 10/50\n",
      "981/981 [==============================] - 4s 4ms/step - loss: 0.0311 - accuracy: 0.9908 - val_loss: 0.0327 - val_accuracy: 0.9913\n",
      "Epoch 11/50\n",
      "981/981 [==============================] - 4s 5ms/step - loss: 0.0276 - accuracy: 0.9923 - val_loss: 0.0401 - val_accuracy: 0.9912\n",
      "Epoch 12/50\n",
      "981/981 [==============================] - 4s 4ms/step - loss: 0.0352 - accuracy: 0.9906 - val_loss: 0.0506 - val_accuracy: 0.9895\n",
      "Epoch 13/50\n",
      "981/981 [==============================] - 5s 5ms/step - loss: 0.0262 - accuracy: 0.9929 - val_loss: 0.0235 - val_accuracy: 0.9949\n",
      "Epoch 14/50\n",
      "981/981 [==============================] - 4s 4ms/step - loss: 0.0323 - accuracy: 0.9921 - val_loss: 0.0362 - val_accuracy: 0.9917\n",
      "Epoch 15/50\n",
      "981/981 [==============================] - 4s 4ms/step - loss: 0.0258 - accuracy: 0.9937 - val_loss: 0.0270 - val_accuracy: 0.9938\n",
      "Epoch 16/50\n",
      "981/981 [==============================] - 4s 4ms/step - loss: 0.0240 - accuracy: 0.9937 - val_loss: 0.0205 - val_accuracy: 0.9955\n",
      "Epoch 17/50\n",
      "981/981 [==============================] - 4s 4ms/step - loss: 0.0221 - accuracy: 0.9945 - val_loss: 0.0312 - val_accuracy: 0.9943\n",
      "Epoch 18/50\n",
      "981/981 [==============================] - 4s 4ms/step - loss: 0.0289 - accuracy: 0.9926 - val_loss: 0.0354 - val_accuracy: 0.9941\n",
      "Epoch 19/50\n",
      "981/981 [==============================] - 4s 4ms/step - loss: 0.0289 - accuracy: 0.9926 - val_loss: 0.0300 - val_accuracy: 0.9955\n",
      "Epoch 20/50\n",
      "981/981 [==============================] - 4s 4ms/step - loss: 0.0171 - accuracy: 0.9960 - val_loss: 0.0284 - val_accuracy: 0.9948\n",
      "Epoch 21/50\n",
      "981/981 [==============================] - 4s 4ms/step - loss: 0.0316 - accuracy: 0.9931 - val_loss: 0.0239 - val_accuracy: 0.9945\n",
      "Epoch 22/50\n",
      "981/981 [==============================] - 4s 4ms/step - loss: 0.0232 - accuracy: 0.9944 - val_loss: 0.0492 - val_accuracy: 0.9918\n",
      "Epoch 23/50\n",
      "981/981 [==============================] - 4s 4ms/step - loss: 0.0212 - accuracy: 0.9950 - val_loss: 0.0216 - val_accuracy: 0.9972\n",
      "Epoch 24/50\n",
      "981/981 [==============================] - 4s 4ms/step - loss: 0.0246 - accuracy: 0.9946 - val_loss: 0.0300 - val_accuracy: 0.9953\n",
      "Epoch 25/50\n",
      "981/981 [==============================] - 4s 4ms/step - loss: 0.0229 - accuracy: 0.9951 - val_loss: 0.0221 - val_accuracy: 0.9952\n",
      "Epoch 26/50\n",
      "981/981 [==============================] - 4s 4ms/step - loss: 0.0346 - accuracy: 0.9932 - val_loss: 0.0371 - val_accuracy: 0.9932\n",
      "Epoch 27/50\n",
      "981/981 [==============================] - 4s 4ms/step - loss: 0.0188 - accuracy: 0.9955 - val_loss: 0.0296 - val_accuracy: 0.9952\n",
      "Epoch 28/50\n",
      "981/981 [==============================] - 4s 5ms/step - loss: 0.0184 - accuracy: 0.9964 - val_loss: 0.0304 - val_accuracy: 0.9955\n",
      "Epoch 29/50\n",
      "981/981 [==============================] - 4s 4ms/step - loss: 0.0273 - accuracy: 0.9941 - val_loss: 0.0368 - val_accuracy: 0.9944\n",
      "Epoch 30/50\n",
      "981/981 [==============================] - 4s 4ms/step - loss: 0.0137 - accuracy: 0.9964 - val_loss: 0.0293 - val_accuracy: 0.9955\n",
      "Epoch 31/50\n",
      "981/981 [==============================] - 4s 4ms/step - loss: 0.0260 - accuracy: 0.9950 - val_loss: 0.0437 - val_accuracy: 0.9936\n",
      "Epoch 32/50\n",
      "981/981 [==============================] - 4s 5ms/step - loss: 0.0154 - accuracy: 0.9968 - val_loss: 0.0313 - val_accuracy: 0.9945\n",
      "Epoch 33/50\n",
      "981/981 [==============================] - 4s 4ms/step - loss: 0.0256 - accuracy: 0.9951 - val_loss: 0.1373 - val_accuracy: 0.9781\n",
      "Epoch 34/50\n",
      "981/981 [==============================] - 4s 4ms/step - loss: 0.0340 - accuracy: 0.9934 - val_loss: 0.0403 - val_accuracy: 0.9938\n",
      "Epoch 35/50\n",
      "981/981 [==============================] - 4s 4ms/step - loss: 0.0145 - accuracy: 0.9968 - val_loss: 0.0308 - val_accuracy: 0.9946\n",
      "Epoch 36/50\n",
      "981/981 [==============================] - 4s 4ms/step - loss: 0.0304 - accuracy: 0.9949 - val_loss: 0.0324 - val_accuracy: 0.9962\n",
      "Epoch 37/50\n",
      "981/981 [==============================] - 4s 4ms/step - loss: 0.0328 - accuracy: 0.9941 - val_loss: 0.0400 - val_accuracy: 0.9953\n",
      "Epoch 38/50\n",
      "981/981 [==============================] - 4s 4ms/step - loss: 0.0143 - accuracy: 0.9969 - val_loss: 0.0416 - val_accuracy: 0.9960\n",
      "Epoch 39/50\n",
      "981/981 [==============================] - 4s 4ms/step - loss: 0.0203 - accuracy: 0.9960 - val_loss: 0.0361 - val_accuracy: 0.9954\n",
      "Epoch 40/50\n",
      "981/981 [==============================] - 4s 4ms/step - loss: 0.0150 - accuracy: 0.9968 - val_loss: 0.0592 - val_accuracy: 0.9932\n",
      "Epoch 41/50\n",
      "981/981 [==============================] - 4s 4ms/step - loss: 0.0296 - accuracy: 0.9952 - val_loss: 0.0325 - val_accuracy: 0.9959\n",
      "Epoch 42/50\n",
      "981/981 [==============================] - 4s 4ms/step - loss: 0.0321 - accuracy: 0.9946 - val_loss: 0.0403 - val_accuracy: 0.9932\n",
      "Epoch 43/50\n",
      "981/981 [==============================] - 4s 4ms/step - loss: 0.0172 - accuracy: 0.9965 - val_loss: 0.0415 - val_accuracy: 0.9952\n",
      "Epoch 44/50\n",
      "981/981 [==============================] - 4s 4ms/step - loss: 0.0173 - accuracy: 0.9967 - val_loss: 0.0487 - val_accuracy: 0.9940\n",
      "Epoch 45/50\n",
      "981/981 [==============================] - 4s 4ms/step - loss: 0.0217 - accuracy: 0.9960 - val_loss: 0.0465 - val_accuracy: 0.9922\n",
      "Epoch 46/50\n",
      "981/981 [==============================] - 4s 4ms/step - loss: 0.0233 - accuracy: 0.9958 - val_loss: 0.0295 - val_accuracy: 0.9958\n",
      "Epoch 47/50\n",
      "981/981 [==============================] - 4s 4ms/step - loss: 0.0145 - accuracy: 0.9968 - val_loss: 0.0427 - val_accuracy: 0.9946\n",
      "Epoch 48/50\n",
      "981/981 [==============================] - 4s 4ms/step - loss: 0.0351 - accuracy: 0.9949 - val_loss: 0.0428 - val_accuracy: 0.9936\n",
      "Epoch 49/50\n",
      "981/981 [==============================] - 4s 4ms/step - loss: 0.0159 - accuracy: 0.9971 - val_loss: 0.0299 - val_accuracy: 0.9950\n",
      "Epoch 50/50\n",
      "981/981 [==============================] - 4s 4ms/step - loss: 0.0242 - accuracy: 0.9960 - val_loss: 0.0388 - val_accuracy: 0.9944\n"
     ]
    }
   ],
   "source": [
    "history = model.fit(X_Train,\n",
    "                    Y_Train,\n",
    "                    epochs=50,\n",
    "                    validation_data=(X_Val,Y_Val),\n",
    "                    batch_size=32,\n",
    "                    callbacks=[checkpoint])"
   ]
  },
  {
   "cell_type": "code",
   "execution_count": 14,
   "metadata": {
    "execution": {
     "iopub.execute_input": "2022-03-27T17:18:52.094865Z",
     "iopub.status.busy": "2022-03-27T17:18:52.094505Z",
     "iopub.status.idle": "2022-03-27T17:18:52.410156Z",
     "shell.execute_reply": "2022-03-27T17:18:52.409452Z",
     "shell.execute_reply.started": "2022-03-27T17:18:52.094826Z"
    }
   },
   "outputs": [
    {
     "data": {
      "image/png": "[encoded data removed]",
      "text/plain": [
       "<Figure size 1296x360 with 2 Axes>"
      ]
     },
     "metadata": {
      "needs_background": "light"
     },
     "output_type": "display_data"
    }
   ],
   "source": [
    "fig , (ax1,ax2) = plt.subplots(1,2,figsize=(18,5))\n",
    "ax1.set_title(\"Loss\")\n",
    "ax2.set_title(\"Accuracy\")\n",
    "ax1.plot(history.history[\"loss\"],label=\"Train\",marker=\".\")\n",
    "ax1.plot(history.history[\"val_loss\"],label=\"Test\",marker=\".\")\n",
    "ax2.plot(history.history[\"accuracy\"],label=\"Train\",marker=\".\")\n",
    "ax2.plot(history.history[\"val_accuracy\"],label=\"Test\",marker=\".\")\n",
    "ax1.legend()\n",
    "ax2.legend()\n",
    "plt.show()"
   ]
  },
  {
   "cell_type": "code",
   "execution_count": 15,
   "metadata": {
    "execution": {
     "iopub.execute_input": "2022-03-27T17:18:52.411701Z",
     "iopub.status.busy": "2022-03-27T17:18:52.411451Z",
     "iopub.status.idle": "2022-03-27T17:18:53.989409Z",
     "shell.execute_reply": "2022-03-27T17:18:53.988665Z",
     "shell.execute_reply.started": "2022-03-27T17:18:52.411667Z"
    }
   },
   "outputs": [
    {
     "name": "stdout",
     "output_type": "stream",
     "text": [
      "395/395 [==============================] - 1s 3ms/step - loss: 0.4323 - accuracy: 0.9637\n"
     ]
    },
    {
     "data": {
      "text/plain": [
       "[0.43231087923049927, 0.9637371301651001]"
      ]
     },
     "execution_count": 15,
     "metadata": {},
     "output_type": "execute_result"
    }
   ],
   "source": [
    "model.evaluate(X_Test,Y_Test)"
   ]
  }
 ],
 "metadata": {
  "kernelspec": {
   "display_name": "Python 3 (ipykernel)",
   "language": "python",
   "name": "python3"
  },
  "language_info": {
   "codemirror_mode": {
    "name": "ipython",
    "version": 3
   },
   "file_extension": ".py",
   "mimetype": "text/x-python",
   "name": "python",
   "nbconvert_exporter": "python",
   "pygments_lexer": "ipython3",
   "version": "3.9.6"
  }
 },
 "nbformat": 4,
 "nbformat_minor": 4
}
